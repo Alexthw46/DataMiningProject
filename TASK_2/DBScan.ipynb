{
 "cells": [
  {
   "cell_type": "code",
   "execution_count": null,
   "outputs": [],
   "source": [
    "# import the necessary packages\n",
    "\n",
    "import numpy as np\n",
    "import pandas as pd\n",
    "import sklearn as sk\n",
    "import matplotlib.pyplot as plt\n",
    "from sklearn.preprocessing import MinMaxScaler, StandardScaler\n",
    "from sklearn.cluster import DBSCAN\n",
    "from sklearn.metrics import silhouette_score\n",
    "import seaborn as sns\n"
   ],
   "metadata": {
    "collapsed": false
   },
   "id": "c00c354fdffc9f03"
  },
  {
   "cell_type": "markdown",
   "source": [
    "# DBSCAN algorithm\n",
    "We perform the density-based clustering using DBSCAN (Density-Based Spatial Clustering of Applications with Noise) algorithm.\n",
    "It has only two parameters...\n",
    "\n",
    "- eps: The maximum distance between two samples for them to be considered as in the same neighborhood.\n",
    "- min_samples: the minimum number of points needed to create a cluster.\n",
    "... and one output:\n",
    "- cluster labels for each point in the dataset. Noisy samples are given the label -1.\n",
    "\n",
    "## Pre-processing\n",
    "We will use the normalized dataset with Min-Max approach to perform DBSCAN."
   ],
   "metadata": {
    "collapsed": false
   },
   "id": "6db6d4f5fe2c71bc"
  },
  {
   "cell_type": "code",
   "execution_count": null,
   "id": "539b3a5521021589",
   "metadata": {
    "collapsed": true
   },
   "outputs": [],
   "source": [
    "df = pd.read_csv('../data/extracted_features.csv')\n",
    "\n",
    "standard = StandardScaler()\n",
    "minmax = MinMaxScaler()\n",
    "\n",
    "#pick the California data\n",
    "df = df[df['state'] == 'California']\n",
    "df = df.dropna(subset=['avg_age_participants', 'n_involved', 'n_minors', 'kills_to_pov' ,'category_index'])\n",
    "\n",
    "# plot correlation matrix to see if there is any feature to drop\n",
    "plt.figure(figsize=(10, 8))\n",
    "correlation_matrix = df.select_dtypes(include='number').corr()\n",
    "sns.heatmap(correlation_matrix, annot=False, cmap='coolwarm', fmt='.2f', linewidths=.5, annot_kws={\"size\": 10})"
   ]
  },
  {
   "cell_type": "code",
   "execution_count": null,
   "outputs": [],
   "source": [
    "df[['avg_age_participants', 'n_involved', 'n_minors', 'category_index','kills_to_pov']].info()"
   ],
   "metadata": {
    "collapsed": false
   },
   "id": "99ab47f0ca5bdac3"
  },
  {
   "cell_type": "code",
   "execution_count": null,
   "outputs": [],
   "source": [
    "\n",
    "new_df = df[['avg_age_participants', 'n_involved', 'n_minors', 'category_index', 'kills_to_pov']]\n",
    "\n",
    "\n",
    "\n",
    "# remove highly correlated features\n",
    "\n",
    "# scale the data\n",
    "ss_scaled = standard.fit_transform(new_df)\n",
    "mm_scaled = minmax.fit_transform(new_df)"
   ],
   "metadata": {
    "collapsed": false
   },
   "id": "initial_id"
  },
  {
   "cell_type": "code",
   "execution_count": null,
   "outputs": [],
   "source": [],
   "metadata": {
    "collapsed": false
   },
   "id": "25b0e221bc4c439a"
  },
  {
   "cell_type": "markdown",
   "source": [],
   "metadata": {
    "collapsed": false
   },
   "id": "b66d833210a5b54a"
  },
  {
   "cell_type": "code",
   "execution_count": null,
   "outputs": [],
   "source": [
    "from scipy.spatial.distance import pdist, squareform\n",
    "import tqdm\n",
    "\n",
    "def calc_k_nn_dist_graph(X, ub=0., lb=0.):\n",
    "    # List of k (for k-th nearest neighbour)\n",
    "    k_list = [5, 10, 15]\n",
    "\n",
    "    dist = pdist(X, 'euclidean')  # Pairwise distance\n",
    "    dist = squareform(dist)  # Distance matrix given the vector dist\n",
    "    \n",
    "    # Calculate sorted list of distances for points for each k\n",
    "    for k in k_list:\n",
    "        kth_distances = []\n",
    "        for d in dist:\n",
    "            index_kth_distance = np.argsort(d)[k]\n",
    "            kth_distances.append(d[index_kth_distance])\n",
    " \n",
    "        # Plot the graph of distance from k-th nearest neighbour\n",
    "        plt.figure(figsize=(8, 6))\n",
    "        plt.plot(range(0, len(kth_distances)), sorted(kth_distances))\n",
    "        plt.ylabel('dist from %sth neighbor' % k, fontsize=18)\n",
    "        plt.xlabel('sorted distances', fontsize=18)\n",
    "        plt.tick_params(axis='both', which='major', labelsize=12)\n",
    "        plt.grid()\n",
    "        plt.axhline(ub)\n",
    "        plt.axhline(lb)\n",
    "        plt.show()\n",
    "        \n",
    "def db_scan_function(X, eps_list, minpts_list):\n",
    "    # Table with dim = len(eps_list) x len(minpts_list)\n",
    "    clustering_results = []\n",
    "\n",
    "    # Total number of combinations\n",
    "    total_combinations = len(eps_list) * len(minpts_list)\n",
    "    current_combination = 0\n",
    "\n",
    "    # Iterate over eps (rows)\n",
    "    for eps in eps_list:\n",
    "        minpts_results = []\n",
    "        \n",
    "        # Iterate over minpts\n",
    "        for minpts in minpts_list:\n",
    "            dbscan = DBSCAN(eps=eps, min_samples=minpts, n_jobs=-1)\n",
    "            dbscan.fit(X)  # Fit the DBSCAN model to the data\n",
    "            minpts_results.append(dbscan)  # Store the DBSCAN model\n",
    "            \n",
    "            # Update progress\n",
    "            current_combination += 1\n",
    "            print(f\"Progress: {current_combination}/{total_combinations}\")\n",
    "\n",
    "        clustering_results.append(minpts_results)\n",
    "\n",
    "    return clustering_results    \n",
    "\n",
    "def print_dbscan(dbscan_table, eps_values, min_samples, dataframe):\n",
    "    data = []\n",
    "    columns = ['eps\\\\minpts'] + [str(minpt) for minpt in min_samples]\n",
    "\n",
    "    for i, eps in enumerate(eps_values):\n",
    "        row_data = [str(eps)]\n",
    "        for j, minpts in enumerate(min_samples):\n",
    "            dbscan = dbscan_table[i][j]\n",
    "    \n",
    "            try:  # Exception in case of num_clusters=1\n",
    "                silhouette = round(silhouette_score(dataframe, dbscan.labels_), 2)\n",
    "            except:\n",
    "                silhouette = np.nan\n",
    "            cell_str = str(silhouette) + '-n_clust:' + str(len(np.unique(dbscan.labels_)) - 1)\n",
    "            row_data.append(cell_str)\n",
    "\n",
    "        data.append(row_data)\n",
    "\n",
    "    return pd.DataFrame(data, columns=columns)\n"
   ],
   "metadata": {
    "collapsed": false
   },
   "id": "3cff27f6a97ca562"
  },
  {
   "cell_type": "code",
   "execution_count": null,
   "outputs": [],
   "source": [
    "# values of min_samples to try\n",
    "min_samples = range(5, 30, 5)"
   ],
   "metadata": {
    "collapsed": false
   },
   "id": "f3aff61c673183e6"
  },
  {
   "cell_type": "code",
   "execution_count": null,
   "outputs": [],
   "source": [
    "\n",
    "# values of eps to try\n",
    "eps_values = np.linspace(0.05, 0.5, 20)\n",
    "\n",
    "#repeat the same for standard scaled data\n",
    "calc_k_nn_dist_graph(ss_scaled, 0.1, 0.5)\n",
    "\n",
    "dbscan_table = db_scan_function(ss_scaled, eps_values, min_samples)\n",
    "scalar_result = print_dbscan(dbscan_table, eps_values, min_samples, ss_scaled)"
   ],
   "metadata": {
    "collapsed": false
   },
   "id": "38da9c0a576b319e"
  },
  {
   "cell_type": "code",
   "execution_count": null,
   "outputs": [],
   "source": [
    "# values of eps to try\n",
    "eps_values = np.linspace(0.005, 0.15, 10)"
   ],
   "metadata": {
    "collapsed": false
   },
   "id": "4bacad9e6ec5cc7e"
  },
  {
   "cell_type": "code",
   "execution_count": null,
   "outputs": [],
   "source": [
    "calc_k_nn_dist_graph(mm_scaled, 0.01, 0.1)"
   ],
   "metadata": {
    "collapsed": false
   },
   "id": "9a9bc47f3cffb947"
  },
  {
   "cell_type": "code",
   "execution_count": null,
   "outputs": [],
   "source": [
    "dbscan_table = db_scan_function(mm_scaled, eps_values, min_samples)\n",
    "minmax_result = print_dbscan(dbscan_table, eps_values, min_samples, mm_scaled)"
   ],
   "metadata": {
    "collapsed": false
   },
   "id": "bd93a06a6f61c821"
  },
  {
   "cell_type": "code",
   "execution_count": null,
   "outputs": [],
   "source": [
    "scalar_result"
   ],
   "metadata": {
    "collapsed": false
   },
   "id": "f3c0929307d7c6c7"
  },
  {
   "cell_type": "code",
   "execution_count": null,
   "outputs": [],
   "source": [
    "minmax_result"
   ],
   "metadata": {
    "collapsed": false
   },
   "id": "a1a7d3cc2969bea9"
  },
  {
   "cell_type": "markdown",
   "source": [],
   "metadata": {
    "collapsed": false
   },
   "id": "44ea2b8ad9bc087a"
  },
  {
   "cell_type": "code",
   "execution_count": null,
   "outputs": [],
   "source": [
    "# test the best parameters for the DBSCAN algorithm\n",
    "silhouette_scores = []\n",
    "parameter_combinations = []\n",
    "\n",
    "best_score = -1  # Initialize best silhouette score\n",
    "best_params = {'eps': None, 'min_samples': None}\n",
    "for eps in eps_values:\n",
    "    for min_sample in min_samples:\n",
    "        dbscan = DBSCAN(eps=eps, min_samples=min_sample)\n",
    "        labels = dbscan.fit_predict(mm_scaled)\n",
    "\n",
    "        unique_labels = np.unique(labels)\n",
    "        if len(unique_labels) < 3 or len(unique_labels) > 40: continue\n",
    "        silhouette = silhouette_score(mm_scaled, labels)\n",
    "        print(\n",
    "            f\"Number of clusters: {len(unique_labels)}, eps: {eps}, min_samples: {min_sample} , Silhouette score: {silhouette}\")\n",
    "        silhouette_scores.append(silhouette)\n",
    "        parameter_combinations.append((eps, min_sample))\n",
    "\n",
    "# Plotting the results\n",
    "silhouette_scores = np.array(silhouette_scores)\n",
    "parameter_combinations = np.array(parameter_combinations)\n"
   ],
   "metadata": {
    "collapsed": false
   },
   "id": "3abf8525c124cde1"
  },
  {
   "cell_type": "code",
   "execution_count": null,
   "outputs": [],
   "source": [
    "plt.figure(figsize=(10, 6))\n",
    "plt.scatter(parameter_combinations[:, 0], parameter_combinations[:, 1], c=silhouette_scores, cmap='viridis', s=100)\n",
    "plt.colorbar(label='Silhouette Score')\n",
    "plt.xlabel('Epsilon (eps)')\n",
    "plt.ylabel('Min Samples')\n",
    "plt.title('Silhouette Scores for Different Parameter Combinations')\n",
    "plt.grid(True)\n",
    "plt.show()\n",
    "\n",
    "eps_values = parameter_combinations[:, 0]\n",
    "min_samples_values = parameter_combinations[:, 1]\n",
    "\n",
    "fig = plt.figure(figsize=(10, 8))\n",
    "ax = fig.add_subplot(111, projection='3d')\n",
    "\n",
    "ax.scatter(eps_values, min_samples_values, silhouette_scores, c=silhouette_scores, cmap='viridis')\n",
    "ax.set_xlabel('Eps Values')\n",
    "ax.set_ylabel('Min Samples')\n",
    "ax.set_zlabel('Silhouette Score')\n",
    "ax.set_title('Silhouette Scores for DBSCAN Parameter Combinations')\n",
    "\n",
    "plt.show()"
   ],
   "metadata": {
    "collapsed": false
   },
   "id": "d1fab59ddff2f4b9"
  },
  {
   "cell_type": "code",
   "execution_count": null,
   "outputs": [],
   "source": [
    "best_score_index = np.argmax(silhouette_scores)  # Get the index of the maximum silhouette score\n",
    "best_params = parameter_combinations[best_score_index]  # Retrieve parameters corresponding to the best score\n",
    "\n",
    "best_eps, best_min_samples = best_params  # Unpack the best parameters\n",
    "\n",
    "best_score = silhouette_scores[best_score_index]  # Get the best silhouette score\n",
    "\n",
    "# Print the best silhouette score and corresponding parameters\n",
    "print(f\"Best Silhouette Score: {best_score}\")\n",
    "print(f\"Best Parameters - eps: {best_eps}, min_samples: {best_min_samples}\")"
   ],
   "metadata": {
    "collapsed": false
   },
   "id": "2fea70a4ed1d5117"
  },
  {
   "cell_type": "code",
   "execution_count": null,
   "outputs": [],
   "source": [
    "dbscan = DBSCAN(eps=best_eps, min_samples=int(best_min_samples))\n",
    "cluster_labels = dbscan.fit_predict(mm_scaled)\n",
    "selected_data = new_df.copy()\n",
    "selected_data['cluster_labels'] = cluster_labels\n",
    "sns.pairplot(selected_data, hue='cluster_labels', palette='viridis')\n",
    "plt.suptitle('Pairplot of Features with Cluster Labels')\n",
    "plt.show()"
   ],
   "metadata": {
    "collapsed": false
   },
   "id": "c2d7546982ba07d6"
  },
  {
   "cell_type": "code",
   "execution_count": null,
   "outputs": [],
   "source": [
    "if False:\n",
    "    dbscan = DBSCAN(eps=0.3, min_samples=15)\n",
    "    cluster_labels = dbscan.fit_predict(ss_scaled)\n",
    "    selected_data = new_df.copy()\n",
    "    selected_data['cluster_labels'] = cluster_labels\n",
    "    sns.pairplot(selected_data, hue='cluster_labels', palette='viridis')\n",
    "    plt.suptitle('Pairplot of Features with Cluster Labels')\n",
    "    plt.show()"
   ],
   "metadata": {
    "collapsed": false
   },
   "id": "304d605c3ccd6f4"
  },
  {
   "cell_type": "code",
   "execution_count": null,
   "outputs": [],
   "source": [
    "\n"
   ],
   "metadata": {
    "collapsed": false
   },
   "id": "3c8dd3c29a764f4e"
  },
  {
   "cell_type": "code",
   "execution_count": null,
   "outputs": [],
   "source": [
    "import plotly.express as px\n",
    "\n",
    "#remove data with -1 label\n",
    "selected_data = selected_data[selected_data['cluster_labels'] != -1]\n",
    "\n",
    "selected_data.head()\n",
    "fig = px.scatter_mapbox(\n",
    "    pd.merge(selected_data, df, how=\"right\"), lat='latitude', lon='longitude',\n",
    "    color='cluster_labels', mapbox_style=\"carto-positron\",\n",
    "    zoom=3, width=1000, height=600\n",
    ")\n",
    "fig.show()"
   ],
   "metadata": {
    "collapsed": false
   },
   "id": "dcb224700f1d221e"
  },
  {
   "cell_type": "code",
   "execution_count": null,
   "outputs": [],
   "source": [],
   "metadata": {
    "collapsed": false
   },
   "id": "5311268668377ffc"
  }
 ],
 "metadata": {
  "kernelspec": {
   "display_name": "Python 3",
   "language": "python",
   "name": "python3"
  },
  "language_info": {
   "codemirror_mode": {
    "name": "ipython",
    "version": 2
   },
   "file_extension": ".py",
   "mimetype": "text/x-python",
   "name": "python",
   "nbconvert_exporter": "python",
   "pygments_lexer": "ipython2",
   "version": "2.7.6"
  }
 },
 "nbformat": 4,
 "nbformat_minor": 5
}
