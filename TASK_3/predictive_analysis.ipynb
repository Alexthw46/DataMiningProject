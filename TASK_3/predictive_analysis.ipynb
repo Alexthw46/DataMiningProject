{
 "cells": [
  {
   "cell_type": "code",
   "execution_count": 1,
   "outputs": [
    {
     "name": "stdout",
     "output_type": "stream",
     "text": [
      "WARNING:tensorflow:From C:\\Users\\alext\\Desktop\\UniProjs\\venv\\lib\\site-packages\\keras\\src\\losses.py:2976: The name tf.losses.sparse_softmax_cross_entropy is deprecated. Please use tf.compat.v1.losses.sparse_softmax_cross_entropy instead.\n"
     ]
    }
   ],
   "source": [
    "from sklearn.preprocessing import StandardScaler\n",
    "from sklearn.model_selection import train_test_split\n",
    "from matplotlib import pyplot as plt\n",
    "from sklearn.metrics import classification_report\n",
    "from classifiers import grid_search"
   ],
   "metadata": {
    "collapsed": false,
    "ExecuteTime": {
     "end_time": "2023-12-19T11:21:38.603983400Z",
     "start_time": "2023-12-19T11:21:35.216128400Z"
    }
   },
   "id": "472bef9c925d68b2"
  },
  {
   "cell_type": "markdown",
   "source": [
    "Load the dataset and select the features and target to use for the classification."
   ],
   "metadata": {
    "collapsed": false
   },
   "id": "b24e39b5927cc9d5"
  },
  {
   "cell_type": "code",
   "execution_count": 2,
   "outputs": [],
   "source": [
    "import pandas as pd\n",
    "\n",
    "df = pd.read_csv('../data/new_incidents.csv')\n",
    "\n",
    "# drop useless columns\n",
    "df = df.drop(columns=['notes', 'date'])\n",
    "\n",
    "poverty_df = pd.read_csv('../data/poverty_cleaned.csv')\n",
    "df = df.merge(poverty_df, on=['state', 'year'])"
   ],
   "metadata": {
    "collapsed": false,
    "ExecuteTime": {
     "end_time": "2023-12-19T11:21:39.109877600Z",
     "start_time": "2023-12-19T11:21:38.600973Z"
    }
   },
   "id": "e470a010423fd494"
  },
  {
   "cell_type": "code",
   "execution_count": 3,
   "outputs": [],
   "source": [
    "# convert state string to int\n",
    "df['state'] = df['state'].astype('category')\n",
    "df['state'] = df['state'].cat.codes\n",
    "\n",
    "df['city_or_county'] = df['city_or_county'].astype('category')\n",
    "df['city_or_county'] = df['city_or_county'].cat.codes\n",
    "\n",
    "df['incident_category'] = df['incident_category'].astype('category')\n",
    "df['incident_category'] = df['incident_category'].cat.codes\n",
    "\n",
    "df[\"any_killed\"] = df[\"n_killed\"] > 0\n",
    "\n",
    "df = df.dropna()"
   ],
   "metadata": {
    "collapsed": false,
    "ExecuteTime": {
     "end_time": "2023-12-19T11:21:39.173097700Z",
     "start_time": "2023-12-19T11:21:39.110881600Z"
    }
   },
   "id": "76f7e66425f0f251"
  },
  {
   "cell_type": "code",
   "execution_count": 4,
   "outputs": [
    {
     "name": "stdout",
     "output_type": "stream",
     "text": [
      "<class 'pandas.core.frame.DataFrame'>\n",
      "Index: 159432 entries, 0 to 183652\n",
      "Data columns (total 37 columns):\n",
      " #   Column                  Non-Null Count   Dtype  \n",
      "---  ------                  --------------   -----  \n",
      " 0   state                   159432 non-null  int8   \n",
      " 1   city_or_county          159432 non-null  int16  \n",
      " 2   latitude                159432 non-null  float64\n",
      " 3   longitude               159432 non-null  float64\n",
      " 4   congressional_district  159432 non-null  float64\n",
      " 5   avg_age_participants    159432 non-null  float64\n",
      " 6   n_participants_adult    159432 non-null  float64\n",
      " 7   n_males                 159432 non-null  float64\n",
      " 8   n_females               159432 non-null  float64\n",
      " 9   n_killed                159432 non-null  int64  \n",
      " 10  n_injured               159432 non-null  int64  \n",
      " 11  n_arrested              159432 non-null  int64  \n",
      " 12  n_unharmed              159432 non-null  int64  \n",
      " 13  n_participants          159432 non-null  int64  \n",
      " 14  year                    159432 non-null  int64  \n",
      " 15  month                   159432 non-null  int64  \n",
      " 16  day                     159432 non-null  int64  \n",
      " 17  incident_category       159432 non-null  int8   \n",
      " 18  kills_to_pov            159432 non-null  float64\n",
      " 19  age_to_average          159432 non-null  float64\n",
      " 20  avg_participants        159432 non-null  float64\n",
      " 21  par_to_average          159432 non-null  float64\n",
      " 22  n_involved              159432 non-null  int64  \n",
      " 23  minors_to_pop           159432 non-null  float64\n",
      " 24  par_to_pop              159432 non-null  float64\n",
      " 25  kil_to_p                159432 non-null  float64\n",
      " 26  man_to_p                159432 non-null  float64\n",
      " 27  fem_to_p                159432 non-null  float64\n",
      " 28  arr_to_p                159432 non-null  float64\n",
      " 29  unh_to_p                159432 non-null  float64\n",
      " 30  inj_to_p                159432 non-null  float64\n",
      " 31  n_minors                159432 non-null  float64\n",
      " 32  teen_to_m               159432 non-null  float64\n",
      " 33  teen_to_f               159432 non-null  float64\n",
      " 34  par_to_tot              159432 non-null  float64\n",
      " 35  povertyPercentage       159432 non-null  float64\n",
      " 36  any_killed              159432 non-null  bool   \n",
      "dtypes: bool(1), float64(24), int16(1), int64(9), int8(2)\n",
      "memory usage: 42.1 MB\n"
     ]
    }
   ],
   "source": [
    "df.info()"
   ],
   "metadata": {
    "collapsed": false,
    "ExecuteTime": {
     "end_time": "2023-12-19T11:21:39.212266300Z",
     "start_time": "2023-12-19T11:21:39.173097700Z"
    }
   },
   "id": "415009f3880f00c8"
  },
  {
   "cell_type": "code",
   "execution_count": 5,
   "outputs": [],
   "source": [
    "input_columns = ['state', 'longitude', 'latitude', 'year', 'month', 'n_participants',\n",
    "                 'n_participants_adult', 'n_minors',\n",
    "                 'n_males', 'n_females',\n",
    "                 'povertyPercentage', 'n_arrested', 'n_injured']\n",
    "\n",
    "target_column = ['any_killed']\n",
    "\n",
    "X = df[input_columns]\n",
    "y = df[target_column]"
   ],
   "metadata": {
    "collapsed": false,
    "ExecuteTime": {
     "end_time": "2023-12-19T11:21:39.226315700Z",
     "start_time": "2023-12-19T11:21:39.205242300Z"
    }
   },
   "id": "ccf8a6c09207fdb"
  },
  {
   "cell_type": "code",
   "execution_count": 6,
   "outputs": [
    {
     "data": {
      "text/plain": "<Figure size 640x480 with 1 Axes>",
      "image/png": "[encoded data removed]"
     },
     "metadata": {},
     "output_type": "display_data"
    }
   ],
   "source": [
    "kill_value_count = df['any_killed'].value_counts()\n",
    "\n",
    "labels = ['no_killed', 'any_killed']\n",
    "plt.pie(kill_value_count, labels=labels)\n",
    "plt.show()"
   ],
   "metadata": {
    "collapsed": false,
    "ExecuteTime": {
     "end_time": "2023-12-19T11:21:39.287544700Z",
     "start_time": "2023-12-19T11:21:39.220294200Z"
    }
   },
   "id": "9908b266abfeffa0"
  },
  {
   "cell_type": "markdown",
   "source": [
    "Split the dataset into dev and test sets, then into train and validation (70/15/15). "
   ],
   "metadata": {
    "collapsed": false
   },
   "id": "3dbc5989d2002a13"
  },
  {
   "cell_type": "code",
   "execution_count": 7,
   "outputs": [
    {
     "name": "stdout",
     "output_type": "stream",
     "text": [
      "Dev set size: 135517 - Killing ratio: 0.29\n",
      "     Train set size: 111123 - Killing ratio: 0.29\n",
      "     Validation set size: 24394 - Killing ratio: 0.29\n",
      "Test set size: 23915 - Killing ratio: 0.29\n"
     ]
    }
   ],
   "source": [
    "import numpy as np\n",
    "\n",
    "seed = 42\n",
    "X_dev, X_test, y_dev, y_test = train_test_split(X, y, random_state=seed, test_size=0.15, stratify=y)\n",
    "X_train, X_val, y_train, y_val = train_test_split(X_dev, y_dev, random_state=seed, test_size=0.18, stratify=y_dev)\n",
    "\n",
    "print('Dev set size:', len(y_dev), '- Killing ratio:', round(np.count_nonzero(y_dev) / len(y_dev), 2))\n",
    "print('     Train set size:', len(y_train), '- Killing ratio:', round(np.count_nonzero(y_train) / len(y_train), 2))\n",
    "print('     Validation set size:', len(y_val), '- Killing ratio:', round(np.count_nonzero(y_val) / len(y_val), 2))\n",
    "print('Test set size:', len(y_test), '- Killing ratio:', round(np.count_nonzero(y_test) / len(y_test), 2))"
   ],
   "metadata": {
    "collapsed": false,
    "ExecuteTime": {
     "end_time": "2023-12-19T11:21:40.830697500Z",
     "start_time": "2023-12-19T11:21:40.171925700Z"
    }
   },
   "id": "899dbd6cb267d590"
  },
  {
   "cell_type": "markdown",
   "source": [
    "Standardize the input data to avoid the bias given by the range of the different attribute"
   ],
   "metadata": {
    "collapsed": false
   },
   "id": "19fd1eba6002e256"
  },
  {
   "cell_type": "code",
   "execution_count": 8,
   "outputs": [],
   "source": [
    "scaler = StandardScaler()\n",
    "X_std_dev = scaler.fit_transform(X_dev)\n",
    "X_std_train = scaler.fit_transform(X_train)\n",
    "X_std_val = scaler.fit_transform(X_val)\n",
    "X_std_test = scaler.fit_transform(X_test)\n",
    "\n",
    "# ravel() is used to convert the y arrays from 2D to 1D\n",
    "y_dev = y_dev.values.ravel()\n",
    "y_train = y_train.values.ravel()\n",
    "y_val = y_val.values.ravel()\n",
    "y_test = y_test.values.ravel()\n"
   ],
   "metadata": {
    "collapsed": false,
    "ExecuteTime": {
     "end_time": "2023-12-19T11:21:42.052311Z",
     "start_time": "2023-12-19T11:21:41.999103300Z"
    }
   },
   "id": "6d0c9e73be3969b4"
  },
  {
   "cell_type": "code",
   "execution_count": null,
   "outputs": [],
   "source": [],
   "metadata": {
    "collapsed": false
   },
   "id": "36e1f6bd1c7345ba"
  },
  {
   "cell_type": "markdown",
   "source": [
    "# KNN"
   ],
   "metadata": {
    "collapsed": false
   },
   "id": "71a94be154a093da"
  },
  {
   "cell_type": "code",
   "execution_count": 64,
   "outputs": [],
   "source": [
    "from sklearn.neighbors import KNeighborsClassifier"
   ],
   "metadata": {
    "collapsed": false,
    "ExecuteTime": {
     "end_time": "2023-12-18T11:44:20.382936700Z",
     "start_time": "2023-12-18T11:44:20.368804900Z"
    }
   },
   "id": "84cd4016a05761d6"
  },
  {
   "cell_type": "code",
   "execution_count": 65,
   "outputs": [
    {
     "data": {
      "text/plain": "<Figure size 640x480 with 1 Axes>",
      "image/png": "[encoded data removed]"
     },
     "metadata": {},
     "output_type": "display_data"
    }
   ],
   "source": [
    "knn_list = []\n",
    "acc_tr_list = []\n",
    "acc_val_list = []\n",
    "\n",
    "for x in range(1, 20):\n",
    "    # Create KNN classifier\n",
    "    knn = KNeighborsClassifier(n_neighbors=x)\n",
    "    knn.fit(X_std_train, y_train)\n",
    "    acc_tr = knn.score(X_std_train, y_train)\n",
    "    acc_val = knn.score(X_std_val, y_val)\n",
    "    # append results\n",
    "    knn_list.append(knn)\n",
    "    acc_tr_list.append(acc_tr)\n",
    "    acc_val_list.append(acc_val)\n",
    "\n",
    "plt.plot(range(len(acc_tr_list)), acc_tr_list, 'r--', label='training')\n",
    "plt.plot(range(len(acc_val_list)), acc_val_list, 'b-', label='validation')\n",
    "plt.ylabel('accuracy')\n",
    "plt.xlabel('K')\n",
    "plt.tick_params(axis='both', which='major', labelsize=22)\n",
    "plt.title('KNN')\n",
    "# plt.axvline(10)\n",
    "plt.legend(loc=\"upper right\")\n",
    "plt.show()"
   ],
   "metadata": {
    "collapsed": false,
    "ExecuteTime": {
     "end_time": "2023-12-18T11:49:47.243767300Z",
     "start_time": "2023-12-18T11:44:20.384961Z"
    }
   },
   "id": "a38e2d2983b430cc"
  },
  {
   "cell_type": "markdown",
   "source": [
    "# Bayesian Classifier"
   ],
   "metadata": {
    "collapsed": false
   },
   "id": "a00dc43e8c2399e3"
  },
  {
   "cell_type": "code",
   "execution_count": 66,
   "outputs": [
    {
     "name": "stdout",
     "output_type": "stream",
     "text": [
      "              precision    recall  f1-score   support\n",
      "\n",
      "   no_killed       0.92      0.75      0.82     21318\n",
      "  any_killed       0.23      0.53      0.33      3076\n",
      "\n",
      "    accuracy                           0.72     24394\n",
      "   macro avg       0.58      0.64      0.58     24394\n",
      "weighted avg       0.83      0.72      0.76     24394\n"
     ]
    }
   ],
   "source": [
    "from sklearn.naive_bayes import GaussianNB, BernoulliNB\n",
    "\n",
    "gnb = GaussianNB()\n",
    "y_pred_val = gnb.fit(X_std_train, y_train).predict(X_std_val)\n",
    "print(classification_report(y_pred_val, y_val, target_names=labels))"
   ],
   "metadata": {
    "collapsed": false,
    "ExecuteTime": {
     "end_time": "2023-12-18T11:49:47.307433900Z",
     "start_time": "2023-12-18T11:49:47.245785800Z"
    }
   },
   "id": "957e2874be5db7f0"
  },
  {
   "cell_type": "code",
   "execution_count": 67,
   "outputs": [
    {
     "name": "stdout",
     "output_type": "stream",
     "text": [
      "              precision    recall  f1-score   support\n",
      "\n",
      "   no_killed       0.89      0.77      0.82     19959\n",
      "  any_killed       0.35      0.55      0.43      4435\n",
      "\n",
      "    accuracy                           0.73     24394\n",
      "   macro avg       0.62      0.66      0.63     24394\n",
      "weighted avg       0.79      0.73      0.75     24394\n"
     ]
    }
   ],
   "source": [
    "bnb = BernoulliNB()\n",
    "y_pred_val = bnb.fit(X_std_train, y_train).predict(X_std_val)\n",
    "print(classification_report(y_pred_val, y_val, target_names=labels))"
   ],
   "metadata": {
    "collapsed": false,
    "ExecuteTime": {
     "end_time": "2023-12-18T11:49:47.351225900Z",
     "start_time": "2023-12-18T11:49:47.291227Z"
    }
   },
   "id": "82fcf1592cfe7ef1"
  },
  {
   "cell_type": "markdown",
   "source": [
    "# Decision Tree"
   ],
   "metadata": {
    "collapsed": false
   },
   "id": "21da7c93153846f1"
  },
  {
   "cell_type": "code",
   "execution_count": 68,
   "outputs": [
    {
     "name": "stdout",
     "output_type": "stream",
     "text": [
      "Fitting 5 folds for each of 768 candidates, totalling 3840 fits\n",
      "Best parameters set found:\n",
      "{'criterion': 'gini', 'max_depth': 10, 'max_features': None, 'min_samples_leaf': 10, 'min_samples_split': 5, 'splitter': 'best'}\n",
      "Best accuracy score found:\n",
      "0.8618623858104645\n"
     ]
    }
   ],
   "source": [
    "from sklearn.tree import DecisionTreeClassifier\n",
    "\n",
    "dt_params = {\n",
    "    'criterion': ['gini', 'entropy'],\n",
    "    'splitter': ['best', 'random'],\n",
    "    'max_depth': [5, 10, 20, 50],\n",
    "    'min_samples_split': [2, 5, 10, 20],\n",
    "    'min_samples_leaf': [1, 2, 5, 10],\n",
    "    'max_features': ['sqrt', 'log2', None]\n",
    "}\n",
    "best_score_dt, decision_tree = grid_search(DecisionTreeClassifier(), X_std_dev, y_dev, dt_params)"
   ],
   "metadata": {
    "collapsed": false,
    "ExecuteTime": {
     "end_time": "2023-12-18T11:50:56.567065600Z",
     "start_time": "2023-12-18T11:49:47.353257700Z"
    }
   },
   "id": "b73383126dec714a"
  },
  {
   "cell_type": "markdown",
   "source": [
    "# Random Forest"
   ],
   "metadata": {
    "collapsed": false
   },
   "id": "92516165ac33a8f3"
  },
  {
   "cell_type": "code",
   "execution_count": 69,
   "outputs": [
    {
     "name": "stdout",
     "output_type": "stream",
     "text": [
      "Fitting 5 folds for each of 480 candidates, totalling 2400 fits\n",
      "Best parameters set found:\n",
      "{'max_depth': 20, 'max_features': 'log2', 'min_samples_leaf': 2, 'min_samples_split': 5, 'n_estimators': 150}\n",
      "Best accuracy score found:\n",
      "0.8745692715436295\n"
     ]
    }
   ],
   "source": [
    "from sklearn.ensemble import RandomForestClassifier\n",
    "\n",
    "rf_params = {\n",
    "    'n_estimators': [50, 100, 150],\n",
    "    'max_depth': [5, 10, 20, None],\n",
    "    'min_samples_split': [2, 5, 10, 20],\n",
    "    'min_samples_leaf': [1, 2, 5, 10, 20],\n",
    "    'max_features': ['sqrt', 'log2']\n",
    "}\n",
    "best_score_rf, random_forest = grid_search(RandomForestClassifier(), X_std_dev, y_dev, rf_params)"
   ],
   "metadata": {
    "collapsed": false,
    "ExecuteTime": {
     "end_time": "2023-12-18T12:33:05.791764400Z",
     "start_time": "2023-12-18T11:50:56.560579700Z"
    }
   },
   "id": "21e5b2d000d3f411"
  },
  {
   "cell_type": "markdown",
   "source": [
    "# SVM"
   ],
   "metadata": {
    "collapsed": false
   },
   "id": "8429dc66c43e3edb"
  },
  {
   "cell_type": "code",
   "execution_count": null,
   "outputs": [
    {
     "name": "stdout",
     "output_type": "stream",
     "text": [
      "Fitting 5 folds for each of 18 candidates, totalling 90 fits\n"
     ]
    }
   ],
   "source": [
    "from sklearn.svm import SVC\n",
    "\n",
    "svm_params = {\n",
    "    \"kernel\": [\"rbf\", \"linear\", \"sigmoid\"],\n",
    "    \"gamma\": [\"scale\", \"auto\"],\n",
    "    \"C\": [0.1, 1, 10]\n",
    "}\n",
    "\n",
    "best_score_svm, svm = grid_search(SVC(), X_std_dev, y_dev, svm_params)"
   ],
   "metadata": {
    "collapsed": false,
    "is_executing": true,
    "ExecuteTime": {
     "start_time": "2023-12-19T12:08:42.852293100Z"
    }
   },
   "id": "5896d07dd2e53da0"
  },
  {
   "cell_type": "markdown",
   "source": [
    "# Neural Network"
   ],
   "metadata": {
    "collapsed": false
   },
   "id": "34f01b2dc33640bc"
  },
  {
   "cell_type": "code",
   "execution_count": 11,
   "outputs": [
    {
     "name": "stdout",
     "output_type": "stream",
     "text": [
      "Fitting 5 folds for each of 216 candidates, totalling 1080 fits\n",
      "Best parameters set found:\n",
      "{'activation': 'tanh', 'alpha': 0.01, 'hidden_layer_sizes': (50, 25), 'learning_rate': 'adaptive', 'learning_rate_init': 0.001, 'max_iter': 100, 'solver': 'adam'}\n",
      "Best accuracy score found:\n",
      "0.7155043180850036\n"
     ]
    },
    {
     "name": "stderr",
     "output_type": "stream",
     "text": [
      "C:\\Users\\alext\\Desktop\\UniProjs\\venv\\lib\\site-packages\\sklearn\\neural_network\\_multilayer_perceptron.py:691: ConvergenceWarning: Stochastic Optimizer: Maximum iterations (100) reached and the optimization hasn't converged yet.\n",
      "  warnings.warn(\n"
     ]
    }
   ],
   "source": [
    "from sklearn.neural_network import MLPClassifier\n",
    "\n",
    "nn_params = {\n",
    "    'hidden_layer_sizes': [25, 50, (50, 25)],\n",
    "    'activation': ['tanh', 'relu'],\n",
    "    'solver': ['sgd', 'adam'],\n",
    "    'alpha': [0.0001, 0.001, 0.01],\n",
    "    'learning_rate': ['constant', 'adaptive'],\n",
    "    'max_iter': [20, 50, 100]\n",
    "}\n",
    "\n",
    "best_score_nn, neural_network = grid_search(MLPClassifier(), X_std_dev, y_dev, nn_params)"
   ],
   "metadata": {
    "collapsed": false,
    "ExecuteTime": {
     "end_time": "2023-12-16T20:44:28.717762500Z",
     "start_time": "2023-12-16T20:30:28.060145300Z"
    }
   },
   "id": "c3721482fd254e30"
  },
  {
   "cell_type": "code",
   "execution_count": 15,
   "outputs": [],
   "source": [
    "from keras.src.optimizers import SGD\n",
    "import tensorflow as tf"
   ],
   "metadata": {
    "collapsed": false,
    "ExecuteTime": {
     "end_time": "2023-12-19T11:26:29.803949500Z",
     "start_time": "2023-12-19T11:26:29.788898100Z"
    }
   },
   "id": "a947cb4a21c70908"
  },
  {
   "cell_type": "code",
   "execution_count": 80,
   "outputs": [],
   "source": [
    "from keras import Sequential\n",
    "import keras as k\n",
    "from keras.src import callbacks\n",
    "\n",
    "\n",
    "def keras_mlp(train_X, train_y, val_X, val_y, optimizer, activation, dropout, epochs):\n",
    "    neural_net = Sequential(\n",
    "        [\n",
    "            k.Input(shape=13),\n",
    "            k.layers.Dense(units=50, activation=activation),\n",
    "            k.layers.Dense(units=25, activation=activation),\n",
    "            k.layers.Dense(units=25, activation=activation),\n",
    "            k.layers.Dropout(dropout),\n",
    "            k.layers.Dense(1, \"sigmoid\")\n",
    "        ]\n",
    "    )\n",
    "    callback = [\n",
    "        callbacks.ReduceLROnPlateau(monitor='val_accuracy', mode= 'max', patience=5, cooldown=2, verbose=1, factor=0.5, min_lr=1e-6,\n",
    "                                    min_delta=1e-5),\n",
    "        callbacks.EarlyStopping(monitor='val_accuracy', mode='max', patience=20, verbose=1, min_delta=1e-5)\n",
    "    ]\n",
    "    neural_net.compile(optimizer=optimizer, loss=k.losses.BinaryCrossentropy(), metrics=['accuracy'])\n",
    "    return neural_net.fit(train_X, train_y, batch_size=320, epochs=epochs, verbose=2, validation_data=(val_X, val_y),\n",
    "                          callbacks=callback)"
   ],
   "metadata": {
    "collapsed": false,
    "ExecuteTime": {
     "end_time": "2023-12-19T12:01:56.833990800Z",
     "start_time": "2023-12-19T12:01:56.818938800Z"
    }
   },
   "id": "80446095fffab10a"
  },
  {
   "cell_type": "code",
   "execution_count": 83,
   "outputs": [
    {
     "name": "stdout",
     "output_type": "stream",
     "text": [
      "Epoch 1/150\n",
      "348/348 - 1s - loss: 0.6077 - accuracy: 0.7101 - val_loss: 0.6649 - val_accuracy: 0.6082 - lr: 0.0010 - 623ms/epoch - 2ms/step\n",
      "Epoch 2/150\n",
      "348/348 - 0s - loss: 0.6019 - accuracy: 0.7132 - val_loss: 0.6580 - val_accuracy: 0.6269 - lr: 0.0010 - 309ms/epoch - 888us/step\n",
      "Epoch 3/150\n",
      "348/348 - 0s - loss: 0.6019 - accuracy: 0.7132 - val_loss: 0.6513 - val_accuracy: 0.6427 - lr: 0.0010 - 310ms/epoch - 892us/step\n",
      "Epoch 4/150\n",
      "348/348 - 0s - loss: 0.6016 - accuracy: 0.7132 - val_loss: 0.6445 - val_accuracy: 0.6566 - lr: 0.0010 - 312ms/epoch - 897us/step\n",
      "Epoch 5/150\n",
      "348/348 - 0s - loss: 0.6013 - accuracy: 0.7132 - val_loss: 0.6428 - val_accuracy: 0.6645 - lr: 0.0010 - 314ms/epoch - 902us/step\n",
      "Epoch 6/150\n",
      "348/348 - 0s - loss: 0.6013 - accuracy: 0.7132 - val_loss: 0.6355 - val_accuracy: 0.6790 - lr: 0.0010 - 311ms/epoch - 894us/step\n",
      "Epoch 7/150\n",
      "348/348 - 0s - loss: 0.6011 - accuracy: 0.7132 - val_loss: 0.6361 - val_accuracy: 0.6902 - lr: 0.0010 - 313ms/epoch - 900us/step\n",
      "Epoch 8/150\n",
      "348/348 - 0s - loss: 0.6006 - accuracy: 0.7132 - val_loss: 0.6286 - val_accuracy: 0.6969 - lr: 0.0010 - 312ms/epoch - 897us/step\n",
      "Epoch 9/150\n",
      "348/348 - 0s - loss: 0.6004 - accuracy: 0.7132 - val_loss: 0.6255 - val_accuracy: 0.7002 - lr: 0.0010 - 312ms/epoch - 898us/step\n",
      "Epoch 10/150\n",
      "348/348 - 0s - loss: 0.6004 - accuracy: 0.7132 - val_loss: 0.6225 - val_accuracy: 0.7053 - lr: 0.0010 - 311ms/epoch - 893us/step\n",
      "Epoch 11/150\n",
      "348/348 - 0s - loss: 0.6004 - accuracy: 0.7132 - val_loss: 0.6210 - val_accuracy: 0.7071 - lr: 0.0010 - 311ms/epoch - 895us/step\n",
      "Epoch 12/150\n",
      "348/348 - 0s - loss: 0.6004 - accuracy: 0.7132 - val_loss: 0.6177 - val_accuracy: 0.7088 - lr: 0.0010 - 313ms/epoch - 900us/step\n",
      "Epoch 13/150\n",
      "348/348 - 0s - loss: 0.6000 - accuracy: 0.7132 - val_loss: 0.6177 - val_accuracy: 0.7132 - lr: 0.0010 - 309ms/epoch - 889us/step\n",
      "Epoch 14/150\n",
      "348/348 - 0s - loss: 0.6000 - accuracy: 0.7132 - val_loss: 0.6128 - val_accuracy: 0.7132 - lr: 0.0010 - 311ms/epoch - 893us/step\n",
      "Epoch 15/150\n",
      "348/348 - 0s - loss: 0.5999 - accuracy: 0.7132 - val_loss: 0.6122 - val_accuracy: 0.7132 - lr: 0.0010 - 310ms/epoch - 891us/step\n",
      "Epoch 16/150\n",
      "348/348 - 0s - loss: 0.6001 - accuracy: 0.7132 - val_loss: 0.6101 - val_accuracy: 0.7132 - lr: 0.0010 - 311ms/epoch - 894us/step\n",
      "Epoch 17/150\n",
      "348/348 - 0s - loss: 0.5997 - accuracy: 0.7132 - val_loss: 0.6101 - val_accuracy: 0.7132 - lr: 0.0010 - 311ms/epoch - 894us/step\n",
      "Epoch 18/150\n",
      "\n",
      "Epoch 18: ReduceLROnPlateau reducing learning rate to 0.0005000000237487257.\n",
      "348/348 - 0s - loss: 0.5997 - accuracy: 0.7132 - val_loss: 0.6052 - val_accuracy: 0.7132 - lr: 0.0010 - 311ms/epoch - 895us/step\n",
      "Epoch 19/150\n",
      "348/348 - 0s - loss: 0.5997 - accuracy: 0.7132 - val_loss: 0.6050 - val_accuracy: 0.7132 - lr: 5.0000e-04 - 310ms/epoch - 892us/step\n",
      "Epoch 20/150\n",
      "348/348 - 0s - loss: 0.5996 - accuracy: 0.7132 - val_loss: 0.6060 - val_accuracy: 0.7132 - lr: 5.0000e-04 - 311ms/epoch - 894us/step\n",
      "Epoch 21/150\n",
      "348/348 - 0s - loss: 0.5996 - accuracy: 0.7132 - val_loss: 0.6051 - val_accuracy: 0.7132 - lr: 5.0000e-04 - 309ms/epoch - 889us/step\n",
      "Epoch 22/150\n",
      "348/348 - 0s - loss: 0.5996 - accuracy: 0.7132 - val_loss: 0.6051 - val_accuracy: 0.7132 - lr: 5.0000e-04 - 310ms/epoch - 892us/step\n",
      "Epoch 23/150\n",
      "348/348 - 0s - loss: 0.5996 - accuracy: 0.7132 - val_loss: 0.6040 - val_accuracy: 0.7132 - lr: 5.0000e-04 - 309ms/epoch - 889us/step\n",
      "Epoch 24/150\n",
      "\n",
      "Epoch 24: ReduceLROnPlateau reducing learning rate to 0.0002500000118743628.\n",
      "348/348 - 0s - loss: 0.5997 - accuracy: 0.7132 - val_loss: 0.6052 - val_accuracy: 0.7132 - lr: 5.0000e-04 - 312ms/epoch - 897us/step\n",
      "Epoch 25/150\n",
      "348/348 - 0s - loss: 0.5995 - accuracy: 0.7132 - val_loss: 0.6041 - val_accuracy: 0.7132 - lr: 2.5000e-04 - 309ms/epoch - 889us/step\n",
      "Epoch 26/150\n",
      "348/348 - 0s - loss: 0.5996 - accuracy: 0.7132 - val_loss: 0.6039 - val_accuracy: 0.7132 - lr: 2.5000e-04 - 311ms/epoch - 894us/step\n",
      "Epoch 27/150\n",
      "348/348 - 0s - loss: 0.5997 - accuracy: 0.7132 - val_loss: 0.6040 - val_accuracy: 0.7132 - lr: 2.5000e-04 - 311ms/epoch - 894us/step\n",
      "Epoch 28/150\n",
      "348/348 - 0s - loss: 0.5996 - accuracy: 0.7132 - val_loss: 0.6033 - val_accuracy: 0.7132 - lr: 2.5000e-04 - 310ms/epoch - 891us/step\n",
      "Epoch 29/150\n",
      "348/348 - 0s - loss: 0.5995 - accuracy: 0.7132 - val_loss: 0.6031 - val_accuracy: 0.7132 - lr: 2.5000e-04 - 306ms/epoch - 880us/step\n",
      "Epoch 30/150\n",
      "\n",
      "Epoch 30: ReduceLROnPlateau reducing learning rate to 0.0001250000059371814.\n",
      "348/348 - 0s - loss: 0.5995 - accuracy: 0.7132 - val_loss: 0.6028 - val_accuracy: 0.7132 - lr: 2.5000e-04 - 310ms/epoch - 892us/step\n",
      "Epoch 31/150\n",
      "348/348 - 0s - loss: 0.5995 - accuracy: 0.7132 - val_loss: 0.6030 - val_accuracy: 0.7132 - lr: 1.2500e-04 - 309ms/epoch - 889us/step\n",
      "Epoch 32/150\n",
      "348/348 - 0s - loss: 0.5995 - accuracy: 0.7132 - val_loss: 0.6032 - val_accuracy: 0.7132 - lr: 1.2500e-04 - 308ms/epoch - 886us/step\n",
      "Epoch 33/150\n",
      "348/348 - 0s - loss: 0.5995 - accuracy: 0.7132 - val_loss: 0.6032 - val_accuracy: 0.7132 - lr: 1.2500e-04 - 313ms/epoch - 899us/step\n",
      "Epoch 33: early stopping\n"
     ]
    },
    {
     "data": {
      "text/plain": "<Figure size 640x480 with 1 Axes>",
      "image/png": "[encoded data removed]"
     },
     "metadata": {},
     "output_type": "display_data"
    }
   ],
   "source": [
    "\n",
    "\n",
    "from keras.src.optimizers import Adam\n",
    "\n",
    "sgd = SGD(learning_rate=0.0005, momentum=0.9, nesterov=True)\n",
    "\n",
    "history = keras_mlp(X_train, y_train, X_std_val, y_val, Adam(learning_rate=1e-3), activation=\"tanh\", dropout=0.3,\n",
    "                    epochs=150)\n",
    "plt.plot(history.history['accuracy'])\n",
    "plt.plot(history.history['val_accuracy'])\n",
    "plt.title('model accuracy')\n",
    "plt.ylabel('accuracy')\n",
    "plt.xlabel('epoch')\n",
    "plt.legend(['train', 'val'], loc='upper left')\n",
    "plt.show()"
   ],
   "metadata": {
    "collapsed": false,
    "ExecuteTime": {
     "end_time": "2023-12-19T12:02:59.487474600Z",
     "start_time": "2023-12-19T12:02:48.750497200Z"
    }
   },
   "id": "871bee4d46a291ad"
  },
  {
   "cell_type": "code",
   "execution_count": 84,
   "outputs": [
    {
     "name": "stdout",
     "output_type": "stream",
     "text": [
      "Epoch 1/150\n",
      "348/348 - 1s - loss: 0.6312 - accuracy: 0.6855 - val_loss: 0.6781 - val_accuracy: 0.5480 - lr: 5.0000e-04 - 554ms/epoch - 2ms/step\n",
      "Epoch 2/150\n",
      "348/348 - 0s - loss: 0.6113 - accuracy: 0.7111 - val_loss: 0.6764 - val_accuracy: 0.5511 - lr: 5.0000e-04 - 293ms/epoch - 841us/step\n",
      "Epoch 3/150\n",
      "348/348 - 0s - loss: 0.6063 - accuracy: 0.7129 - val_loss: 0.6752 - val_accuracy: 0.5538 - lr: 5.0000e-04 - 300ms/epoch - 863us/step\n",
      "Epoch 4/150\n",
      "348/348 - 0s - loss: 0.6047 - accuracy: 0.7132 - val_loss: 0.6740 - val_accuracy: 0.5564 - lr: 5.0000e-04 - 296ms/epoch - 850us/step\n",
      "Epoch 5/150\n",
      "348/348 - 0s - loss: 0.6030 - accuracy: 0.7132 - val_loss: 0.6729 - val_accuracy: 0.5594 - lr: 5.0000e-04 - 295ms/epoch - 848us/step\n",
      "Epoch 6/150\n",
      "348/348 - 0s - loss: 0.6022 - accuracy: 0.7132 - val_loss: 0.6718 - val_accuracy: 0.5628 - lr: 5.0000e-04 - 296ms/epoch - 851us/step\n",
      "Epoch 7/150\n",
      "348/348 - 0s - loss: 0.6018 - accuracy: 0.7132 - val_loss: 0.6705 - val_accuracy: 0.5651 - lr: 5.0000e-04 - 295ms/epoch - 847us/step\n",
      "Epoch 8/150\n",
      "348/348 - 0s - loss: 0.6017 - accuracy: 0.7132 - val_loss: 0.6692 - val_accuracy: 0.5667 - lr: 5.0000e-04 - 296ms/epoch - 851us/step\n",
      "Epoch 9/150\n",
      "348/348 - 0s - loss: 0.6020 - accuracy: 0.7132 - val_loss: 0.6682 - val_accuracy: 0.5699 - lr: 5.0000e-04 - 296ms/epoch - 850us/step\n",
      "Epoch 10/150\n",
      "348/348 - 0s - loss: 0.6013 - accuracy: 0.7132 - val_loss: 0.6673 - val_accuracy: 0.5746 - lr: 5.0000e-04 - 311ms/epoch - 893us/step\n",
      "Epoch 11/150\n",
      "348/348 - 0s - loss: 0.6012 - accuracy: 0.7132 - val_loss: 0.6661 - val_accuracy: 0.5779 - lr: 5.0000e-04 - 299ms/epoch - 860us/step\n",
      "Epoch 12/150\n",
      "348/348 - 0s - loss: 0.6014 - accuracy: 0.7132 - val_loss: 0.6650 - val_accuracy: 0.5836 - lr: 5.0000e-04 - 300ms/epoch - 862us/step\n",
      "Epoch 13/150\n",
      "348/348 - 0s - loss: 0.6013 - accuracy: 0.7132 - val_loss: 0.6636 - val_accuracy: 0.5865 - lr: 5.0000e-04 - 296ms/epoch - 851us/step\n",
      "Epoch 14/150\n",
      "348/348 - 0s - loss: 0.6010 - accuracy: 0.7132 - val_loss: 0.6625 - val_accuracy: 0.5897 - lr: 5.0000e-04 - 294ms/epoch - 845us/step\n",
      "Epoch 15/150\n",
      "348/348 - 0s - loss: 0.6007 - accuracy: 0.7132 - val_loss: 0.6616 - val_accuracy: 0.5926 - lr: 5.0000e-04 - 293ms/epoch - 842us/step\n",
      "Epoch 16/150\n",
      "348/348 - 0s - loss: 0.6008 - accuracy: 0.7132 - val_loss: 0.6608 - val_accuracy: 0.5950 - lr: 5.0000e-04 - 296ms/epoch - 851us/step\n",
      "Epoch 17/150\n",
      "348/348 - 0s - loss: 0.6009 - accuracy: 0.7132 - val_loss: 0.6595 - val_accuracy: 0.5983 - lr: 5.0000e-04 - 296ms/epoch - 850us/step\n",
      "Epoch 18/150\n",
      "348/348 - 0s - loss: 0.6005 - accuracy: 0.7132 - val_loss: 0.6586 - val_accuracy: 0.6008 - lr: 5.0000e-04 - 297ms/epoch - 853us/step\n",
      "Epoch 19/150\n",
      "348/348 - 0s - loss: 0.6010 - accuracy: 0.7132 - val_loss: 0.6576 - val_accuracy: 0.6045 - lr: 5.0000e-04 - 295ms/epoch - 848us/step\n",
      "Epoch 20/150\n",
      "348/348 - 0s - loss: 0.6005 - accuracy: 0.7132 - val_loss: 0.6571 - val_accuracy: 0.6070 - lr: 5.0000e-04 - 297ms/epoch - 853us/step\n",
      "Epoch 21/150\n",
      "348/348 - 0s - loss: 0.6004 - accuracy: 0.7132 - val_loss: 0.6559 - val_accuracy: 0.6094 - lr: 5.0000e-04 - 295ms/epoch - 847us/step\n",
      "Epoch 22/150\n",
      "348/348 - 0s - loss: 0.6006 - accuracy: 0.7132 - val_loss: 0.6550 - val_accuracy: 0.6115 - lr: 5.0000e-04 - 296ms/epoch - 850us/step\n",
      "Epoch 23/150\n",
      "348/348 - 0s - loss: 0.6005 - accuracy: 0.7132 - val_loss: 0.6543 - val_accuracy: 0.6130 - lr: 5.0000e-04 - 295ms/epoch - 847us/step\n",
      "Epoch 24/150\n",
      "348/348 - 0s - loss: 0.6007 - accuracy: 0.7132 - val_loss: 0.6534 - val_accuracy: 0.6160 - lr: 5.0000e-04 - 296ms/epoch - 850us/step\n",
      "Epoch 25/150\n",
      "348/348 - 0s - loss: 0.6006 - accuracy: 0.7132 - val_loss: 0.6524 - val_accuracy: 0.6186 - lr: 5.0000e-04 - 293ms/epoch - 841us/step\n",
      "Epoch 26/150\n",
      "348/348 - 0s - loss: 0.6015 - accuracy: 0.7132 - val_loss: 0.6549 - val_accuracy: 0.6163 - lr: 5.0000e-04 - 291ms/epoch - 837us/step\n",
      "Epoch 27/150\n",
      "348/348 - 0s - loss: 0.6010 - accuracy: 0.7132 - val_loss: 0.6543 - val_accuracy: 0.6175 - lr: 5.0000e-04 - 292ms/epoch - 839us/step\n",
      "Epoch 28/150\n",
      "348/348 - 0s - loss: 0.6007 - accuracy: 0.7132 - val_loss: 0.6529 - val_accuracy: 0.6199 - lr: 5.0000e-04 - 293ms/epoch - 841us/step\n",
      "Epoch 29/150\n",
      "348/348 - 0s - loss: 0.6005 - accuracy: 0.7132 - val_loss: 0.6524 - val_accuracy: 0.6215 - lr: 5.0000e-04 - 295ms/epoch - 847us/step\n",
      "Epoch 30/150\n",
      "348/348 - 0s - loss: 0.6005 - accuracy: 0.7132 - val_loss: 0.6520 - val_accuracy: 0.6228 - lr: 5.0000e-04 - 294ms/epoch - 845us/step\n",
      "Epoch 31/150\n",
      "348/348 - 0s - loss: 0.6007 - accuracy: 0.7132 - val_loss: 0.6512 - val_accuracy: 0.6252 - lr: 5.0000e-04 - 294ms/epoch - 845us/step\n",
      "Epoch 32/150\n",
      "348/348 - 0s - loss: 0.6006 - accuracy: 0.7132 - val_loss: 0.6501 - val_accuracy: 0.6274 - lr: 5.0000e-04 - 293ms/epoch - 843us/step\n",
      "Epoch 33/150\n",
      "348/348 - 0s - loss: 0.6001 - accuracy: 0.7132 - val_loss: 0.6499 - val_accuracy: 0.6288 - lr: 5.0000e-04 - 294ms/epoch - 845us/step\n",
      "Epoch 34/150\n",
      "348/348 - 0s - loss: 0.6005 - accuracy: 0.7132 - val_loss: 0.6491 - val_accuracy: 0.6304 - lr: 5.0000e-04 - 294ms/epoch - 844us/step\n",
      "Epoch 35/150\n",
      "348/348 - 0s - loss: 0.6002 - accuracy: 0.7132 - val_loss: 0.6483 - val_accuracy: 0.6326 - lr: 5.0000e-04 - 296ms/epoch - 851us/step\n",
      "Epoch 36/150\n",
      "348/348 - 0s - loss: 0.6002 - accuracy: 0.7132 - val_loss: 0.6479 - val_accuracy: 0.6341 - lr: 5.0000e-04 - 294ms/epoch - 845us/step\n",
      "Epoch 37/150\n",
      "348/348 - 0s - loss: 0.6002 - accuracy: 0.7132 - val_loss: 0.6474 - val_accuracy: 0.6360 - lr: 5.0000e-04 - 292ms/epoch - 839us/step\n",
      "Epoch 38/150\n",
      "348/348 - 0s - loss: 0.6001 - accuracy: 0.7132 - val_loss: 0.6468 - val_accuracy: 0.6379 - lr: 5.0000e-04 - 295ms/epoch - 846us/step\n",
      "Epoch 39/150\n",
      "348/348 - 0s - loss: 0.6002 - accuracy: 0.7132 - val_loss: 0.6462 - val_accuracy: 0.6394 - lr: 5.0000e-04 - 295ms/epoch - 848us/step\n",
      "Epoch 40/150\n",
      "348/348 - 0s - loss: 0.6001 - accuracy: 0.7132 - val_loss: 0.6455 - val_accuracy: 0.6421 - lr: 5.0000e-04 - 291ms/epoch - 837us/step\n",
      "Epoch 41/150\n",
      "348/348 - 0s - loss: 0.6003 - accuracy: 0.7132 - val_loss: 0.6446 - val_accuracy: 0.6436 - lr: 5.0000e-04 - 296ms/epoch - 851us/step\n",
      "Epoch 42/150\n",
      "348/348 - 0s - loss: 0.6003 - accuracy: 0.7132 - val_loss: 0.6445 - val_accuracy: 0.6450 - lr: 5.0000e-04 - 291ms/epoch - 837us/step\n",
      "Epoch 43/150\n",
      "348/348 - 0s - loss: 0.5999 - accuracy: 0.7132 - val_loss: 0.6440 - val_accuracy: 0.6461 - lr: 5.0000e-04 - 293ms/epoch - 841us/step\n",
      "Epoch 44/150\n",
      "348/348 - 0s - loss: 0.6001 - accuracy: 0.7132 - val_loss: 0.6435 - val_accuracy: 0.6468 - lr: 5.0000e-04 - 302ms/epoch - 868us/step\n",
      "Epoch 45/150\n",
      "348/348 - 0s - loss: 0.6001 - accuracy: 0.7132 - val_loss: 0.6428 - val_accuracy: 0.6479 - lr: 5.0000e-04 - 294ms/epoch - 846us/step\n",
      "Epoch 46/150\n",
      "348/348 - 0s - loss: 0.6002 - accuracy: 0.7132 - val_loss: 0.6425 - val_accuracy: 0.6496 - lr: 5.0000e-04 - 304ms/epoch - 874us/step\n",
      "Epoch 47/150\n",
      "348/348 - 0s - loss: 0.6000 - accuracy: 0.7132 - val_loss: 0.6419 - val_accuracy: 0.6512 - lr: 5.0000e-04 - 299ms/epoch - 859us/step\n",
      "Epoch 48/150\n",
      "348/348 - 0s - loss: 0.6003 - accuracy: 0.7132 - val_loss: 0.6412 - val_accuracy: 0.6535 - lr: 5.0000e-04 - 297ms/epoch - 853us/step\n",
      "Epoch 49/150\n",
      "348/348 - 0s - loss: 0.6001 - accuracy: 0.7132 - val_loss: 0.6409 - val_accuracy: 0.6549 - lr: 5.0000e-04 - 295ms/epoch - 848us/step\n",
      "Epoch 50/150\n",
      "348/348 - 0s - loss: 0.6003 - accuracy: 0.7132 - val_loss: 0.6400 - val_accuracy: 0.6574 - lr: 5.0000e-04 - 295ms/epoch - 848us/step\n",
      "Epoch 51/150\n",
      "348/348 - 0s - loss: 0.6001 - accuracy: 0.7132 - val_loss: 0.6392 - val_accuracy: 0.6591 - lr: 5.0000e-04 - 295ms/epoch - 848us/step\n",
      "Epoch 52/150\n",
      "348/348 - 0s - loss: 0.5998 - accuracy: 0.7132 - val_loss: 0.6392 - val_accuracy: 0.6607 - lr: 5.0000e-04 - 295ms/epoch - 847us/step\n",
      "Epoch 53/150\n",
      "348/348 - 0s - loss: 0.5999 - accuracy: 0.7132 - val_loss: 0.6386 - val_accuracy: 0.6618 - lr: 5.0000e-04 - 292ms/epoch - 840us/step\n",
      "Epoch 54/150\n",
      "348/348 - 0s - loss: 0.6003 - accuracy: 0.7132 - val_loss: 0.6383 - val_accuracy: 0.6626 - lr: 5.0000e-04 - 294ms/epoch - 845us/step\n",
      "Epoch 55/150\n",
      "348/348 - 0s - loss: 0.6001 - accuracy: 0.7132 - val_loss: 0.6379 - val_accuracy: 0.6638 - lr: 5.0000e-04 - 297ms/epoch - 854us/step\n",
      "Epoch 56/150\n",
      "348/348 - 0s - loss: 0.6000 - accuracy: 0.7132 - val_loss: 0.6372 - val_accuracy: 0.6648 - lr: 5.0000e-04 - 293ms/epoch - 842us/step\n",
      "Epoch 57/150\n",
      "348/348 - 0s - loss: 0.6000 - accuracy: 0.7132 - val_loss: 0.6367 - val_accuracy: 0.6657 - lr: 5.0000e-04 - 297ms/epoch - 853us/step\n",
      "Epoch 58/150\n",
      "348/348 - 0s - loss: 0.6000 - accuracy: 0.7132 - val_loss: 0.6363 - val_accuracy: 0.6667 - lr: 5.0000e-04 - 294ms/epoch - 845us/step\n",
      "Epoch 59/150\n",
      "348/348 - 0s - loss: 0.6000 - accuracy: 0.7132 - val_loss: 0.6360 - val_accuracy: 0.6669 - lr: 5.0000e-04 - 295ms/epoch - 848us/step\n",
      "Epoch 60/150\n",
      "348/348 - 0s - loss: 0.6000 - accuracy: 0.7132 - val_loss: 0.6355 - val_accuracy: 0.6679 - lr: 5.0000e-04 - 297ms/epoch - 854us/step\n",
      "Epoch 61/150\n",
      "348/348 - 0s - loss: 0.6000 - accuracy: 0.7132 - val_loss: 0.6348 - val_accuracy: 0.6689 - lr: 5.0000e-04 - 295ms/epoch - 847us/step\n",
      "Epoch 62/150\n",
      "348/348 - 0s - loss: 0.5999 - accuracy: 0.7132 - val_loss: 0.6347 - val_accuracy: 0.6702 - lr: 5.0000e-04 - 295ms/epoch - 849us/step\n",
      "Epoch 63/150\n",
      "348/348 - 0s - loss: 0.6000 - accuracy: 0.7132 - val_loss: 0.6343 - val_accuracy: 0.6711 - lr: 5.0000e-04 - 295ms/epoch - 848us/step\n",
      "Epoch 64/150\n",
      "348/348 - 0s - loss: 0.6000 - accuracy: 0.7132 - val_loss: 0.6340 - val_accuracy: 0.6717 - lr: 5.0000e-04 - 294ms/epoch - 845us/step\n",
      "Epoch 65/150\n",
      "348/348 - 0s - loss: 0.5999 - accuracy: 0.7132 - val_loss: 0.6337 - val_accuracy: 0.6734 - lr: 5.0000e-04 - 295ms/epoch - 849us/step\n",
      "Epoch 66/150\n",
      "348/348 - 0s - loss: 0.6001 - accuracy: 0.7132 - val_loss: 0.6333 - val_accuracy: 0.6745 - lr: 5.0000e-04 - 293ms/epoch - 841us/step\n",
      "Epoch 67/150\n",
      "348/348 - 0s - loss: 0.5999 - accuracy: 0.7132 - val_loss: 0.6327 - val_accuracy: 0.6755 - lr: 5.0000e-04 - 295ms/epoch - 848us/step\n",
      "Epoch 68/150\n",
      "348/348 - 0s - loss: 0.6001 - accuracy: 0.7132 - val_loss: 0.6323 - val_accuracy: 0.6766 - lr: 5.0000e-04 - 294ms/epoch - 846us/step\n",
      "Epoch 69/150\n",
      "348/348 - 0s - loss: 0.6000 - accuracy: 0.7132 - val_loss: 0.6313 - val_accuracy: 0.6791 - lr: 5.0000e-04 - 292ms/epoch - 840us/step\n",
      "Epoch 70/150\n",
      "348/348 - 0s - loss: 0.5999 - accuracy: 0.7132 - val_loss: 0.6313 - val_accuracy: 0.6800 - lr: 5.0000e-04 - 294ms/epoch - 844us/step\n",
      "Epoch 71/150\n",
      "348/348 - 0s - loss: 0.5997 - accuracy: 0.7132 - val_loss: 0.6312 - val_accuracy: 0.6808 - lr: 5.0000e-04 - 293ms/epoch - 842us/step\n",
      "Epoch 72/150\n",
      "348/348 - 0s - loss: 0.5998 - accuracy: 0.7132 - val_loss: 0.6312 - val_accuracy: 0.6810 - lr: 5.0000e-04 - 293ms/epoch - 843us/step\n",
      "Epoch 73/150\n",
      "348/348 - 0s - loss: 0.5999 - accuracy: 0.7132 - val_loss: 0.6305 - val_accuracy: 0.6823 - lr: 5.0000e-04 - 292ms/epoch - 840us/step\n",
      "Epoch 74/150\n",
      "348/348 - 0s - loss: 0.5998 - accuracy: 0.7132 - val_loss: 0.6298 - val_accuracy: 0.6836 - lr: 5.0000e-04 - 296ms/epoch - 851us/step\n",
      "Epoch 75/150\n",
      "348/348 - 0s - loss: 0.5998 - accuracy: 0.7132 - val_loss: 0.6297 - val_accuracy: 0.6839 - lr: 5.0000e-04 - 293ms/epoch - 841us/step\n",
      "Epoch 76/150\n",
      "348/348 - 0s - loss: 0.5998 - accuracy: 0.7132 - val_loss: 0.6294 - val_accuracy: 0.6848 - lr: 5.0000e-04 - 295ms/epoch - 848us/step\n",
      "Epoch 77/150\n",
      "348/348 - 0s - loss: 0.5999 - accuracy: 0.7132 - val_loss: 0.6290 - val_accuracy: 0.6852 - lr: 5.0000e-04 - 299ms/epoch - 860us/step\n",
      "Epoch 78/150\n",
      "348/348 - 0s - loss: 0.5997 - accuracy: 0.7132 - val_loss: 0.6285 - val_accuracy: 0.6856 - lr: 5.0000e-04 - 303ms/epoch - 871us/step\n",
      "Epoch 79/150\n",
      "348/348 - 0s - loss: 0.5999 - accuracy: 0.7132 - val_loss: 0.6284 - val_accuracy: 0.6861 - lr: 5.0000e-04 - 312ms/epoch - 897us/step\n",
      "Epoch 80/150\n",
      "348/348 - 0s - loss: 0.5999 - accuracy: 0.7132 - val_loss: 0.6280 - val_accuracy: 0.6865 - lr: 5.0000e-04 - 310ms/epoch - 891us/step\n",
      "Epoch 81/150\n",
      "348/348 - 0s - loss: 0.5999 - accuracy: 0.7132 - val_loss: 0.6279 - val_accuracy: 0.6868 - lr: 5.0000e-04 - 310ms/epoch - 891us/step\n",
      "Epoch 82/150\n",
      "348/348 - 0s - loss: 0.5997 - accuracy: 0.7132 - val_loss: 0.6273 - val_accuracy: 0.6878 - lr: 5.0000e-04 - 309ms/epoch - 888us/step\n",
      "Epoch 83/150\n",
      "348/348 - 0s - loss: 0.5999 - accuracy: 0.7132 - val_loss: 0.6270 - val_accuracy: 0.6888 - lr: 5.0000e-04 - 308ms/epoch - 886us/step\n",
      "Epoch 84/150\n",
      "348/348 - 0s - loss: 0.5999 - accuracy: 0.7132 - val_loss: 0.6268 - val_accuracy: 0.6894 - lr: 5.0000e-04 - 305ms/epoch - 876us/step\n",
      "Epoch 85/150\n",
      "348/348 - 0s - loss: 0.5999 - accuracy: 0.7132 - val_loss: 0.6264 - val_accuracy: 0.6900 - lr: 5.0000e-04 - 308ms/epoch - 885us/step\n",
      "Epoch 86/150\n",
      "348/348 - 0s - loss: 0.5998 - accuracy: 0.7132 - val_loss: 0.6262 - val_accuracy: 0.6908 - lr: 5.0000e-04 - 311ms/epoch - 894us/step\n",
      "Epoch 87/150\n",
      "348/348 - 0s - loss: 0.5997 - accuracy: 0.7132 - val_loss: 0.6259 - val_accuracy: 0.6911 - lr: 5.0000e-04 - 304ms/epoch - 874us/step\n",
      "Epoch 88/150\n",
      "348/348 - 0s - loss: 0.5998 - accuracy: 0.7132 - val_loss: 0.6257 - val_accuracy: 0.6911 - lr: 5.0000e-04 - 296ms/epoch - 850us/step\n",
      "Epoch 89/150\n",
      "348/348 - 0s - loss: 0.5999 - accuracy: 0.7132 - val_loss: 0.6252 - val_accuracy: 0.6918 - lr: 5.0000e-04 - 296ms/epoch - 850us/step\n",
      "Epoch 90/150\n",
      "348/348 - 0s - loss: 0.5997 - accuracy: 0.7132 - val_loss: 0.6250 - val_accuracy: 0.6920 - lr: 5.0000e-04 - 305ms/epoch - 877us/step\n",
      "Epoch 91/150\n",
      "348/348 - 0s - loss: 0.5999 - accuracy: 0.7132 - val_loss: 0.6248 - val_accuracy: 0.6925 - lr: 5.0000e-04 - 299ms/epoch - 860us/step\n",
      "Epoch 92/150\n",
      "348/348 - 0s - loss: 0.5999 - accuracy: 0.7132 - val_loss: 0.6246 - val_accuracy: 0.6927 - lr: 5.0000e-04 - 306ms/epoch - 880us/step\n",
      "Epoch 93/150\n",
      "348/348 - 0s - loss: 0.5998 - accuracy: 0.7132 - val_loss: 0.6243 - val_accuracy: 0.6923 - lr: 5.0000e-04 - 301ms/epoch - 865us/step\n",
      "Epoch 94/150\n",
      "348/348 - 0s - loss: 0.5998 - accuracy: 0.7132 - val_loss: 0.6237 - val_accuracy: 0.6930 - lr: 5.0000e-04 - 298ms/epoch - 857us/step\n",
      "Epoch 95/150\n",
      "348/348 - 0s - loss: 0.5999 - accuracy: 0.7132 - val_loss: 0.6232 - val_accuracy: 0.6939 - lr: 5.0000e-04 - 306ms/epoch - 879us/step\n",
      "Epoch 96/150\n",
      "348/348 - 0s - loss: 0.5998 - accuracy: 0.7132 - val_loss: 0.6231 - val_accuracy: 0.6936 - lr: 5.0000e-04 - 310ms/epoch - 890us/step\n",
      "Epoch 97/150\n",
      "348/348 - 0s - loss: 0.5998 - accuracy: 0.7132 - val_loss: 0.6230 - val_accuracy: 0.6940 - lr: 5.0000e-04 - 300ms/epoch - 863us/step\n",
      "Epoch 98/150\n",
      "348/348 - 0s - loss: 0.5997 - accuracy: 0.7132 - val_loss: 0.6227 - val_accuracy: 0.6945 - lr: 5.0000e-04 - 299ms/epoch - 859us/step\n",
      "Epoch 99/150\n",
      "348/348 - 0s - loss: 0.5998 - accuracy: 0.7132 - val_loss: 0.6224 - val_accuracy: 0.6953 - lr: 5.0000e-04 - 305ms/epoch - 878us/step\n",
      "Epoch 100/150\n",
      "348/348 - 0s - loss: 0.5999 - accuracy: 0.7132 - val_loss: 0.6220 - val_accuracy: 0.6958 - lr: 5.0000e-04 - 305ms/epoch - 878us/step\n",
      "Epoch 101/150\n",
      "348/348 - 0s - loss: 0.5997 - accuracy: 0.7132 - val_loss: 0.6217 - val_accuracy: 0.6966 - lr: 5.0000e-04 - 296ms/epoch - 850us/step\n",
      "Epoch 102/150\n",
      "348/348 - 0s - loss: 0.5998 - accuracy: 0.7132 - val_loss: 0.6215 - val_accuracy: 0.6971 - lr: 5.0000e-04 - 301ms/epoch - 866us/step\n",
      "Epoch 103/150\n",
      "348/348 - 0s - loss: 0.5996 - accuracy: 0.7132 - val_loss: 0.6213 - val_accuracy: 0.6972 - lr: 5.0000e-04 - 294ms/epoch - 845us/step\n",
      "Epoch 104/150\n",
      "348/348 - 0s - loss: 0.5998 - accuracy: 0.7132 - val_loss: 0.6210 - val_accuracy: 0.6980 - lr: 5.0000e-04 - 299ms/epoch - 860us/step\n",
      "Epoch 105/150\n",
      "348/348 - 0s - loss: 0.5997 - accuracy: 0.7132 - val_loss: 0.6208 - val_accuracy: 0.6979 - lr: 5.0000e-04 - 305ms/epoch - 877us/step\n",
      "Epoch 106/150\n",
      "348/348 - 0s - loss: 0.5999 - accuracy: 0.7132 - val_loss: 0.6205 - val_accuracy: 0.6982 - lr: 5.0000e-04 - 305ms/epoch - 876us/step\n",
      "Epoch 107/150\n",
      "348/348 - 0s - loss: 0.5999 - accuracy: 0.7132 - val_loss: 0.6202 - val_accuracy: 0.6987 - lr: 5.0000e-04 - 313ms/epoch - 898us/step\n",
      "Epoch 108/150\n",
      "348/348 - 0s - loss: 0.5998 - accuracy: 0.7132 - val_loss: 0.6197 - val_accuracy: 0.6991 - lr: 5.0000e-04 - 320ms/epoch - 920us/step\n",
      "Epoch 109/150\n",
      "348/348 - 0s - loss: 0.5998 - accuracy: 0.7132 - val_loss: 0.6196 - val_accuracy: 0.6994 - lr: 5.0000e-04 - 306ms/epoch - 880us/step\n",
      "Epoch 110/150\n",
      "348/348 - 0s - loss: 0.5998 - accuracy: 0.7132 - val_loss: 0.6193 - val_accuracy: 0.7000 - lr: 5.0000e-04 - 300ms/epoch - 863us/step\n",
      "Epoch 111/150\n",
      "348/348 - 0s - loss: 0.5996 - accuracy: 0.7132 - val_loss: 0.6188 - val_accuracy: 0.7004 - lr: 5.0000e-04 - 294ms/epoch - 845us/step\n",
      "Epoch 112/150\n",
      "348/348 - 0s - loss: 0.5996 - accuracy: 0.7132 - val_loss: 0.6189 - val_accuracy: 0.7007 - lr: 5.0000e-04 - 309ms/epoch - 888us/step\n",
      "Epoch 113/150\n",
      "348/348 - 0s - loss: 0.5997 - accuracy: 0.7132 - val_loss: 0.6187 - val_accuracy: 0.7009 - lr: 5.0000e-04 - 303ms/epoch - 870us/step\n",
      "Epoch 114/150\n",
      "348/348 - 0s - loss: 0.5996 - accuracy: 0.7132 - val_loss: 0.6185 - val_accuracy: 0.7010 - lr: 5.0000e-04 - 323ms/epoch - 928us/step\n",
      "Epoch 115/150\n",
      "348/348 - 0s - loss: 0.5997 - accuracy: 0.7132 - val_loss: 0.6181 - val_accuracy: 0.7011 - lr: 5.0000e-04 - 312ms/epoch - 896us/step\n",
      "Epoch 116/150\n",
      "348/348 - 0s - loss: 0.5997 - accuracy: 0.7132 - val_loss: 0.6183 - val_accuracy: 0.7012 - lr: 5.0000e-04 - 310ms/epoch - 892us/step\n",
      "Epoch 117/150\n",
      "348/348 - 0s - loss: 0.5996 - accuracy: 0.7132 - val_loss: 0.6179 - val_accuracy: 0.7014 - lr: 5.0000e-04 - 312ms/epoch - 897us/step\n",
      "Epoch 118/150\n",
      "348/348 - 0s - loss: 0.5996 - accuracy: 0.7132 - val_loss: 0.6179 - val_accuracy: 0.7015 - lr: 5.0000e-04 - 297ms/epoch - 854us/step\n",
      "Epoch 119/150\n",
      "348/348 - 0s - loss: 0.5996 - accuracy: 0.7132 - val_loss: 0.6173 - val_accuracy: 0.7021 - lr: 5.0000e-04 - 295ms/epoch - 848us/step\n",
      "Epoch 120/150\n",
      "348/348 - 0s - loss: 0.5995 - accuracy: 0.7132 - val_loss: 0.6174 - val_accuracy: 0.7019 - lr: 5.0000e-04 - 305ms/epoch - 875us/step\n",
      "Epoch 121/150\n",
      "348/348 - 0s - loss: 0.5996 - accuracy: 0.7132 - val_loss: 0.6173 - val_accuracy: 0.7020 - lr: 5.0000e-04 - 300ms/epoch - 862us/step\n",
      "Epoch 122/150\n",
      "348/348 - 0s - loss: 0.5997 - accuracy: 0.7132 - val_loss: 0.6169 - val_accuracy: 0.7028 - lr: 5.0000e-04 - 296ms/epoch - 851us/step\n",
      "Epoch 123/150\n",
      "348/348 - 0s - loss: 0.5996 - accuracy: 0.7132 - val_loss: 0.6167 - val_accuracy: 0.7030 - lr: 5.0000e-04 - 298ms/epoch - 857us/step\n",
      "Epoch 124/150\n",
      "348/348 - 0s - loss: 0.5996 - accuracy: 0.7132 - val_loss: 0.6161 - val_accuracy: 0.7037 - lr: 5.0000e-04 - 296ms/epoch - 851us/step\n",
      "Epoch 125/150\n",
      "348/348 - 0s - loss: 0.5998 - accuracy: 0.7132 - val_loss: 0.6162 - val_accuracy: 0.7040 - lr: 5.0000e-04 - 299ms/epoch - 860us/step\n",
      "Epoch 126/150\n",
      "348/348 - 0s - loss: 0.5996 - accuracy: 0.7132 - val_loss: 0.6163 - val_accuracy: 0.7038 - lr: 5.0000e-04 - 297ms/epoch - 854us/step\n",
      "Epoch 127/150\n",
      "348/348 - 0s - loss: 0.5995 - accuracy: 0.7132 - val_loss: 0.6159 - val_accuracy: 0.7041 - lr: 5.0000e-04 - 311ms/epoch - 893us/step\n",
      "Epoch 128/150\n",
      "348/348 - 0s - loss: 0.5997 - accuracy: 0.7132 - val_loss: 0.6158 - val_accuracy: 0.7044 - lr: 5.0000e-04 - 307ms/epoch - 882us/step\n",
      "Epoch 129/150\n",
      "348/348 - 0s - loss: 0.5997 - accuracy: 0.7132 - val_loss: 0.6156 - val_accuracy: 0.7046 - lr: 5.0000e-04 - 300ms/epoch - 863us/step\n",
      "Epoch 130/150\n",
      "348/348 - 0s - loss: 0.5997 - accuracy: 0.7132 - val_loss: 0.6154 - val_accuracy: 0.7052 - lr: 5.0000e-04 - 302ms/epoch - 869us/step\n",
      "Epoch 131/150\n",
      "348/348 - 0s - loss: 0.5996 - accuracy: 0.7132 - val_loss: 0.6152 - val_accuracy: 0.7053 - lr: 5.0000e-04 - 303ms/epoch - 871us/step\n",
      "Epoch 132/150\n",
      "348/348 - 0s - loss: 0.5997 - accuracy: 0.7132 - val_loss: 0.6152 - val_accuracy: 0.7055 - lr: 5.0000e-04 - 301ms/epoch - 865us/step\n",
      "Epoch 133/150\n",
      "348/348 - 0s - loss: 0.5995 - accuracy: 0.7132 - val_loss: 0.6151 - val_accuracy: 0.7056 - lr: 5.0000e-04 - 301ms/epoch - 865us/step\n",
      "Epoch 134/150\n",
      "348/348 - 0s - loss: 0.5997 - accuracy: 0.7132 - val_loss: 0.6145 - val_accuracy: 0.7062 - lr: 5.0000e-04 - 307ms/epoch - 882us/step\n",
      "Epoch 135/150\n",
      "348/348 - 0s - loss: 0.5997 - accuracy: 0.7132 - val_loss: 0.6145 - val_accuracy: 0.7065 - lr: 5.0000e-04 - 309ms/epoch - 887us/step\n",
      "Epoch 136/150\n",
      "348/348 - 0s - loss: 0.5995 - accuracy: 0.7132 - val_loss: 0.6145 - val_accuracy: 0.7065 - lr: 5.0000e-04 - 300ms/epoch - 863us/step\n",
      "Epoch 137/150\n",
      "348/348 - 0s - loss: 0.5996 - accuracy: 0.7132 - val_loss: 0.6143 - val_accuracy: 0.7066 - lr: 5.0000e-04 - 299ms/epoch - 858us/step\n",
      "Epoch 138/150\n",
      "348/348 - 0s - loss: 0.5997 - accuracy: 0.7132 - val_loss: 0.6143 - val_accuracy: 0.7066 - lr: 5.0000e-04 - 293ms/epoch - 842us/step\n",
      "Epoch 139/150\n",
      "348/348 - 0s - loss: 0.5996 - accuracy: 0.7132 - val_loss: 0.6143 - val_accuracy: 0.7069 - lr: 5.0000e-04 - 297ms/epoch - 854us/step\n",
      "Epoch 140/150\n",
      "348/348 - 0s - loss: 0.5996 - accuracy: 0.7132 - val_loss: 0.6141 - val_accuracy: 0.7073 - lr: 5.0000e-04 - 295ms/epoch - 848us/step\n",
      "Epoch 141/150\n",
      "348/348 - 0s - loss: 0.5996 - accuracy: 0.7132 - val_loss: 0.6138 - val_accuracy: 0.7076 - lr: 5.0000e-04 - 297ms/epoch - 854us/step\n",
      "Epoch 142/150\n",
      "348/348 - 0s - loss: 0.5995 - accuracy: 0.7132 - val_loss: 0.6138 - val_accuracy: 0.7077 - lr: 5.0000e-04 - 302ms/epoch - 869us/step\n",
      "Epoch 143/150\n",
      "348/348 - 0s - loss: 0.5995 - accuracy: 0.7132 - val_loss: 0.6136 - val_accuracy: 0.7082 - lr: 5.0000e-04 - 302ms/epoch - 868us/step\n",
      "Epoch 144/150\n",
      "348/348 - 0s - loss: 0.5996 - accuracy: 0.7132 - val_loss: 0.6134 - val_accuracy: 0.7081 - lr: 5.0000e-04 - 303ms/epoch - 870us/step\n",
      "Epoch 145/150\n",
      "348/348 - 0s - loss: 0.5997 - accuracy: 0.7132 - val_loss: 0.6131 - val_accuracy: 0.7084 - lr: 5.0000e-04 - 301ms/epoch - 865us/step\n",
      "Epoch 146/150\n",
      "348/348 - 0s - loss: 0.5996 - accuracy: 0.7132 - val_loss: 0.6131 - val_accuracy: 0.7083 - lr: 5.0000e-04 - 297ms/epoch - 853us/step\n",
      "Epoch 147/150\n",
      "348/348 - 0s - loss: 0.5997 - accuracy: 0.7132 - val_loss: 0.6130 - val_accuracy: 0.7086 - lr: 5.0000e-04 - 300ms/epoch - 861us/step\n",
      "Epoch 148/150\n",
      "348/348 - 0s - loss: 0.5999 - accuracy: 0.7132 - val_loss: 0.6127 - val_accuracy: 0.7090 - lr: 5.0000e-04 - 307ms/epoch - 881us/step\n",
      "Epoch 149/150\n",
      "348/348 - 0s - loss: 0.5996 - accuracy: 0.7132 - val_loss: 0.6126 - val_accuracy: 0.7090 - lr: 5.0000e-04 - 301ms/epoch - 865us/step\n",
      "Epoch 150/150\n",
      "348/348 - 0s - loss: 0.5996 - accuracy: 0.7132 - val_loss: 0.6122 - val_accuracy: 0.7092 - lr: 5.0000e-04 - 298ms/epoch - 856us/step\n"
     ]
    },
    {
     "data": {
      "text/plain": "<Figure size 640x480 with 1 Axes>",
      "image/png": "[encoded data removed]"
     },
     "metadata": {},
     "output_type": "display_data"
    }
   ],
   "source": [
    "\n",
    "history = keras_mlp(X_train, y_train, X_std_val, y_val, sgd, activation=\"tanh\", dropout=0.3,\n",
    "                    epochs=150)\n",
    "plt.plot(history.history['accuracy'])\n",
    "plt.plot(history.history['val_accuracy'])\n",
    "plt.title('model accuracy')\n",
    "plt.ylabel('accuracy')\n",
    "plt.xlabel('epoch')\n",
    "plt.legend(['train', 'val'], loc='upper left')\n",
    "plt.show()"
   ],
   "metadata": {
    "collapsed": false,
    "ExecuteTime": {
     "end_time": "2023-12-19T12:08:42.851290300Z",
     "start_time": "2023-12-19T12:07:57.397657200Z"
    }
   },
   "id": "e8f988acb1cbf1a1"
  },
  {
   "cell_type": "code",
   "execution_count": 52,
   "outputs": [],
   "source": [],
   "metadata": {
    "collapsed": false,
    "ExecuteTime": {
     "end_time": "2023-12-19T11:51:46.867638600Z",
     "start_time": "2023-12-19T11:51:46.823483Z"
    }
   },
   "id": "8f63bf893dc7b633"
  },
  {
   "cell_type": "code",
   "execution_count": null,
   "outputs": [],
   "source": [],
   "metadata": {
    "collapsed": false
   },
   "id": "6e8c389637e4984a"
  }
 ],
 "metadata": {
  "kernelspec": {
   "display_name": "Python 3",
   "language": "python",
   "name": "python3"
  },
  "language_info": {
   "codemirror_mode": {
    "name": "ipython",
    "version": 2
   },
   "file_extension": ".py",
   "mimetype": "text/x-python",
   "name": "python",
   "nbconvert_exporter": "python",
   "pygments_lexer": "ipython2",
   "version": "2.7.6"
  }
 },
 "nbformat": 4,
 "nbformat_minor": 5
}
