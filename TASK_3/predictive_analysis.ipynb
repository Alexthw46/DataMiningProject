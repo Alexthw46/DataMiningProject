{
 "cells": [
  {
   "cell_type": "code",
   "execution_count": 1,
   "outputs": [
    {
     "name": "stdout",
     "output_type": "stream",
     "text": [
      "WARNING:tensorflow:From C:\\Users\\Hp\\Desktop\\DataMining\\env\\lib\\site-packages\\keras\\src\\losses.py:2976: The name tf.losses.sparse_softmax_cross_entropy is deprecated. Please use tf.compat.v1.losses.sparse_softmax_cross_entropy instead.\n"
     ]
    }
   ],
   "source": [
    "from sklearn.preprocessing import StandardScaler\n",
    "from sklearn.model_selection import train_test_split\n",
    "from matplotlib import pyplot as plt\n",
    "from sklearn.metrics import classification_report\n",
    "from classifiers import grid_search"
   ],
   "metadata": {
    "collapsed": false,
    "ExecuteTime": {
     "end_time": "2023-12-19T11:07:16.282809200Z",
     "start_time": "2023-12-19T11:06:59.884441600Z"
    }
   },
   "id": "472bef9c925d68b2"
  },
  {
   "cell_type": "markdown",
   "source": [
    "Load the dataset and select the features and target to use for the classification."
   ],
   "metadata": {
    "collapsed": false
   },
   "id": "b24e39b5927cc9d5"
  },
  {
   "cell_type": "code",
   "execution_count": 2,
   "outputs": [],
   "source": [
    "import pandas as pd\n",
    "\n",
    "df = pd.read_csv('../data/new_incidents.csv')\n",
    "\n",
    "# drop useless columns\n",
    "df = df.drop(columns=['notes', 'date'])\n",
    "\n",
    "poverty_df = pd.read_csv('../data/poverty_cleaned.csv')\n",
    "df = df.merge(poverty_df, on=['state', 'year'])"
   ],
   "metadata": {
    "collapsed": false,
    "ExecuteTime": {
     "end_time": "2023-12-19T11:07:17.849819700Z",
     "start_time": "2023-12-19T11:07:16.293085300Z"
    }
   },
   "id": "e470a010423fd494"
  },
  {
   "cell_type": "code",
   "execution_count": 3,
   "outputs": [],
   "source": [
    "# convert state string to int\n",
    "df['state'] = df['state'].astype('category')\n",
    "df['state'] = df['state'].cat.codes\n",
    "\n",
    "df['city_or_county'] = df['city_or_county'].astype('category')\n",
    "df['city_or_county'] = df['city_or_county'].cat.codes\n",
    "\n",
    "df['incident_category'] = df['incident_category'].astype('category')\n",
    "df['incident_category'] = df['incident_category'].cat.codes\n",
    "\n",
    "df[\"any_killed\"] = df[\"n_killed\"] > 0\n",
    "\n",
    "df = df.dropna()"
   ],
   "metadata": {
    "collapsed": false,
    "ExecuteTime": {
     "end_time": "2023-12-19T11:07:18.020013300Z",
     "start_time": "2023-12-19T11:07:17.856826300Z"
    }
   },
   "id": "76f7e66425f0f251"
  },
  {
   "cell_type": "code",
   "execution_count": 4,
   "outputs": [
    {
     "name": "stdout",
     "output_type": "stream",
     "text": [
      "<class 'pandas.core.frame.DataFrame'>\n",
      "Index: 159432 entries, 0 to 183652\n",
      "Data columns (total 37 columns):\n",
      " #   Column                  Non-Null Count   Dtype  \n",
      "---  ------                  --------------   -----  \n",
      " 0   state                   159432 non-null  int8   \n",
      " 1   city_or_county          159432 non-null  int16  \n",
      " 2   latitude                159432 non-null  float64\n",
      " 3   longitude               159432 non-null  float64\n",
      " 4   congressional_district  159432 non-null  float64\n",
      " 5   avg_age_participants    159432 non-null  float64\n",
      " 6   n_participants_adult    159432 non-null  float64\n",
      " 7   n_males                 159432 non-null  float64\n",
      " 8   n_females               159432 non-null  float64\n",
      " 9   n_killed                159432 non-null  int64  \n",
      " 10  n_injured               159432 non-null  int64  \n",
      " 11  n_arrested              159432 non-null  int64  \n",
      " 12  n_unharmed              159432 non-null  int64  \n",
      " 13  n_participants          159432 non-null  int64  \n",
      " 14  year                    159432 non-null  int64  \n",
      " 15  month                   159432 non-null  int64  \n",
      " 16  day                     159432 non-null  int64  \n",
      " 17  incident_category       159432 non-null  int8   \n",
      " 18  kills_to_pov            159432 non-null  float64\n",
      " 19  age_to_average          159432 non-null  float64\n",
      " 20  avg_participants        159432 non-null  float64\n",
      " 21  par_to_average          159432 non-null  float64\n",
      " 22  n_involved              159432 non-null  int64  \n",
      " 23  minors_to_pop           159432 non-null  float64\n",
      " 24  par_to_pop              159432 non-null  float64\n",
      " 25  kil_to_p                159432 non-null  float64\n",
      " 26  man_to_p                159432 non-null  float64\n",
      " 27  fem_to_p                159432 non-null  float64\n",
      " 28  arr_to_p                159432 non-null  float64\n",
      " 29  unh_to_p                159432 non-null  float64\n",
      " 30  inj_to_p                159432 non-null  float64\n",
      " 31  n_minors                159432 non-null  float64\n",
      " 32  teen_to_m               159432 non-null  float64\n",
      " 33  teen_to_f               159432 non-null  float64\n",
      " 34  par_to_tot              159432 non-null  float64\n",
      " 35  povertyPercentage       159432 non-null  float64\n",
      " 36  any_killed              159432 non-null  bool   \n",
      "dtypes: bool(1), float64(24), int16(1), int64(9), int8(2)\n",
      "memory usage: 42.1 MB\n"
     ]
    }
   ],
   "source": [
    "df.info()"
   ],
   "metadata": {
    "collapsed": false,
    "ExecuteTime": {
     "end_time": "2023-12-19T11:07:18.066441900Z",
     "start_time": "2023-12-19T11:07:18.024992800Z"
    }
   },
   "id": "415009f3880f00c8"
  },
  {
   "cell_type": "code",
   "execution_count": 5,
   "outputs": [],
   "source": [
    "input_columns = ['state', 'longitude', 'latitude', 'year', 'month', 'n_participants',\n",
    "                 'n_participants_adult', 'n_minors',\n",
    "                 'n_males', 'n_females',\n",
    "                 'povertyPercentage', 'n_arrested', 'n_injured']\n",
    "\n",
    "target_column = ['any_killed']\n",
    "\n",
    "X = df[input_columns]\n",
    "y = df[target_column]"
   ],
   "metadata": {
    "collapsed": false,
    "ExecuteTime": {
     "end_time": "2023-12-19T11:07:18.149562Z",
     "start_time": "2023-12-19T11:07:18.074697500Z"
    }
   },
   "id": "ccf8a6c09207fdb"
  },
  {
   "cell_type": "code",
   "execution_count": 6,
   "outputs": [
    {
     "data": {
      "text/plain": "<Figure size 640x480 with 1 Axes>",
      "image/png": "[encoded data removed]"
     },
     "metadata": {},
     "output_type": "display_data"
    }
   ],
   "source": [
    "kill_value_count = df['any_killed'].value_counts()\n",
    "\n",
    "labels = ['no_killed', 'any_killed']\n",
    "plt.pie(kill_value_count, labels=labels)\n",
    "plt.show()"
   ],
   "metadata": {
    "collapsed": false,
    "ExecuteTime": {
     "end_time": "2023-12-19T11:07:18.308895600Z",
     "start_time": "2023-12-19T11:07:18.104432800Z"
    }
   },
   "id": "9908b266abfeffa0"
  },
  {
   "cell_type": "markdown",
   "source": [
    "Split the dataset into dev and test sets, then into train and validation (70/15/15). "
   ],
   "metadata": {
    "collapsed": false
   },
   "id": "3dbc5989d2002a13"
  },
  {
   "cell_type": "code",
   "execution_count": 7,
   "outputs": [
    {
     "name": "stdout",
     "output_type": "stream",
     "text": [
      "Dev set size: 135517 - Killing ratio: 0.29\n",
      "     Train set size: 111123 - Killing ratio: 0.29\n",
      "     Validation set size: 24394 - Killing ratio: 0.29\n",
      "Test set size: 23915 - Killing ratio: 0.29\n"
     ]
    }
   ],
   "source": [
    "import numpy as np\n",
    "\n",
    "seed = 42\n",
    "X_dev, X_test, y_dev, y_test = train_test_split(X, y, random_state=seed, test_size=0.15, stratify=y)\n",
    "X_train, X_val, y_train, y_val = train_test_split(X_dev, y_dev, random_state=seed, test_size=0.18, stratify=y_dev)\n",
    "\n",
    "print('Dev set size:', len(y_dev), '- Killing ratio:', round(np.count_nonzero(y_dev) / len(y_dev), 2))\n",
    "print('     Train set size:', len(y_train), '- Killing ratio:', round(np.count_nonzero(y_train) / len(y_train), 2))\n",
    "print('     Validation set size:', len(y_val), '- Killing ratio:', round(np.count_nonzero(y_val) / len(y_val), 2))\n",
    "print('Test set size:', len(y_test), '- Killing ratio:', round(np.count_nonzero(y_test) / len(y_test), 2))"
   ],
   "metadata": {
    "collapsed": false,
    "ExecuteTime": {
     "end_time": "2023-12-19T11:07:19.648390Z",
     "start_time": "2023-12-19T11:07:18.317857300Z"
    }
   },
   "id": "899dbd6cb267d590"
  },
  {
   "cell_type": "markdown",
   "source": [
    "Standardize the input data to avoid the bias given by the range of the different attribute"
   ],
   "metadata": {
    "collapsed": false
   },
   "id": "19fd1eba6002e256"
  },
  {
   "cell_type": "code",
   "execution_count": 8,
   "outputs": [],
   "source": [
    "scaler = StandardScaler()\n",
    "X_std_dev = scaler.fit_transform(X_dev)\n",
    "X_std_train = scaler.fit_transform(X_train)\n",
    "X_std_val = scaler.fit_transform(X_val)\n",
    "X_std_test = scaler.fit_transform(X_test)\n",
    "\n",
    "# ravel() is used to convert the y arrays from 2D to 1D\n",
    "y_dev = y_dev.values.ravel()\n",
    "y_train = y_train.values.ravel()\n",
    "y_val = y_val.values.ravel()\n",
    "y_test = y_test.values.ravel()\n"
   ],
   "metadata": {
    "collapsed": false,
    "ExecuteTime": {
     "end_time": "2023-12-19T11:07:19.780024Z",
     "start_time": "2023-12-19T11:07:19.655375200Z"
    }
   },
   "id": "6d0c9e73be3969b4"
  },
  {
   "cell_type": "markdown",
   "source": [
    "# KNN"
   ],
   "metadata": {
    "collapsed": false
   },
   "id": "71a94be154a093da"
  },
  {
   "cell_type": "code",
   "execution_count": 64,
   "outputs": [],
   "source": [
    "from sklearn.neighbors import KNeighborsClassifier"
   ],
   "metadata": {
    "collapsed": false,
    "ExecuteTime": {
     "end_time": "2023-12-18T11:44:20.382936700Z",
     "start_time": "2023-12-18T11:44:20.368804900Z"
    }
   },
   "id": "84cd4016a05761d6"
  },
  {
   "cell_type": "code",
   "execution_count": 65,
   "outputs": [
    {
     "data": {
      "text/plain": "<Figure size 640x480 with 1 Axes>",
      "image/png": "[encoded data removed]"
     },
     "metadata": {},
     "output_type": "display_data"
    }
   ],
   "source": [
    "knn_list = []\n",
    "acc_tr_list = []\n",
    "acc_val_list = []\n",
    "\n",
    "for x in range(1, 20):\n",
    "    # Create KNN classifier\n",
    "    knn = KNeighborsClassifier(n_neighbors=x)\n",
    "    knn.fit(X_std_train, y_train)\n",
    "    acc_tr = knn.score(X_std_train, y_train)\n",
    "    acc_val = knn.score(X_std_val, y_val)\n",
    "    # append results\n",
    "    knn_list.append(knn)\n",
    "    acc_tr_list.append(acc_tr)\n",
    "    acc_val_list.append(acc_val)\n",
    "\n",
    "plt.plot(range(len(acc_tr_list)), acc_tr_list, 'r--', label='training')\n",
    "plt.plot(range(len(acc_val_list)), acc_val_list, 'b-', label='validation')\n",
    "plt.ylabel('accuracy')\n",
    "plt.xlabel('K')\n",
    "plt.tick_params(axis='both', which='major', labelsize=22)\n",
    "plt.title('KNN')\n",
    "# plt.axvline(10)\n",
    "plt.legend(loc=\"upper right\")\n",
    "plt.show()"
   ],
   "metadata": {
    "collapsed": false,
    "ExecuteTime": {
     "end_time": "2023-12-18T11:49:47.243767300Z",
     "start_time": "2023-12-18T11:44:20.384961Z"
    }
   },
   "id": "a38e2d2983b430cc"
  },
  {
   "cell_type": "markdown",
   "source": [
    "# Bayesian Classifier"
   ],
   "metadata": {
    "collapsed": false
   },
   "id": "a00dc43e8c2399e3"
  },
  {
   "cell_type": "code",
   "execution_count": 66,
   "outputs": [
    {
     "name": "stdout",
     "output_type": "stream",
     "text": [
      "              precision    recall  f1-score   support\n",
      "\n",
      "   no_killed       0.92      0.75      0.82     21318\n",
      "  any_killed       0.23      0.53      0.33      3076\n",
      "\n",
      "    accuracy                           0.72     24394\n",
      "   macro avg       0.58      0.64      0.58     24394\n",
      "weighted avg       0.83      0.72      0.76     24394\n"
     ]
    }
   ],
   "source": [
    "from sklearn.naive_bayes import GaussianNB, BernoulliNB\n",
    "\n",
    "gnb = GaussianNB()\n",
    "y_pred_val = gnb.fit(X_std_train, y_train).predict(X_std_val)\n",
    "print(classification_report(y_pred_val, y_val, target_names=labels))"
   ],
   "metadata": {
    "collapsed": false,
    "ExecuteTime": {
     "end_time": "2023-12-18T11:49:47.307433900Z",
     "start_time": "2023-12-18T11:49:47.245785800Z"
    }
   },
   "id": "957e2874be5db7f0"
  },
  {
   "cell_type": "code",
   "execution_count": 67,
   "outputs": [
    {
     "name": "stdout",
     "output_type": "stream",
     "text": [
      "              precision    recall  f1-score   support\n",
      "\n",
      "   no_killed       0.89      0.77      0.82     19959\n",
      "  any_killed       0.35      0.55      0.43      4435\n",
      "\n",
      "    accuracy                           0.73     24394\n",
      "   macro avg       0.62      0.66      0.63     24394\n",
      "weighted avg       0.79      0.73      0.75     24394\n"
     ]
    }
   ],
   "source": [
    "bnb = BernoulliNB()\n",
    "y_pred_val = bnb.fit(X_std_train, y_train).predict(X_std_val)\n",
    "print(classification_report(y_pred_val, y_val, target_names=labels))"
   ],
   "metadata": {
    "collapsed": false,
    "ExecuteTime": {
     "end_time": "2023-12-18T11:49:47.351225900Z",
     "start_time": "2023-12-18T11:49:47.291227Z"
    }
   },
   "id": "82fcf1592cfe7ef1"
  },
  {
   "cell_type": "markdown",
   "source": [
    "# Decision Tree"
   ],
   "metadata": {
    "collapsed": false
   },
   "id": "21da7c93153846f1"
  },
  {
   "cell_type": "code",
   "execution_count": 68,
   "outputs": [
    {
     "name": "stdout",
     "output_type": "stream",
     "text": [
      "Fitting 5 folds for each of 768 candidates, totalling 3840 fits\n",
      "Best parameters set found:\n",
      "{'criterion': 'gini', 'max_depth': 10, 'max_features': None, 'min_samples_leaf': 10, 'min_samples_split': 5, 'splitter': 'best'}\n",
      "Best accuracy score found:\n",
      "0.8618623858104645\n"
     ]
    }
   ],
   "source": [
    "from sklearn.tree import DecisionTreeClassifier\n",
    "\n",
    "dt_params = {\n",
    "    'criterion': ['gini', 'entropy'],\n",
    "    'splitter': ['best', 'random'],\n",
    "    'max_depth': [5, 10, 20, 50],\n",
    "    'min_samples_split': [2, 5, 10, 20],\n",
    "    'min_samples_leaf': [1, 2, 5, 10],\n",
    "    'max_features': ['sqrt', 'log2', None]\n",
    "}\n",
    "best_score_dt, decision_tree = grid_search(DecisionTreeClassifier(), X_std_dev, y_dev, dt_params)"
   ],
   "metadata": {
    "collapsed": false,
    "ExecuteTime": {
     "end_time": "2023-12-18T11:50:56.567065600Z",
     "start_time": "2023-12-18T11:49:47.353257700Z"
    }
   },
   "id": "b73383126dec714a"
  },
  {
   "cell_type": "markdown",
   "source": [
    "# Random Forest"
   ],
   "metadata": {
    "collapsed": false
   },
   "id": "92516165ac33a8f3"
  },
  {
   "cell_type": "code",
   "execution_count": 69,
   "outputs": [
    {
     "name": "stdout",
     "output_type": "stream",
     "text": [
      "Fitting 5 folds for each of 480 candidates, totalling 2400 fits\n",
      "Best parameters set found:\n",
      "{'max_depth': 20, 'max_features': 'log2', 'min_samples_leaf': 2, 'min_samples_split': 5, 'n_estimators': 150}\n",
      "Best accuracy score found:\n",
      "0.8745692715436295\n"
     ]
    }
   ],
   "source": [
    "from sklearn.ensemble import RandomForestClassifier\n",
    "\n",
    "rf_params = {\n",
    "    'n_estimators': [50, 100, 150],\n",
    "    'max_depth': [5, 10, 20, None],\n",
    "    'min_samples_split': [2, 5, 10, 20],\n",
    "    'min_samples_leaf': [1, 2, 5, 10, 20],\n",
    "    'max_features': ['sqrt', 'log2']\n",
    "}\n",
    "best_score_rf, random_forest = grid_search(RandomForestClassifier(), X_std_dev, y_dev, rf_params)"
   ],
   "metadata": {
    "collapsed": false,
    "ExecuteTime": {
     "end_time": "2023-12-18T12:33:05.791764400Z",
     "start_time": "2023-12-18T11:50:56.560579700Z"
    }
   },
   "id": "21e5b2d000d3f411"
  },
  {
   "cell_type": "markdown",
   "source": [
    "# SVM"
   ],
   "metadata": {
    "collapsed": false
   },
   "id": "8429dc66c43e3edb"
  },
  {
   "cell_type": "code",
   "execution_count": null,
   "outputs": [
    {
     "name": "stdout",
     "output_type": "stream",
     "text": [
      "Fitting 5 folds for each of 18 candidates, totalling 90 fits\n"
     ]
    }
   ],
   "source": [
    "from sklearn.svm import SVC\n",
    "\n",
    "svm_params = {\n",
    "    \"kernel\": [\"rbf\", \"linear\", \"sigmoid\"],\n",
    "    \"gamma\": [\"scale\", \"auto\"],\n",
    "    \"C\": [0.1, 1, 10]\n",
    "}\n",
    "\n",
    "best_score_svm, svm = grid_search(SVC(), X_std_dev, y_dev, svm_params)"
   ],
   "metadata": {
    "collapsed": false,
    "ExecuteTime": {
     "start_time": "2023-12-16T15:49:39.989833500Z"
    }
   },
   "id": "5896d07dd2e53da0"
  },
  {
   "cell_type": "markdown",
   "source": [
    "# Neural Network"
   ],
   "metadata": {
    "collapsed": false
   },
   "id": "34f01b2dc33640bc"
  },
  {
   "cell_type": "code",
   "execution_count": 11,
   "outputs": [
    {
     "name": "stdout",
     "output_type": "stream",
     "text": [
      "Fitting 5 folds for each of 216 candidates, totalling 1080 fits\n",
      "Best parameters set found:\n",
      "{'activation': 'tanh', 'alpha': 0.01, 'hidden_layer_sizes': (50, 25), 'learning_rate': 'adaptive', 'learning_rate_init': 0.001, 'max_iter': 100, 'solver': 'adam'}\n",
      "Best accuracy score found:\n",
      "0.7155043180850036\n"
     ]
    },
    {
     "name": "stderr",
     "output_type": "stream",
     "text": [
      "C:\\Users\\alext\\Desktop\\UniProjs\\venv\\lib\\site-packages\\sklearn\\neural_network\\_multilayer_perceptron.py:691: ConvergenceWarning: Stochastic Optimizer: Maximum iterations (100) reached and the optimization hasn't converged yet.\n",
      "  warnings.warn(\n"
     ]
    }
   ],
   "source": [
    "from sklearn.neural_network import MLPClassifier\n",
    "\n",
    "nn_params = {\n",
    "    'hidden_layer_sizes': [25, 50, (50, 25)],\n",
    "    'activation': ['tanh', 'relu'],\n",
    "    'solver': ['sgd', 'adam'],\n",
    "    'alpha': [0.0001, 0.001, 0.01],\n",
    "    'learning_rate': ['constant', 'adaptive'],\n",
    "    'max_iter': [20, 50, 100]\n",
    "}\n",
    "\n",
    "best_score_nn, neural_network = grid_search(MLPClassifier(), X_std_dev, y_dev, nn_params)"
   ],
   "metadata": {
    "collapsed": false,
    "ExecuteTime": {
     "end_time": "2023-12-16T20:44:28.717762500Z",
     "start_time": "2023-12-16T20:30:28.060145300Z"
    }
   },
   "id": "c3721482fd254e30"
  },
  {
   "cell_type": "code",
   "execution_count": null,
   "outputs": [
    {
     "name": "stdout",
     "output_type": "stream",
     "text": [
      "WARNING:tensorflow:From C:\\Users\\Hp\\Desktop\\DataMining\\env\\lib\\site-packages\\keras\\src\\backend.py:1398: The name tf.executing_eagerly_outside_functions is deprecated. Please use tf.compat.v1.executing_eagerly_outside_functions instead.\n",
      "Epoch 1/100\n",
      "WARNING:tensorflow:From C:\\Users\\Hp\\Desktop\\DataMining\\env\\lib\\site-packages\\keras\\src\\utils\\tf_utils.py:492: The name tf.ragged.RaggedTensorValue is deprecated. Please use tf.compat.v1.ragged.RaggedTensorValue instead.\n",
      "WARNING:tensorflow:From C:\\Users\\Hp\\Desktop\\DataMining\\env\\lib\\site-packages\\keras\\src\\engine\\base_layer_utils.py:384: The name tf.executing_eagerly_outside_functions is deprecated. Please use tf.compat.v1.executing_eagerly_outside_functions instead.\n",
      "3473/3473 - 10s - loss: 0.6023 - accuracy: 0.7128 - val_loss: 0.5994 - val_accuracy: 0.7132 - 10s/epoch - 3ms/step\n",
      "Epoch 2/100\n",
      "3473/3473 - 13s - loss: 0.5994 - accuracy: 0.7132 - val_loss: 0.5993 - val_accuracy: 0.7132 - 13s/epoch - 4ms/step\n",
      "Epoch 3/100\n",
      "3473/3473 - 17s - loss: 0.5994 - accuracy: 0.7132 - val_loss: 0.5993 - val_accuracy: 0.7132 - 17s/epoch - 5ms/step\n",
      "Epoch 4/100\n",
      "3473/3473 - 8s - loss: 0.5995 - accuracy: 0.7132 - val_loss: 0.5993 - val_accuracy: 0.7132 - 8s/epoch - 2ms/step\n",
      "Epoch 5/100\n",
      "3473/3473 - 11s - loss: 0.5994 - accuracy: 0.7132 - val_loss: 0.5993 - val_accuracy: 0.7132 - 11s/epoch - 3ms/step\n",
      "Epoch 6/100\n",
      "3473/3473 - 10s - loss: 0.5994 - accuracy: 0.7132 - val_loss: 0.5993 - val_accuracy: 0.7132 - 10s/epoch - 3ms/step\n",
      "Epoch 7/100\n",
      "3473/3473 - 9s - loss: 0.5994 - accuracy: 0.7132 - val_loss: 0.5993 - val_accuracy: 0.7132 - 9s/epoch - 2ms/step\n",
      "Epoch 8/100\n"
     ]
    }
   ],
   "source": [
    "from keras.src.optimizers import SGD\n",
    "from classifiers import keras_mlp\n",
    "\n",
    "history = keras_mlp(X_train, y_train, X_std_val, y_val, SGD(learning_rate=0.01, momentum=0.9, nesterov=True),\n",
    "                     activation=\"tanh\", dropout=0.3, epochs=100)\n",
    "plt.plot(history.history['accuracy'])\n",
    "plt.plot(history.history['val_accuracy'])\n",
    "plt.title('model accuracy')\n",
    "plt.ylabel('accuracy')\n",
    "plt.xlabel('epoch')\n",
    "plt.legend(['train', 'val'], loc='upper left')\n",
    "plt.show()"
   ],
   "metadata": {
    "collapsed": false,
    "is_executing": true,
    "ExecuteTime": {
     "start_time": "2023-12-19T11:07:19.782594300Z"
    }
   },
   "id": "871bee4d46a291ad"
  },
  {
   "cell_type": "code",
   "execution_count": null,
   "outputs": [],
   "source": [],
   "metadata": {
    "collapsed": false
   },
   "id": "8f63bf893dc7b633"
  }
 ],
 "metadata": {
  "kernelspec": {
   "display_name": "Python 3",
   "language": "python",
   "name": "python3"
  },
  "language_info": {
   "codemirror_mode": {
    "name": "ipython",
    "version": 2
   },
   "file_extension": ".py",
   "mimetype": "text/x-python",
   "name": "python",
   "nbconvert_exporter": "python",
   "pygments_lexer": "ipython2",
   "version": "2.7.6"
  }
 },
 "nbformat": 4,
 "nbformat_minor": 5
}
