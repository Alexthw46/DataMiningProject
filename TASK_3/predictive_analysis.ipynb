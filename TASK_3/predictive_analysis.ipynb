{
 "cells": [
  {
   "cell_type": "code",
   "execution_count": 1,
   "outputs": [
    {
     "name": "stdout",
     "output_type": "stream",
     "text": [
      "WARNING:tensorflow:From C:\\Users\\alext\\Desktop\\UniProjs\\venv\\lib\\site-packages\\keras\\src\\losses.py:2976: The name tf.losses.sparse_softmax_cross_entropy is deprecated. Please use tf.compat.v1.losses.sparse_softmax_cross_entropy instead.\n"
     ]
    }
   ],
   "source": [
    "from sklearn.preprocessing import StandardScaler\n",
    "from sklearn.model_selection import train_test_split\n",
    "from matplotlib import pyplot as plt\n",
    "from sklearn.metrics import classification_report\n",
    "from classifiers import grid_search"
   ],
   "metadata": {
    "collapsed": false,
    "ExecuteTime": {
     "end_time": "2023-12-20T11:33:22.689434900Z",
     "start_time": "2023-12-20T11:33:18.409065600Z"
    }
   },
   "id": "472bef9c925d68b2"
  },
  {
   "cell_type": "markdown",
   "source": [
    "Load the dataset and select the features and target to use for the classification."
   ],
   "metadata": {
    "collapsed": false
   },
   "id": "b24e39b5927cc9d5"
  },
  {
   "cell_type": "code",
   "execution_count": 2,
   "outputs": [],
   "source": [
    "import pandas as pd\n",
    "\n",
    "df = pd.read_csv('../data/new_incidents.csv')\n",
    "\n",
    "# drop useless columns\n",
    "df = df.drop(columns=['notes', 'date'])\n",
    "\n",
    "poverty_df = pd.read_csv('../data/poverty_cleaned.csv')\n",
    "df = df.merge(poverty_df, on=['state', 'year'])"
   ],
   "metadata": {
    "collapsed": false,
    "ExecuteTime": {
     "end_time": "2023-12-20T11:33:23.130185900Z",
     "start_time": "2023-12-20T11:33:22.688479300Z"
    }
   },
   "id": "e470a010423fd494"
  },
  {
   "cell_type": "code",
   "execution_count": 3,
   "outputs": [],
   "source": [
    "# convert state string to int\n",
    "df['state'] = df['state'].astype('category')\n",
    "df['state'] = df['state'].cat.codes\n",
    "\n",
    "df['city_or_county'] = df['city_or_county'].astype('category')\n",
    "df['city_or_county'] = df['city_or_county'].cat.codes\n",
    "\n",
    "df['incident_category'] = df['incident_category'].astype('category')\n",
    "df['incident_category'] = df['incident_category'].cat.codes\n",
    "\n",
    "df[\"any_killed\"] = df[\"n_killed\"] > 0\n",
    "\n",
    "df = df.dropna()"
   ],
   "metadata": {
    "collapsed": false,
    "ExecuteTime": {
     "end_time": "2023-12-20T11:33:23.192625400Z",
     "start_time": "2023-12-20T11:33:23.130185900Z"
    }
   },
   "id": "76f7e66425f0f251"
  },
  {
   "cell_type": "code",
   "execution_count": 4,
   "outputs": [
    {
     "name": "stdout",
     "output_type": "stream",
     "text": [
      "<class 'pandas.core.frame.DataFrame'>\n",
      "Index: 159432 entries, 0 to 183652\n",
      "Data columns (total 37 columns):\n",
      " #   Column                  Non-Null Count   Dtype  \n",
      "---  ------                  --------------   -----  \n",
      " 0   state                   159432 non-null  int8   \n",
      " 1   city_or_county          159432 non-null  int16  \n",
      " 2   latitude                159432 non-null  float64\n",
      " 3   longitude               159432 non-null  float64\n",
      " 4   congressional_district  159432 non-null  float64\n",
      " 5   avg_age_participants    159432 non-null  float64\n",
      " 6   n_participants_adult    159432 non-null  float64\n",
      " 7   n_males                 159432 non-null  float64\n",
      " 8   n_females               159432 non-null  float64\n",
      " 9   n_killed                159432 non-null  int64  \n",
      " 10  n_injured               159432 non-null  int64  \n",
      " 11  n_arrested              159432 non-null  int64  \n",
      " 12  n_unharmed              159432 non-null  int64  \n",
      " 13  n_participants          159432 non-null  int64  \n",
      " 14  year                    159432 non-null  int64  \n",
      " 15  month                   159432 non-null  int64  \n",
      " 16  day                     159432 non-null  int64  \n",
      " 17  incident_category       159432 non-null  int8   \n",
      " 18  kills_to_pov            159432 non-null  float64\n",
      " 19  age_to_average          159432 non-null  float64\n",
      " 20  avg_participants        159432 non-null  float64\n",
      " 21  par_to_average          159432 non-null  float64\n",
      " 22  n_involved              159432 non-null  int64  \n",
      " 23  minors_to_pop           159432 non-null  float64\n",
      " 24  par_to_pop              159432 non-null  float64\n",
      " 25  kil_to_p                159432 non-null  float64\n",
      " 26  man_to_p                159432 non-null  float64\n",
      " 27  fem_to_p                159432 non-null  float64\n",
      " 28  arr_to_p                159432 non-null  float64\n",
      " 29  unh_to_p                159432 non-null  float64\n",
      " 30  inj_to_p                159432 non-null  float64\n",
      " 31  n_minors                159432 non-null  float64\n",
      " 32  teen_to_m               159432 non-null  float64\n",
      " 33  teen_to_f               159432 non-null  float64\n",
      " 34  par_to_tot              159432 non-null  float64\n",
      " 35  povertyPercentage       159432 non-null  float64\n",
      " 36  any_killed              159432 non-null  bool   \n",
      "dtypes: bool(1), float64(24), int16(1), int64(9), int8(2)\n",
      "memory usage: 42.1 MB\n"
     ]
    }
   ],
   "source": [
    "df.info()"
   ],
   "metadata": {
    "collapsed": false,
    "ExecuteTime": {
     "end_time": "2023-12-20T11:33:23.211987900Z",
     "start_time": "2023-12-20T11:33:23.193656Z"
    }
   },
   "id": "415009f3880f00c8"
  },
  {
   "cell_type": "code",
   "execution_count": 5,
   "outputs": [],
   "source": [
    "input_columns = ['state', 'longitude', 'latitude', 'year', 'month', 'n_participants',\n",
    "                 'n_participants_adult', 'n_minors',\n",
    "                 'n_males', 'n_females',\n",
    "                 'povertyPercentage', 'n_arrested', 'n_injured']\n",
    "\n",
    "target_column = ['any_killed']\n",
    "\n",
    "X = df[input_columns]\n",
    "y = df[target_column]"
   ],
   "metadata": {
    "collapsed": false,
    "ExecuteTime": {
     "end_time": "2023-12-20T11:33:23.237819600Z",
     "start_time": "2023-12-20T11:33:23.207895900Z"
    }
   },
   "id": "ccf8a6c09207fdb"
  },
  {
   "cell_type": "code",
   "execution_count": 6,
   "outputs": [
    {
     "data": {
      "text/plain": "<Figure size 640x480 with 1 Axes>",
      "image/png": "[encoded data removed]"
     },
     "metadata": {},
     "output_type": "display_data"
    }
   ],
   "source": [
    "kill_value_count = df['any_killed'].value_counts()\n",
    "\n",
    "labels = ['no_killed', 'any_killed']\n",
    "plt.pie(kill_value_count, labels=labels)\n",
    "plt.show()"
   ],
   "metadata": {
    "collapsed": false,
    "ExecuteTime": {
     "end_time": "2023-12-20T11:33:23.286000800Z",
     "start_time": "2023-12-20T11:33:23.224517800Z"
    }
   },
   "id": "9908b266abfeffa0"
  },
  {
   "cell_type": "markdown",
   "source": [
    "Split the dataset into dev and test sets, then into train and validation (70/15/15). "
   ],
   "metadata": {
    "collapsed": false
   },
   "id": "3dbc5989d2002a13"
  },
  {
   "cell_type": "code",
   "execution_count": 7,
   "outputs": [
    {
     "name": "stdout",
     "output_type": "stream",
     "text": [
      "Dev set size: 135517 - Killing ratio: 0.29\n",
      "     Train set size: 111123 - Killing ratio: 0.29\n",
      "     Validation set size: 24394 - Killing ratio: 0.29\n",
      "Test set size: 23915 - Killing ratio: 0.29\n"
     ]
    }
   ],
   "source": [
    "import numpy as np\n",
    "\n",
    "seed = 42\n",
    "X_dev, X_test, y_dev, y_test = train_test_split(X, y, random_state=seed, test_size=0.15, stratify=y)\n",
    "X_train, X_val, y_train, y_val = train_test_split(X_dev, y_dev, random_state=seed, test_size=0.18, stratify=y_dev)\n",
    "\n",
    "print('Dev set size:', len(y_dev), '- Killing ratio:', round(np.count_nonzero(y_dev) / len(y_dev), 2))\n",
    "print('     Train set size:', len(y_train), '- Killing ratio:', round(np.count_nonzero(y_train) / len(y_train), 2))\n",
    "print('     Validation set size:', len(y_val), '- Killing ratio:', round(np.count_nonzero(y_val) / len(y_val), 2))\n",
    "print('Test set size:', len(y_test), '- Killing ratio:', round(np.count_nonzero(y_test) / len(y_test), 2))"
   ],
   "metadata": {
    "collapsed": false,
    "ExecuteTime": {
     "end_time": "2023-12-20T11:33:23.843041300Z",
     "start_time": "2023-12-20T11:33:23.289049600Z"
    }
   },
   "id": "899dbd6cb267d590"
  },
  {
   "cell_type": "markdown",
   "source": [
    "Standardize the input data to avoid the bias given by the range of the different attribute"
   ],
   "metadata": {
    "collapsed": false
   },
   "id": "19fd1eba6002e256"
  },
  {
   "cell_type": "code",
   "execution_count": 8,
   "outputs": [],
   "source": [
    "scaler = StandardScaler()\n",
    "X_std_dev = scaler.fit_transform(X_dev)\n",
    "X_std_train = scaler.fit_transform(X_train)\n",
    "X_std_val = scaler.fit_transform(X_val)\n",
    "X_std_test = scaler.fit_transform(X_test)\n",
    "\n",
    "# ravel() is used to convert the y arrays from 2D to 1D\n",
    "y_dev = y_dev.values.ravel()\n",
    "y_train = y_train.values.ravel()\n",
    "y_val = y_val.values.ravel()\n",
    "y_test = y_test.values.ravel()\n"
   ],
   "metadata": {
    "collapsed": false,
    "ExecuteTime": {
     "end_time": "2023-12-20T11:33:23.904542600Z",
     "start_time": "2023-12-20T11:33:23.843041300Z"
    }
   },
   "id": "6d0c9e73be3969b4"
  },
  {
   "cell_type": "markdown",
   "source": [
    "NB: run all above before running a classifier"
   ],
   "metadata": {
    "collapsed": false
   },
   "id": "15d7dc14f308672d"
  },
  {
   "cell_type": "markdown",
   "source": [
    "# KNN"
   ],
   "metadata": {
    "collapsed": false
   },
   "id": "71a94be154a093da"
  },
  {
   "cell_type": "code",
   "execution_count": 17,
   "outputs": [],
   "source": [
    "from sklearn.neighbors import KNeighborsClassifier\n",
    "from sklearn.model_selection import cross_val_score\n"
   ],
   "metadata": {
    "collapsed": false,
    "ExecuteTime": {
     "end_time": "2023-12-20T10:39:02.775686200Z",
     "start_time": "2023-12-20T10:39:02.717959200Z"
    }
   },
   "id": "84cd4016a05761d6"
  },
  {
   "cell_type": "code",
   "execution_count": 20,
   "outputs": [
    {
     "data": {
      "text/plain": "<Figure size 640x480 with 1 Axes>",
      "image/png": "[encoded data removed]"
     },
     "metadata": {},
     "output_type": "display_data"
    }
   ],
   "source": [
    "knn_list = []\n",
    "acc_tr_list = []\n",
    "acc_val_list = []\n",
    "\n",
    "for x in range(3, 18):\n",
    "    # Create KNN classifier\n",
    "    knn = KNeighborsClassifier(n_neighbors=x)\n",
    "    knn.fit(X_std_train, y_train)\n",
    "    acc_tr = knn.score(X_std_train, y_train)\n",
    "    acc_val = knn.score(X_std_val, y_val)\n",
    "    # append results\n",
    "    knn_list.append(knn)\n",
    "    acc_tr_list.append(acc_tr)\n",
    "    acc_val_list.append(acc_val)\n",
    "\n",
    "plt.plot(range(len(acc_tr_list)), acc_tr_list, 'r--', label='training')\n",
    "plt.plot(range(len(acc_val_list)), acc_val_list, 'b-', label='validation')\n",
    "plt.ylabel('accuracy')\n",
    "plt.xlabel('K')\n",
    "plt.tick_params(axis='both', which='major', labelsize=22)\n",
    "plt.title('KNN')\n",
    "plt.axvline(8)\n",
    "plt.legend(loc=\"upper right\")\n",
    "plt.show()"
   ],
   "metadata": {
    "collapsed": false,
    "ExecuteTime": {
     "end_time": "2023-12-20T10:52:52.541208600Z",
     "start_time": "2023-12-20T10:46:48.961724400Z"
    }
   },
   "id": "a38e2d2983b430cc"
  },
  {
   "cell_type": "markdown",
   "source": [
    "Also try to perform k-fold cross-validation for each k"
   ],
   "metadata": {
    "collapsed": false
   },
   "id": "bf2428897843347c"
  },
  {
   "cell_type": "code",
   "execution_count": 19,
   "outputs": [
    {
     "name": "stdout",
     "output_type": "stream",
     "text": [
      "The best k based on cross-validation accuracy is: 15\n",
      "Corresponding cross-validation accuracy: 0.852542498138088\n"
     ]
    }
   ],
   "source": [
    "cv_scores = []\n",
    "for k in range(1, 20):\n",
    "    knn = KNeighborsClassifier(n_neighbors=k)\n",
    "    scores = cross_val_score(knn, X_std_dev, y_dev, cv=5)  # 5-fold cross-validation\n",
    "    cv_scores.append(scores.mean())\n",
    "\n",
    "best_k_cv = np.argmax(cv_scores) + 1  # Add 1 to get the actual k value\n",
    "best_accuracy_cv = max(cv_scores)\n",
    "\n",
    "print(f\"The best k based on cross-validation accuracy is: {best_k_cv}\")\n",
    "print(f\"Corresponding cross-validation accuracy: {best_accuracy_cv}\")"
   ],
   "metadata": {
    "collapsed": false,
    "ExecuteTime": {
     "end_time": "2023-12-20T10:45:36.406848700Z",
     "start_time": "2023-12-20T10:39:15.288047Z"
    }
   },
   "id": "29719bac544a4566"
  },
  {
   "cell_type": "markdown",
   "source": [
    "Test both k (8 and 15) and see which one is better"
   ],
   "metadata": {
    "collapsed": false
   },
   "id": "47bec69644ea8409"
  },
  {
   "cell_type": "code",
   "execution_count": 21,
   "outputs": [
    {
     "name": "stdout",
     "output_type": "stream",
     "text": [
      "Training accuracy: 0.8807807564590588\n",
      "Validation accuracy: 0.849758137246864\n"
     ]
    }
   ],
   "source": [
    "knn = KNeighborsClassifier(n_neighbors=8)\n",
    "knn.fit(X_std_train, y_train)\n",
    "acc_tr = knn.score(X_std_train, y_train)\n",
    "acc_val = knn.score(X_std_val, y_val)\n",
    "print(f\"Training accuracy: {acc_tr}\")\n",
    "print(f\"Validation accuracy: {acc_val}\")"
   ],
   "metadata": {
    "collapsed": false,
    "ExecuteTime": {
     "end_time": "2023-12-20T10:53:47.331359500Z",
     "start_time": "2023-12-20T10:53:29.578272300Z"
    }
   },
   "id": "d6ee54e32b4905c8"
  },
  {
   "cell_type": "code",
   "execution_count": 22,
   "outputs": [
    {
     "name": "stdout",
     "output_type": "stream",
     "text": [
      "Training accuracy: 0.8708188223860047\n",
      "Validation accuracy: 0.8540624743789457\n"
     ]
    }
   ],
   "source": [
    "knn_2 = KNeighborsClassifier(n_neighbors=best_k_cv)\n",
    "knn_2.fit(X_std_train, y_train)\n",
    "acc_tr = knn_2.score(X_std_train, y_train)\n",
    "acc_val = knn_2.score(X_std_val, y_val)\n",
    "print(f\"Training accuracy: {acc_tr}\")\n",
    "print(f\"Validation accuracy: {acc_val}\")"
   ],
   "metadata": {
    "collapsed": false,
    "ExecuteTime": {
     "end_time": "2023-12-20T10:54:08.747562700Z",
     "start_time": "2023-12-20T10:53:47.333402700Z"
    }
   },
   "id": "84965b2e7b9efcd6"
  },
  {
   "cell_type": "code",
   "execution_count": null,
   "outputs": [],
   "source": [],
   "metadata": {
    "collapsed": false
   },
   "id": "148e6acc7b94eb6e"
  },
  {
   "cell_type": "markdown",
   "source": [
    "# Bayesian Classifier"
   ],
   "metadata": {
    "collapsed": false
   },
   "id": "a00dc43e8c2399e3"
  },
  {
   "cell_type": "code",
   "execution_count": 66,
   "outputs": [
    {
     "name": "stdout",
     "output_type": "stream",
     "text": [
      "              precision    recall  f1-score   support\n",
      "\n",
      "   no_killed       0.92      0.75      0.82     21318\n",
      "  any_killed       0.23      0.53      0.33      3076\n",
      "\n",
      "    accuracy                           0.72     24394\n",
      "   macro avg       0.58      0.64      0.58     24394\n",
      "weighted avg       0.83      0.72      0.76     24394\n"
     ]
    }
   ],
   "source": [
    "from sklearn.naive_bayes import GaussianNB, BernoulliNB\n",
    "\n",
    "gnb = GaussianNB()\n",
    "y_pred_val = gnb.fit(X_std_train, y_train).predict(X_std_val)\n",
    "print(classification_report(y_pred_val, y_val, target_names=labels))"
   ],
   "metadata": {
    "collapsed": false,
    "ExecuteTime": {
     "end_time": "2023-12-18T11:49:47.307433900Z",
     "start_time": "2023-12-18T11:49:47.245785800Z"
    }
   },
   "id": "957e2874be5db7f0"
  },
  {
   "cell_type": "code",
   "execution_count": 67,
   "outputs": [
    {
     "name": "stdout",
     "output_type": "stream",
     "text": [
      "              precision    recall  f1-score   support\n",
      "\n",
      "   no_killed       0.89      0.77      0.82     19959\n",
      "  any_killed       0.35      0.55      0.43      4435\n",
      "\n",
      "    accuracy                           0.73     24394\n",
      "   macro avg       0.62      0.66      0.63     24394\n",
      "weighted avg       0.79      0.73      0.75     24394\n"
     ]
    }
   ],
   "source": [
    "bnb = BernoulliNB()\n",
    "y_pred_val = bnb.fit(X_std_train, y_train).predict(X_std_val)\n",
    "print(classification_report(y_pred_val, y_val, target_names=labels))"
   ],
   "metadata": {
    "collapsed": false,
    "ExecuteTime": {
     "end_time": "2023-12-18T11:49:47.351225900Z",
     "start_time": "2023-12-18T11:49:47.291227Z"
    }
   },
   "id": "82fcf1592cfe7ef1"
  },
  {
   "cell_type": "markdown",
   "source": [
    "# Decision Tree"
   ],
   "metadata": {
    "collapsed": false
   },
   "id": "21da7c93153846f1"
  },
  {
   "cell_type": "code",
   "execution_count": 68,
   "outputs": [
    {
     "name": "stdout",
     "output_type": "stream",
     "text": [
      "Fitting 5 folds for each of 768 candidates, totalling 3840 fits\n",
      "Best parameters set found:\n",
      "{'criterion': 'gini', 'max_depth': 10, 'max_features': None, 'min_samples_leaf': 10, 'min_samples_split': 5, 'splitter': 'best'}\n",
      "Best accuracy score found:\n",
      "0.8618623858104645\n"
     ]
    }
   ],
   "source": [
    "from sklearn.tree import DecisionTreeClassifier\n",
    "\n",
    "dt_params = {\n",
    "    'criterion': ['gini', 'entropy'],\n",
    "    'splitter': ['best', 'random'],\n",
    "    'max_depth': [5, 10, 20, 50],\n",
    "    'min_samples_split': [2, 5, 10, 20],\n",
    "    'min_samples_leaf': [1, 2, 5, 10],\n",
    "    'max_features': ['sqrt', 'log2', None]\n",
    "}\n",
    "best_score_dt, decision_tree = grid_search(DecisionTreeClassifier(), X_std_dev, y_dev, dt_params)"
   ],
   "metadata": {
    "collapsed": false,
    "ExecuteTime": {
     "end_time": "2023-12-18T11:50:56.567065600Z",
     "start_time": "2023-12-18T11:49:47.353257700Z"
    }
   },
   "id": "b73383126dec714a"
  },
  {
   "cell_type": "markdown",
   "source": [
    "# Random Forest"
   ],
   "metadata": {
    "collapsed": false
   },
   "id": "92516165ac33a8f3"
  },
  {
   "cell_type": "code",
   "execution_count": 69,
   "outputs": [
    {
     "name": "stdout",
     "output_type": "stream",
     "text": [
      "Fitting 5 folds for each of 480 candidates, totalling 2400 fits\n",
      "Best parameters set found:\n",
      "{'max_depth': 20, 'max_features': 'log2', 'min_samples_leaf': 2, 'min_samples_split': 5, 'n_estimators': 150}\n",
      "Best accuracy score found:\n",
      "0.8745692715436295\n"
     ]
    }
   ],
   "source": [
    "from sklearn.ensemble import RandomForestClassifier\n",
    "\n",
    "rf_params = {\n",
    "    'n_estimators': [50, 100, 150],\n",
    "    'max_depth': [5, 10, 20, None],\n",
    "    'min_samples_split': [2, 5, 10, 20],\n",
    "    'min_samples_leaf': [1, 2, 5, 10, 20],\n",
    "    'max_features': ['sqrt', 'log2']\n",
    "}\n",
    "best_score_rf, random_forest = grid_search(RandomForestClassifier(), X_std_dev, y_dev, rf_params)"
   ],
   "metadata": {
    "collapsed": false,
    "ExecuteTime": {
     "end_time": "2023-12-18T12:33:05.791764400Z",
     "start_time": "2023-12-18T11:50:56.560579700Z"
    }
   },
   "id": "21e5b2d000d3f411"
  },
  {
   "cell_type": "markdown",
   "source": [
    "# SVM"
   ],
   "metadata": {
    "collapsed": false
   },
   "id": "8429dc66c43e3edb"
  },
  {
   "cell_type": "code",
   "execution_count": 9,
   "outputs": [
    {
     "name": "stdout",
     "output_type": "stream",
     "text": [
      "Fitting 5 folds for each of 72 candidates, totalling 360 fits\n",
      "Best parameters set found:\n",
      "{'C': 10, 'gamma': 'auto', 'kernel': 'rbf', 'max_iter': 200}\n",
      "Best accuracy score found:\n",
      "0.6821432873091025\n"
     ]
    }
   ],
   "source": [
    "import sklearn.svm as svms\n",
    "\n",
    "svm_params = {\n",
    "    \"kernel\": [\"rbf\", \"sigmoid\"],\n",
    "    \"gamma\": [\"scale\", \"auto\"],\n",
    "    \"C\": [0.1, 0.5, 1, 5, 10, 20],\n",
    "    \"max_iter\": [100, 200, 300]\n",
    "}\n",
    "\n",
    "best_score_svm, svm = grid_search(svms.SVC(), X_std_dev, y_dev, svm_params)"
   ],
   "metadata": {
    "collapsed": false,
    "ExecuteTime": {
     "end_time": "2023-12-20T11:35:50.866929900Z",
     "start_time": "2023-12-20T11:34:17.058603800Z"
    }
   },
   "id": "5896d07dd2e53da0"
  },
  {
   "cell_type": "code",
   "execution_count": 10,
   "outputs": [
    {
     "name": "stdout",
     "output_type": "stream",
     "text": [
      "Fitting 5 folds for each of 10 candidates, totalling 50 fits\n",
      "Best parameters set found:\n",
      "{'C': 5, 'loss': 'hinge'}\n",
      "Best accuracy score found:\n",
      "0.7956713759234363\n"
     ]
    }
   ],
   "source": [
    "# use better implementation for large dataset (linear kernel)\n",
    "lsvm_params = {\n",
    "    \"loss\": [\"hinge\", \"squared_hinge\"],\n",
    "    \"C\": [0.1, 0.5, 1, 5, 10],\n",
    "}\n",
    "\n",
    "best_score_lsvm, lsvm = grid_search(svms.LinearSVC(penalty='l2', dual='auto'), X_std_dev, y_dev, lsvm_params)"
   ],
   "metadata": {
    "collapsed": false,
    "ExecuteTime": {
     "end_time": "2023-12-20T11:36:28.695879200Z",
     "start_time": "2023-12-20T11:35:50.868975100Z"
    }
   },
   "id": "3bf4c3dec43665f9"
  },
  {
   "cell_type": "code",
   "execution_count": 11,
   "outputs": [
    {
     "name": "stdout",
     "output_type": "stream",
     "text": [
      "Fitting 5 folds for each of 48 candidates, totalling 240 fits\n",
      "Best parameters set found:\n",
      "{'C': 1, 'degree': 4, 'gamma': 'auto', 'max_iter': 100}\n",
      "Best accuracy score found:\n",
      "0.45744013387252724\n"
     ]
    }
   ],
   "source": [
    "# polynomial kernel\n",
    "psvm_params = {\n",
    "    \"degree\": [2, 3, 4],\n",
    "    \"C\": [0.1, 0.5, 1, 5],\n",
    "    \"max_iter\": [100, 200],\n",
    "    \"gamma\": [\"scale\", \"auto\"]\n",
    "}\n",
    "best_score_psvm, psvm = grid_search(svms.SVC(kernel='poly'), X_std_dev, y_dev, psvm_params)"
   ],
   "metadata": {
    "collapsed": false,
    "ExecuteTime": {
     "end_time": "2023-12-20T11:36:54.670071400Z",
     "start_time": "2023-12-20T11:36:28.696900600Z"
    }
   },
   "id": "7cbf05a698b438d2"
  },
  {
   "cell_type": "markdown",
   "source": [
    "# Neural Network"
   ],
   "metadata": {
    "collapsed": false
   },
   "id": "34f01b2dc33640bc"
  },
  {
   "cell_type": "code",
   "execution_count": 12,
   "outputs": [
    {
     "name": "stdout",
     "output_type": "stream",
     "text": [
      "Fitting 5 folds for each of 48 candidates, totalling 240 fits\n",
      "Best parameters set found:\n",
      "{'activation': 'tanh', 'alpha': 0.001, 'hidden_layer_sizes': (150, 100, 50), 'learning_rate': 'adaptive', 'max_iter': 50, 'solver': 'adam'}\n",
      "Best accuracy score found:\n",
      "0.8692341491143957\n"
     ]
    }
   ],
   "source": [
    "from sklearn.neural_network import MLPClassifier\n",
    "\n",
    "nn_params = {\n",
    "    'hidden_layer_sizes': [(25, 25, 25), (50, 25, 25), (150,100,50)],\n",
    "    'activation': ['tanh', 'relu'],\n",
    "    'solver': ['sgd', 'adam'],\n",
    "    'alpha': [1e-3, 1e-4],\n",
    "    'learning_rate': ['adaptive'],\n",
    "    'max_iter': [50, 100]\n",
    "}\n",
    "\n",
    "best_score_nn, neural_network = grid_search(MLPClassifier(early_stopping=True), X_std_dev, y_dev, nn_params)"
   ],
   "metadata": {
    "collapsed": false,
    "ExecuteTime": {
     "end_time": "2023-12-20T11:59:09.272803900Z",
     "start_time": "2023-12-20T11:49:12.811457600Z"
    }
   },
   "id": "c3721482fd254e30"
  },
  {
   "cell_type": "code",
   "execution_count": 20,
   "outputs": [],
   "source": [],
   "metadata": {
    "collapsed": false,
    "ExecuteTime": {
     "end_time": "2023-12-19T18:00:12.097656700Z",
     "start_time": "2023-12-19T18:00:12.079486300Z"
    }
   },
   "id": "a947cb4a21c70908"
  },
  {
   "cell_type": "code",
   "execution_count": 91,
   "outputs": [],
   "source": [
    "from keras import Sequential\n",
    "import keras as k\n",
    "from keras.src import callbacks\n",
    "\n",
    "\n",
    "def keras_mlp(train_X, train_y, val_X, val_y, optimizer, activation, dropout, epochs):\n",
    "    neural_net = Sequential(\n",
    "        [\n",
    "            k.Input(shape=13),\n",
    "            k.layers.Dense(units=50, activation=activation),\n",
    "            k.layers.Dense(units=25, activation=activation),\n",
    "            k.layers.Dense(units=25, activation=activation),\n",
    "            k.layers.Dropout(dropout),\n",
    "            k.layers.Dense(1, \"sigmoid\")\n",
    "        ]\n",
    "    )\n",
    "    callback = [\n",
    "        callbacks.ReduceLROnPlateau(monitor='val_accuracy', mode='max', patience=7, cooldown=2, verbose=1, factor=0.25,\n",
    "                                    min_lr=1e-7,\n",
    "                                    min_delta=1e-5),\n",
    "        callbacks.EarlyStopping(monitor='val_accuracy', mode='max', patience=10, verbose=1, min_delta=1e-5,\n",
    "                                restore_best_weights=True)\n",
    "    ]\n",
    "    neural_net.compile(optimizer=optimizer, loss=k.losses.BinaryCrossentropy(), metrics=['accuracy'])\n",
    "    return neural_net.fit(train_X, train_y, batch_size=320, epochs=epochs, verbose=2, validation_data=(val_X, val_y),\n",
    "                          callbacks=callback, use_multiprocessing=True, workers=10), neural_net"
   ],
   "metadata": {
    "collapsed": false,
    "ExecuteTime": {
     "end_time": "2023-12-19T19:38:21.204124200Z",
     "start_time": "2023-12-19T19:38:21.180045300Z"
    }
   },
   "id": "80446095fffab10a"
  },
  {
   "cell_type": "code",
   "execution_count": 92,
   "outputs": [
    {
     "name": "stdout",
     "output_type": "stream",
     "text": [
      "Epoch 1/150\n",
      "348/348 - 1s - loss: 0.5888 - accuracy: 0.6787 - val_loss: 0.4736 - val_accuracy: 0.7726 - lr: 1.0000e-04 - 588ms/epoch - 2ms/step\n",
      "Epoch 2/150\n",
      "348/348 - 0s - loss: 0.4533 - accuracy: 0.7809 - val_loss: 0.4272 - val_accuracy: 0.8001 - lr: 1.0000e-04 - 321ms/epoch - 922us/step\n",
      "Epoch 3/150\n",
      "348/348 - 0s - loss: 0.4297 - accuracy: 0.7996 - val_loss: 0.4141 - val_accuracy: 0.8070 - lr: 1.0000e-04 - 309ms/epoch - 889us/step\n",
      "Epoch 4/150\n",
      "348/348 - 0s - loss: 0.4167 - accuracy: 0.8060 - val_loss: 0.4009 - val_accuracy: 0.8165 - lr: 1.0000e-04 - 309ms/epoch - 888us/step\n",
      "Epoch 5/150\n",
      "348/348 - 0s - loss: 0.4029 - accuracy: 0.8145 - val_loss: 0.3862 - val_accuracy: 0.8221 - lr: 1.0000e-04 - 344ms/epoch - 987us/step\n",
      "Epoch 6/150\n",
      "348/348 - 0s - loss: 0.3888 - accuracy: 0.8216 - val_loss: 0.3707 - val_accuracy: 0.8313 - lr: 1.0000e-04 - 313ms/epoch - 900us/step\n",
      "Epoch 7/150\n",
      "348/348 - 0s - loss: 0.3746 - accuracy: 0.8293 - val_loss: 0.3554 - val_accuracy: 0.8381 - lr: 1.0000e-04 - 392ms/epoch - 1ms/step\n",
      "Epoch 8/150\n",
      "348/348 - 0s - loss: 0.3608 - accuracy: 0.8358 - val_loss: 0.3421 - val_accuracy: 0.8454 - lr: 1.0000e-04 - 313ms/epoch - 899us/step\n",
      "Epoch 9/150\n",
      "348/348 - 0s - loss: 0.3487 - accuracy: 0.8407 - val_loss: 0.3323 - val_accuracy: 0.8462 - lr: 1.0000e-04 - 313ms/epoch - 899us/step\n",
      "Epoch 10/150\n",
      "348/348 - 0s - loss: 0.3401 - accuracy: 0.8443 - val_loss: 0.3246 - val_accuracy: 0.8507 - lr: 1.0000e-04 - 313ms/epoch - 898us/step\n",
      "Epoch 11/150\n",
      "348/348 - 0s - loss: 0.3330 - accuracy: 0.8477 - val_loss: 0.3200 - val_accuracy: 0.8530 - lr: 1.0000e-04 - 323ms/epoch - 929us/step\n",
      "Epoch 12/150\n",
      "348/348 - 0s - loss: 0.3282 - accuracy: 0.8499 - val_loss: 0.3157 - val_accuracy: 0.8540 - lr: 1.0000e-04 - 305ms/epoch - 875us/step\n",
      "Epoch 13/150\n",
      "348/348 - 0s - loss: 0.3244 - accuracy: 0.8504 - val_loss: 0.3129 - val_accuracy: 0.8551 - lr: 1.0000e-04 - 304ms/epoch - 874us/step\n",
      "Epoch 14/150\n",
      "348/348 - 0s - loss: 0.3217 - accuracy: 0.8521 - val_loss: 0.3111 - val_accuracy: 0.8546 - lr: 1.0000e-04 - 306ms/epoch - 879us/step\n",
      "Epoch 15/150\n",
      "348/348 - 0s - loss: 0.3191 - accuracy: 0.8531 - val_loss: 0.3092 - val_accuracy: 0.8555 - lr: 1.0000e-04 - 300ms/epoch - 863us/step\n",
      "Epoch 16/150\n",
      "348/348 - 0s - loss: 0.3175 - accuracy: 0.8539 - val_loss: 0.3076 - val_accuracy: 0.8558 - lr: 1.0000e-04 - 303ms/epoch - 870us/step\n",
      "Epoch 17/150\n",
      "348/348 - 0s - loss: 0.3159 - accuracy: 0.8533 - val_loss: 0.3063 - val_accuracy: 0.8559 - lr: 1.0000e-04 - 309ms/epoch - 887us/step\n",
      "Epoch 18/150\n",
      "348/348 - 0s - loss: 0.3137 - accuracy: 0.8547 - val_loss: 0.3054 - val_accuracy: 0.8559 - lr: 1.0000e-04 - 309ms/epoch - 888us/step\n",
      "Epoch 19/150\n",
      "348/348 - 0s - loss: 0.3131 - accuracy: 0.8549 - val_loss: 0.3043 - val_accuracy: 0.8566 - lr: 1.0000e-04 - 306ms/epoch - 879us/step\n",
      "Epoch 20/150\n",
      "348/348 - 0s - loss: 0.3114 - accuracy: 0.8555 - val_loss: 0.3038 - val_accuracy: 0.8555 - lr: 1.0000e-04 - 304ms/epoch - 874us/step\n",
      "Epoch 21/150\n",
      "348/348 - 0s - loss: 0.3105 - accuracy: 0.8549 - val_loss: 0.3026 - val_accuracy: 0.8562 - lr: 1.0000e-04 - 310ms/epoch - 890us/step\n",
      "Epoch 22/150\n",
      "348/348 - 0s - loss: 0.3102 - accuracy: 0.8561 - val_loss: 0.3016 - val_accuracy: 0.8568 - lr: 1.0000e-04 - 318ms/epoch - 914us/step\n",
      "Epoch 23/150\n",
      "348/348 - 0s - loss: 0.3083 - accuracy: 0.8563 - val_loss: 0.3013 - val_accuracy: 0.8566 - lr: 1.0000e-04 - 306ms/epoch - 879us/step\n",
      "Epoch 24/150\n",
      "348/348 - 0s - loss: 0.3081 - accuracy: 0.8566 - val_loss: 0.3005 - val_accuracy: 0.8569 - lr: 1.0000e-04 - 306ms/epoch - 879us/step\n",
      "Epoch 25/150\n",
      "348/348 - 0s - loss: 0.3071 - accuracy: 0.8563 - val_loss: 0.2994 - val_accuracy: 0.8590 - lr: 1.0000e-04 - 348ms/epoch - 999us/step\n",
      "Epoch 26/150\n",
      "348/348 - 0s - loss: 0.3061 - accuracy: 0.8568 - val_loss: 0.2987 - val_accuracy: 0.8580 - lr: 1.0000e-04 - 315ms/epoch - 905us/step\n",
      "Epoch 27/150\n",
      "348/348 - 0s - loss: 0.3049 - accuracy: 0.8574 - val_loss: 0.2990 - val_accuracy: 0.8574 - lr: 1.0000e-04 - 410ms/epoch - 1ms/step\n",
      "Epoch 28/150\n",
      "348/348 - 0s - loss: 0.3044 - accuracy: 0.8577 - val_loss: 0.2978 - val_accuracy: 0.8570 - lr: 1.0000e-04 - 339ms/epoch - 975us/step\n",
      "Epoch 29/150\n",
      "348/348 - 0s - loss: 0.3043 - accuracy: 0.8573 - val_loss: 0.2973 - val_accuracy: 0.8597 - lr: 1.0000e-04 - 312ms/epoch - 898us/step\n",
      "Epoch 30/150\n",
      "348/348 - 0s - loss: 0.3033 - accuracy: 0.8580 - val_loss: 0.2970 - val_accuracy: 0.8576 - lr: 1.0000e-04 - 311ms/epoch - 894us/step\n",
      "Epoch 31/150\n",
      "348/348 - 0s - loss: 0.3024 - accuracy: 0.8581 - val_loss: 0.2965 - val_accuracy: 0.8589 - lr: 1.0000e-04 - 330ms/epoch - 949us/step\n",
      "Epoch 32/150\n",
      "348/348 - 0s - loss: 0.3019 - accuracy: 0.8583 - val_loss: 0.2963 - val_accuracy: 0.8585 - lr: 1.0000e-04 - 313ms/epoch - 900us/step\n",
      "Epoch 33/150\n",
      "348/348 - 0s - loss: 0.3016 - accuracy: 0.8588 - val_loss: 0.2953 - val_accuracy: 0.8589 - lr: 1.0000e-04 - 316ms/epoch - 909us/step\n",
      "Epoch 34/150\n",
      "348/348 - 0s - loss: 0.3012 - accuracy: 0.8580 - val_loss: 0.2952 - val_accuracy: 0.8603 - lr: 1.0000e-04 - 312ms/epoch - 896us/step\n",
      "Epoch 35/150\n",
      "348/348 - 0s - loss: 0.3003 - accuracy: 0.8596 - val_loss: 0.2949 - val_accuracy: 0.8572 - lr: 1.0000e-04 - 317ms/epoch - 912us/step\n",
      "Epoch 36/150\n",
      "348/348 - 0s - loss: 0.2998 - accuracy: 0.8595 - val_loss: 0.2942 - val_accuracy: 0.8604 - lr: 1.0000e-04 - 416ms/epoch - 1ms/step\n",
      "Epoch 37/150\n",
      "348/348 - 0s - loss: 0.2994 - accuracy: 0.8595 - val_loss: 0.2939 - val_accuracy: 0.8602 - lr: 1.0000e-04 - 312ms/epoch - 895us/step\n",
      "Epoch 38/150\n",
      "348/348 - 0s - loss: 0.2986 - accuracy: 0.8602 - val_loss: 0.2940 - val_accuracy: 0.8588 - lr: 1.0000e-04 - 334ms/epoch - 961us/step\n",
      "Epoch 39/150\n",
      "348/348 - 0s - loss: 0.2984 - accuracy: 0.8596 - val_loss: 0.2934 - val_accuracy: 0.8600 - lr: 1.0000e-04 - 342ms/epoch - 984us/step\n",
      "Epoch 40/150\n",
      "348/348 - 0s - loss: 0.2982 - accuracy: 0.8598 - val_loss: 0.2931 - val_accuracy: 0.8604 - lr: 1.0000e-04 - 330ms/epoch - 949us/step\n",
      "Epoch 41/150\n",
      "348/348 - 0s - loss: 0.2976 - accuracy: 0.8610 - val_loss: 0.2930 - val_accuracy: 0.8606 - lr: 1.0000e-04 - 314ms/epoch - 903us/step\n",
      "Epoch 42/150\n",
      "348/348 - 0s - loss: 0.2974 - accuracy: 0.8604 - val_loss: 0.2928 - val_accuracy: 0.8613 - lr: 1.0000e-04 - 310ms/epoch - 890us/step\n",
      "Epoch 43/150\n",
      "348/348 - 0s - loss: 0.2976 - accuracy: 0.8607 - val_loss: 0.2926 - val_accuracy: 0.8604 - lr: 1.0000e-04 - 341ms/epoch - 979us/step\n",
      "Epoch 44/150\n",
      "348/348 - 0s - loss: 0.2970 - accuracy: 0.8605 - val_loss: 0.2927 - val_accuracy: 0.8598 - lr: 1.0000e-04 - 311ms/epoch - 893us/step\n",
      "Epoch 45/150\n",
      "348/348 - 0s - loss: 0.2963 - accuracy: 0.8606 - val_loss: 0.2927 - val_accuracy: 0.8599 - lr: 1.0000e-04 - 308ms/epoch - 885us/step\n",
      "Epoch 46/150\n",
      "348/348 - 0s - loss: 0.2960 - accuracy: 0.8609 - val_loss: 0.2921 - val_accuracy: 0.8618 - lr: 1.0000e-04 - 323ms/epoch - 928us/step\n",
      "Epoch 47/150\n",
      "348/348 - 0s - loss: 0.2962 - accuracy: 0.8612 - val_loss: 0.2918 - val_accuracy: 0.8615 - lr: 1.0000e-04 - 307ms/epoch - 883us/step\n",
      "Epoch 48/150\n",
      "348/348 - 0s - loss: 0.2953 - accuracy: 0.8606 - val_loss: 0.2924 - val_accuracy: 0.8603 - lr: 1.0000e-04 - 326ms/epoch - 938us/step\n",
      "Epoch 49/150\n",
      "348/348 - 0s - loss: 0.2954 - accuracy: 0.8612 - val_loss: 0.2918 - val_accuracy: 0.8620 - lr: 1.0000e-04 - 310ms/epoch - 891us/step\n",
      "Epoch 50/150\n",
      "348/348 - 0s - loss: 0.2955 - accuracy: 0.8605 - val_loss: 0.2917 - val_accuracy: 0.8615 - lr: 1.0000e-04 - 328ms/epoch - 944us/step\n",
      "Epoch 51/150\n",
      "348/348 - 0s - loss: 0.2951 - accuracy: 0.8614 - val_loss: 0.2910 - val_accuracy: 0.8618 - lr: 1.0000e-04 - 319ms/epoch - 917us/step\n",
      "Epoch 52/150\n",
      "348/348 - 0s - loss: 0.2946 - accuracy: 0.8620 - val_loss: 0.2915 - val_accuracy: 0.8613 - lr: 1.0000e-04 - 312ms/epoch - 897us/step\n",
      "Epoch 53/150\n",
      "348/348 - 0s - loss: 0.2944 - accuracy: 0.8611 - val_loss: 0.2906 - val_accuracy: 0.8618 - lr: 1.0000e-04 - 313ms/epoch - 901us/step\n",
      "Epoch 54/150\n",
      "348/348 - 0s - loss: 0.2947 - accuracy: 0.8625 - val_loss: 0.2909 - val_accuracy: 0.8624 - lr: 1.0000e-04 - 332ms/epoch - 954us/step\n",
      "Epoch 55/150\n",
      "348/348 - 0s - loss: 0.2943 - accuracy: 0.8617 - val_loss: 0.2903 - val_accuracy: 0.8626 - lr: 1.0000e-04 - 312ms/epoch - 898us/step\n",
      "Epoch 56/150\n",
      "348/348 - 0s - loss: 0.2936 - accuracy: 0.8619 - val_loss: 0.2905 - val_accuracy: 0.8621 - lr: 1.0000e-04 - 327ms/epoch - 940us/step\n",
      "Epoch 57/150\n",
      "348/348 - 0s - loss: 0.2936 - accuracy: 0.8620 - val_loss: 0.2906 - val_accuracy: 0.8636 - lr: 1.0000e-04 - 312ms/epoch - 897us/step\n",
      "Epoch 58/150\n",
      "348/348 - 0s - loss: 0.2934 - accuracy: 0.8626 - val_loss: 0.2899 - val_accuracy: 0.8632 - lr: 1.0000e-04 - 326ms/epoch - 938us/step\n",
      "Epoch 59/150\n",
      "348/348 - 0s - loss: 0.2934 - accuracy: 0.8624 - val_loss: 0.2896 - val_accuracy: 0.8626 - lr: 1.0000e-04 - 309ms/epoch - 888us/step\n",
      "Epoch 60/150\n",
      "348/348 - 0s - loss: 0.2933 - accuracy: 0.8625 - val_loss: 0.2897 - val_accuracy: 0.8631 - lr: 1.0000e-04 - 309ms/epoch - 889us/step\n",
      "Epoch 61/150\n",
      "348/348 - 0s - loss: 0.2933 - accuracy: 0.8625 - val_loss: 0.2897 - val_accuracy: 0.8643 - lr: 1.0000e-04 - 310ms/epoch - 892us/step\n",
      "Epoch 62/150\n",
      "348/348 - 0s - loss: 0.2928 - accuracy: 0.8623 - val_loss: 0.2895 - val_accuracy: 0.8632 - lr: 1.0000e-04 - 309ms/epoch - 888us/step\n",
      "Epoch 63/150\n",
      "348/348 - 0s - loss: 0.2925 - accuracy: 0.8632 - val_loss: 0.2897 - val_accuracy: 0.8637 - lr: 1.0000e-04 - 308ms/epoch - 885us/step\n",
      "Epoch 64/150\n",
      "348/348 - 0s - loss: 0.2924 - accuracy: 0.8632 - val_loss: 0.2893 - val_accuracy: 0.8639 - lr: 1.0000e-04 - 327ms/epoch - 940us/step\n",
      "Epoch 65/150\n",
      "348/348 - 0s - loss: 0.2922 - accuracy: 0.8628 - val_loss: 0.2893 - val_accuracy: 0.8643 - lr: 1.0000e-04 - 310ms/epoch - 892us/step\n",
      "Epoch 66/150\n",
      "348/348 - 0s - loss: 0.2923 - accuracy: 0.8632 - val_loss: 0.2893 - val_accuracy: 0.8633 - lr: 1.0000e-04 - 323ms/epoch - 929us/step\n",
      "Epoch 67/150\n",
      "348/348 - 0s - loss: 0.2919 - accuracy: 0.8631 - val_loss: 0.2890 - val_accuracy: 0.8637 - lr: 1.0000e-04 - 318ms/epoch - 914us/step\n",
      "Epoch 68/150\n",
      "\n",
      "Epoch 68: ReduceLROnPlateau reducing learning rate to 2.499999936844688e-05.\n",
      "348/348 - 0s - loss: 0.2917 - accuracy: 0.8628 - val_loss: 0.2891 - val_accuracy: 0.8636 - lr: 1.0000e-04 - 308ms/epoch - 886us/step\n",
      "Epoch 69/150\n",
      "348/348 - 0s - loss: 0.2913 - accuracy: 0.8633 - val_loss: 0.2885 - val_accuracy: 0.8637 - lr: 2.5000e-05 - 329ms/epoch - 947us/step\n",
      "Epoch 70/150\n",
      "348/348 - 0s - loss: 0.2913 - accuracy: 0.8632 - val_loss: 0.2886 - val_accuracy: 0.8641 - lr: 2.5000e-05 - 307ms/epoch - 883us/step\n",
      "Epoch 71/150\n",
      "Restoring model weights from the end of the best epoch: 61.\n",
      "348/348 - 0s - loss: 0.2912 - accuracy: 0.8639 - val_loss: 0.2885 - val_accuracy: 0.8637 - lr: 2.5000e-05 - 325ms/epoch - 934us/step\n",
      "Epoch 71: early stopping\n"
     ]
    },
    {
     "data": {
      "text/plain": "<Figure size 640x480 with 1 Axes>",
      "image/png": "[encoded data removed]"
     },
     "metadata": {},
     "output_type": "display_data"
    },
    {
     "data": {
      "text/plain": "<Figure size 640x480 with 1 Axes>",
      "image/png": "[encoded data removed]"
     },
     "metadata": {},
     "output_type": "display_data"
    },
    {
     "name": "stdout",
     "output_type": "stream",
     "text": [
      "748/748 [==============================] - 0s 427us/step - loss: 0.2853 - accuracy: 0.8677\n",
      "[0.28532108664512634, 0.8677399158477783]\n"
     ]
    }
   ],
   "source": [
    "from keras.src.optimizers import Adam\n",
    "\n",
    "history, nn_model = keras_mlp(X_std_train, y_train, X_std_val, y_val,\n",
    "                              Adam(learning_rate=1e-4), activation=\"tanh\",\n",
    "                              dropout=0.3, epochs=150)\n",
    "plt.plot(history.history['accuracy'])\n",
    "plt.plot(history.history['val_accuracy'])\n",
    "plt.title('model accuracy')\n",
    "plt.ylabel('accuracy')\n",
    "plt.xlabel('epoch')\n",
    "plt.legend(['train', 'val'], loc='upper left')\n",
    "plt.show()\n",
    "\n",
    "plt.plot(history.history['loss'])\n",
    "plt.plot(history.history['val_loss'])\n",
    "plt.title('model loss')\n",
    "plt.ylabel('loss')\n",
    "plt.xlabel('epoch')\n",
    "plt.show()\n",
    "\n",
    "eval = nn_model.evaluate(X_std_test, y_test)\n",
    "print(eval)"
   ],
   "metadata": {
    "collapsed": false,
    "ExecuteTime": {
     "end_time": "2023-12-19T19:38:48.458972300Z",
     "start_time": "2023-12-19T19:38:24.773850100Z"
    }
   },
   "id": "871bee4d46a291ad"
  },
  {
   "cell_type": "code",
   "execution_count": 93,
   "outputs": [
    {
     "name": "stdout",
     "output_type": "stream",
     "text": [
      "Epoch 1/150\n",
      "348/348 - 1s - loss: 0.5564 - accuracy: 0.6987 - val_loss: 0.4788 - val_accuracy: 0.7352 - lr: 0.0010 - 556ms/epoch - 2ms/step\n",
      "Epoch 2/150\n",
      "348/348 - 0s - loss: 0.4644 - accuracy: 0.7591 - val_loss: 0.4353 - val_accuracy: 0.7840 - lr: 0.0010 - 292ms/epoch - 839us/step\n",
      "Epoch 3/150\n",
      "348/348 - 0s - loss: 0.4363 - accuracy: 0.7873 - val_loss: 0.4144 - val_accuracy: 0.8062 - lr: 0.0010 - 288ms/epoch - 828us/step\n",
      "Epoch 4/150\n",
      "348/348 - 0s - loss: 0.4167 - accuracy: 0.8017 - val_loss: 0.3940 - val_accuracy: 0.8156 - lr: 0.0010 - 289ms/epoch - 831us/step\n",
      "Epoch 5/150\n",
      "348/348 - 0s - loss: 0.3987 - accuracy: 0.8103 - val_loss: 0.3755 - val_accuracy: 0.8242 - lr: 0.0010 - 289ms/epoch - 831us/step\n",
      "Epoch 6/150\n",
      "348/348 - 0s - loss: 0.3834 - accuracy: 0.8172 - val_loss: 0.3605 - val_accuracy: 0.8281 - lr: 0.0010 - 288ms/epoch - 828us/step\n",
      "Epoch 7/150\n",
      "348/348 - 0s - loss: 0.3720 - accuracy: 0.8227 - val_loss: 0.3496 - val_accuracy: 0.8325 - lr: 0.0010 - 290ms/epoch - 833us/step\n",
      "Epoch 8/150\n",
      "348/348 - 0s - loss: 0.3640 - accuracy: 0.8249 - val_loss: 0.3419 - val_accuracy: 0.8353 - lr: 0.0010 - 287ms/epoch - 825us/step\n",
      "Epoch 9/150\n",
      "348/348 - 0s - loss: 0.3575 - accuracy: 0.8275 - val_loss: 0.3360 - val_accuracy: 0.8375 - lr: 0.0010 - 290ms/epoch - 834us/step\n",
      "Epoch 10/150\n",
      "348/348 - 0s - loss: 0.3526 - accuracy: 0.8303 - val_loss: 0.3315 - val_accuracy: 0.8396 - lr: 0.0010 - 290ms/epoch - 834us/step\n",
      "Epoch 11/150\n",
      "348/348 - 0s - loss: 0.3470 - accuracy: 0.8330 - val_loss: 0.3277 - val_accuracy: 0.8419 - lr: 0.0010 - 292ms/epoch - 839us/step\n",
      "Epoch 12/150\n",
      "348/348 - 0s - loss: 0.3441 - accuracy: 0.8341 - val_loss: 0.3246 - val_accuracy: 0.8433 - lr: 0.0010 - 290ms/epoch - 833us/step\n",
      "Epoch 13/150\n",
      "348/348 - 0s - loss: 0.3397 - accuracy: 0.8380 - val_loss: 0.3218 - val_accuracy: 0.8452 - lr: 0.0010 - 289ms/epoch - 831us/step\n",
      "Epoch 14/150\n",
      "348/348 - 0s - loss: 0.3366 - accuracy: 0.8395 - val_loss: 0.3196 - val_accuracy: 0.8483 - lr: 0.0010 - 290ms/epoch - 834us/step\n",
      "Epoch 15/150\n",
      "348/348 - 0s - loss: 0.3346 - accuracy: 0.8404 - val_loss: 0.3175 - val_accuracy: 0.8498 - lr: 0.0010 - 287ms/epoch - 825us/step\n",
      "Epoch 16/150\n",
      "348/348 - 0s - loss: 0.3312 - accuracy: 0.8418 - val_loss: 0.3159 - val_accuracy: 0.8514 - lr: 0.0010 - 294ms/epoch - 844us/step\n",
      "Epoch 17/150\n",
      "348/348 - 0s - loss: 0.3289 - accuracy: 0.8443 - val_loss: 0.3144 - val_accuracy: 0.8521 - lr: 0.0010 - 288ms/epoch - 828us/step\n",
      "Epoch 18/150\n",
      "348/348 - 0s - loss: 0.3268 - accuracy: 0.8457 - val_loss: 0.3130 - val_accuracy: 0.8534 - lr: 0.0010 - 290ms/epoch - 834us/step\n",
      "Epoch 19/150\n",
      "348/348 - 0s - loss: 0.3259 - accuracy: 0.8464 - val_loss: 0.3120 - val_accuracy: 0.8534 - lr: 0.0010 - 288ms/epoch - 827us/step\n",
      "Epoch 20/150\n",
      "348/348 - 0s - loss: 0.3244 - accuracy: 0.8473 - val_loss: 0.3111 - val_accuracy: 0.8537 - lr: 0.0010 - 287ms/epoch - 824us/step\n",
      "Epoch 21/150\n",
      "348/348 - 0s - loss: 0.3222 - accuracy: 0.8482 - val_loss: 0.3101 - val_accuracy: 0.8543 - lr: 0.0010 - 288ms/epoch - 827us/step\n",
      "Epoch 22/150\n",
      "348/348 - 0s - loss: 0.3212 - accuracy: 0.8491 - val_loss: 0.3090 - val_accuracy: 0.8550 - lr: 0.0010 - 296ms/epoch - 850us/step\n",
      "Epoch 23/150\n",
      "348/348 - 0s - loss: 0.3198 - accuracy: 0.8502 - val_loss: 0.3085 - val_accuracy: 0.8550 - lr: 0.0010 - 290ms/epoch - 834us/step\n",
      "Epoch 24/150\n",
      "348/348 - 0s - loss: 0.3189 - accuracy: 0.8502 - val_loss: 0.3077 - val_accuracy: 0.8556 - lr: 0.0010 - 288ms/epoch - 827us/step\n",
      "Epoch 25/150\n",
      "348/348 - 0s - loss: 0.3178 - accuracy: 0.8517 - val_loss: 0.3069 - val_accuracy: 0.8555 - lr: 0.0010 - 291ms/epoch - 837us/step\n",
      "Epoch 26/150\n",
      "348/348 - 0s - loss: 0.3173 - accuracy: 0.8513 - val_loss: 0.3062 - val_accuracy: 0.8563 - lr: 0.0010 - 288ms/epoch - 827us/step\n",
      "Epoch 27/150\n",
      "348/348 - 0s - loss: 0.3158 - accuracy: 0.8505 - val_loss: 0.3055 - val_accuracy: 0.8564 - lr: 0.0010 - 290ms/epoch - 834us/step\n",
      "Epoch 28/150\n",
      "348/348 - 0s - loss: 0.3148 - accuracy: 0.8525 - val_loss: 0.3051 - val_accuracy: 0.8557 - lr: 0.0010 - 289ms/epoch - 831us/step\n",
      "Epoch 29/150\n",
      "348/348 - 0s - loss: 0.3149 - accuracy: 0.8525 - val_loss: 0.3044 - val_accuracy: 0.8568 - lr: 0.0010 - 289ms/epoch - 831us/step\n",
      "Epoch 30/150\n",
      "348/348 - 0s - loss: 0.3138 - accuracy: 0.8534 - val_loss: 0.3039 - val_accuracy: 0.8572 - lr: 0.0010 - 290ms/epoch - 833us/step\n",
      "Epoch 31/150\n",
      "348/348 - 0s - loss: 0.3129 - accuracy: 0.8530 - val_loss: 0.3034 - val_accuracy: 0.8564 - lr: 0.0010 - 288ms/epoch - 828us/step\n",
      "Epoch 32/150\n",
      "348/348 - 0s - loss: 0.3126 - accuracy: 0.8534 - val_loss: 0.3029 - val_accuracy: 0.8577 - lr: 0.0010 - 290ms/epoch - 834us/step\n",
      "Epoch 33/150\n",
      "348/348 - 0s - loss: 0.3110 - accuracy: 0.8540 - val_loss: 0.3024 - val_accuracy: 0.8580 - lr: 0.0010 - 291ms/epoch - 837us/step\n",
      "Epoch 34/150\n",
      "348/348 - 0s - loss: 0.3117 - accuracy: 0.8539 - val_loss: 0.3019 - val_accuracy: 0.8581 - lr: 0.0010 - 288ms/epoch - 829us/step\n",
      "Epoch 35/150\n",
      "348/348 - 0s - loss: 0.3100 - accuracy: 0.8545 - val_loss: 0.3016 - val_accuracy: 0.8578 - lr: 0.0010 - 291ms/epoch - 836us/step\n",
      "Epoch 36/150\n",
      "348/348 - 0s - loss: 0.3100 - accuracy: 0.8549 - val_loss: 0.3011 - val_accuracy: 0.8582 - lr: 0.0010 - 290ms/epoch - 833us/step\n",
      "Epoch 37/150\n",
      "348/348 - 0s - loss: 0.3100 - accuracy: 0.8547 - val_loss: 0.3005 - val_accuracy: 0.8584 - lr: 0.0010 - 289ms/epoch - 831us/step\n",
      "Epoch 38/150\n",
      "348/348 - 0s - loss: 0.3090 - accuracy: 0.8558 - val_loss: 0.3001 - val_accuracy: 0.8585 - lr: 0.0010 - 289ms/epoch - 830us/step\n",
      "Epoch 39/150\n",
      "348/348 - 0s - loss: 0.3087 - accuracy: 0.8548 - val_loss: 0.2998 - val_accuracy: 0.8587 - lr: 0.0010 - 290ms/epoch - 834us/step\n",
      "Epoch 40/150\n",
      "348/348 - 0s - loss: 0.3083 - accuracy: 0.8563 - val_loss: 0.2993 - val_accuracy: 0.8587 - lr: 0.0010 - 290ms/epoch - 834us/step\n",
      "Epoch 41/150\n",
      "348/348 - 0s - loss: 0.3080 - accuracy: 0.8555 - val_loss: 0.2993 - val_accuracy: 0.8586 - lr: 0.0010 - 290ms/epoch - 833us/step\n",
      "Epoch 42/150\n",
      "348/348 - 0s - loss: 0.3071 - accuracy: 0.8559 - val_loss: 0.2989 - val_accuracy: 0.8591 - lr: 0.0010 - 292ms/epoch - 840us/step\n",
      "Epoch 43/150\n",
      "348/348 - 0s - loss: 0.3063 - accuracy: 0.8563 - val_loss: 0.2984 - val_accuracy: 0.8595 - lr: 0.0010 - 292ms/epoch - 838us/step\n",
      "Epoch 44/150\n",
      "348/348 - 0s - loss: 0.3065 - accuracy: 0.8564 - val_loss: 0.2982 - val_accuracy: 0.8597 - lr: 0.0010 - 289ms/epoch - 831us/step\n",
      "Epoch 45/150\n",
      "348/348 - 0s - loss: 0.3054 - accuracy: 0.8566 - val_loss: 0.2978 - val_accuracy: 0.8598 - lr: 0.0010 - 289ms/epoch - 830us/step\n",
      "Epoch 46/150\n",
      "348/348 - 0s - loss: 0.3053 - accuracy: 0.8563 - val_loss: 0.2975 - val_accuracy: 0.8601 - lr: 0.0010 - 292ms/epoch - 840us/step\n",
      "Epoch 47/150\n",
      "348/348 - 0s - loss: 0.3044 - accuracy: 0.8572 - val_loss: 0.2971 - val_accuracy: 0.8597 - lr: 0.0010 - 288ms/epoch - 828us/step\n",
      "Epoch 48/150\n",
      "348/348 - 0s - loss: 0.3043 - accuracy: 0.8561 - val_loss: 0.2970 - val_accuracy: 0.8605 - lr: 0.0010 - 293ms/epoch - 843us/step\n",
      "Epoch 49/150\n",
      "348/348 - 0s - loss: 0.3040 - accuracy: 0.8576 - val_loss: 0.2966 - val_accuracy: 0.8594 - lr: 0.0010 - 289ms/epoch - 830us/step\n",
      "Epoch 50/150\n",
      "348/348 - 0s - loss: 0.3031 - accuracy: 0.8568 - val_loss: 0.2964 - val_accuracy: 0.8600 - lr: 0.0010 - 291ms/epoch - 836us/step\n",
      "Epoch 51/150\n",
      "348/348 - 0s - loss: 0.3036 - accuracy: 0.8570 - val_loss: 0.2964 - val_accuracy: 0.8602 - lr: 0.0010 - 288ms/epoch - 827us/step\n",
      "Epoch 52/150\n",
      "348/348 - 0s - loss: 0.3026 - accuracy: 0.8572 - val_loss: 0.2961 - val_accuracy: 0.8594 - lr: 0.0010 - 290ms/epoch - 834us/step\n",
      "Epoch 53/150\n",
      "348/348 - 0s - loss: 0.3024 - accuracy: 0.8578 - val_loss: 0.2955 - val_accuracy: 0.8611 - lr: 0.0010 - 290ms/epoch - 833us/step\n",
      "Epoch 54/150\n",
      "348/348 - 0s - loss: 0.3019 - accuracy: 0.8576 - val_loss: 0.2953 - val_accuracy: 0.8607 - lr: 0.0010 - 292ms/epoch - 838us/step\n",
      "Epoch 55/150\n",
      "348/348 - 0s - loss: 0.3013 - accuracy: 0.8583 - val_loss: 0.2951 - val_accuracy: 0.8611 - lr: 0.0010 - 288ms/epoch - 829us/step\n",
      "Epoch 56/150\n",
      "348/348 - 0s - loss: 0.3021 - accuracy: 0.8580 - val_loss: 0.2948 - val_accuracy: 0.8609 - lr: 0.0010 - 290ms/epoch - 834us/step\n",
      "Epoch 57/150\n",
      "348/348 - 0s - loss: 0.3015 - accuracy: 0.8581 - val_loss: 0.2946 - val_accuracy: 0.8609 - lr: 0.0010 - 289ms/epoch - 831us/step\n",
      "Epoch 58/150\n",
      "348/348 - 0s - loss: 0.3005 - accuracy: 0.8587 - val_loss: 0.2943 - val_accuracy: 0.8612 - lr: 0.0010 - 289ms/epoch - 830us/step\n",
      "Epoch 59/150\n",
      "348/348 - 0s - loss: 0.3008 - accuracy: 0.8580 - val_loss: 0.2945 - val_accuracy: 0.8610 - lr: 0.0010 - 288ms/epoch - 827us/step\n",
      "Epoch 60/150\n",
      "348/348 - 0s - loss: 0.3004 - accuracy: 0.8586 - val_loss: 0.2942 - val_accuracy: 0.8610 - lr: 0.0010 - 288ms/epoch - 828us/step\n",
      "Epoch 61/150\n",
      "348/348 - 0s - loss: 0.3004 - accuracy: 0.8588 - val_loss: 0.2939 - val_accuracy: 0.8608 - lr: 0.0010 - 289ms/epoch - 831us/step\n",
      "Epoch 62/150\n",
      "348/348 - 0s - loss: 0.2996 - accuracy: 0.8588 - val_loss: 0.2939 - val_accuracy: 0.8611 - lr: 0.0010 - 289ms/epoch - 831us/step\n",
      "Epoch 63/150\n",
      "348/348 - 0s - loss: 0.2999 - accuracy: 0.8586 - val_loss: 0.2938 - val_accuracy: 0.8617 - lr: 0.0010 - 291ms/epoch - 836us/step\n",
      "Epoch 64/150\n",
      "348/348 - 0s - loss: 0.2993 - accuracy: 0.8590 - val_loss: 0.2933 - val_accuracy: 0.8617 - lr: 0.0010 - 292ms/epoch - 840us/step\n",
      "Epoch 65/150\n",
      "348/348 - 0s - loss: 0.2988 - accuracy: 0.8597 - val_loss: 0.2930 - val_accuracy: 0.8616 - lr: 0.0010 - 286ms/epoch - 823us/step\n",
      "Epoch 66/150\n",
      "348/348 - 0s - loss: 0.2987 - accuracy: 0.8597 - val_loss: 0.2930 - val_accuracy: 0.8615 - lr: 0.0010 - 288ms/epoch - 828us/step\n",
      "Epoch 67/150\n",
      "348/348 - 0s - loss: 0.2988 - accuracy: 0.8591 - val_loss: 0.2927 - val_accuracy: 0.8622 - lr: 0.0010 - 290ms/epoch - 834us/step\n",
      "Epoch 68/150\n",
      "348/348 - 0s - loss: 0.2984 - accuracy: 0.8597 - val_loss: 0.2926 - val_accuracy: 0.8616 - lr: 0.0010 - 288ms/epoch - 827us/step\n",
      "Epoch 69/150\n",
      "348/348 - 0s - loss: 0.2982 - accuracy: 0.8593 - val_loss: 0.2928 - val_accuracy: 0.8623 - lr: 0.0010 - 289ms/epoch - 831us/step\n",
      "Epoch 70/150\n",
      "348/348 - 0s - loss: 0.2983 - accuracy: 0.8593 - val_loss: 0.2924 - val_accuracy: 0.8627 - lr: 0.0010 - 291ms/epoch - 836us/step\n",
      "Epoch 71/150\n",
      "348/348 - 0s - loss: 0.2980 - accuracy: 0.8594 - val_loss: 0.2922 - val_accuracy: 0.8623 - lr: 0.0010 - 289ms/epoch - 830us/step\n",
      "Epoch 72/150\n",
      "348/348 - 0s - loss: 0.2973 - accuracy: 0.8596 - val_loss: 0.2919 - val_accuracy: 0.8616 - lr: 0.0010 - 292ms/epoch - 840us/step\n",
      "Epoch 73/150\n",
      "348/348 - 0s - loss: 0.2975 - accuracy: 0.8596 - val_loss: 0.2923 - val_accuracy: 0.8621 - lr: 0.0010 - 287ms/epoch - 824us/step\n",
      "Epoch 74/150\n",
      "348/348 - 0s - loss: 0.2972 - accuracy: 0.8597 - val_loss: 0.2917 - val_accuracy: 0.8626 - lr: 0.0010 - 289ms/epoch - 831us/step\n",
      "Epoch 75/150\n",
      "348/348 - 0s - loss: 0.2970 - accuracy: 0.8596 - val_loss: 0.2915 - val_accuracy: 0.8625 - lr: 0.0010 - 287ms/epoch - 825us/step\n",
      "Epoch 76/150\n",
      "348/348 - 0s - loss: 0.2966 - accuracy: 0.8607 - val_loss: 0.2915 - val_accuracy: 0.8621 - lr: 0.0010 - 287ms/epoch - 825us/step\n",
      "Epoch 77/150\n",
      "\n",
      "Epoch 77: ReduceLROnPlateau reducing learning rate to 0.0002500000118743628.\n",
      "348/348 - 0s - loss: 0.2967 - accuracy: 0.8602 - val_loss: 0.2914 - val_accuracy: 0.8626 - lr: 0.0010 - 290ms/epoch - 833us/step\n",
      "Epoch 78/150\n",
      "348/348 - 0s - loss: 0.2966 - accuracy: 0.8600 - val_loss: 0.2914 - val_accuracy: 0.8623 - lr: 2.5000e-04 - 289ms/epoch - 831us/step\n",
      "Epoch 79/150\n",
      "348/348 - 0s - loss: 0.2955 - accuracy: 0.8606 - val_loss: 0.2913 - val_accuracy: 0.8625 - lr: 2.5000e-04 - 289ms/epoch - 831us/step\n",
      "Epoch 80/150\n",
      "Restoring model weights from the end of the best epoch: 70.\n",
      "348/348 - 0s - loss: 0.2957 - accuracy: 0.8609 - val_loss: 0.2913 - val_accuracy: 0.8625 - lr: 2.5000e-04 - 290ms/epoch - 834us/step\n",
      "Epoch 80: early stopping\n"
     ]
    },
    {
     "data": {
      "text/plain": "<Figure size 640x480 with 1 Axes>",
      "image/png": "[encoded data removed]"
     },
     "metadata": {},
     "output_type": "display_data"
    },
    {
     "name": "stdout",
     "output_type": "stream",
     "text": [
      "Epoch 1/30\n",
      "424/424 - 0s - loss: 0.2971 - accuracy: 0.8605 - 310ms/epoch - 731us/step\n",
      "Epoch 2/30\n",
      "424/424 - 0s - loss: 0.2972 - accuracy: 0.8601 - 298ms/epoch - 703us/step\n",
      "Epoch 3/30\n",
      "424/424 - 0s - loss: 0.2970 - accuracy: 0.8603 - 299ms/epoch - 706us/step\n",
      "Epoch 4/30\n",
      "424/424 - 0s - loss: 0.2971 - accuracy: 0.8600 - 299ms/epoch - 706us/step\n",
      "Epoch 5/30\n",
      "424/424 - 0s - loss: 0.2972 - accuracy: 0.8599 - 299ms/epoch - 706us/step\n",
      "Epoch 6/30\n",
      "424/424 - 0s - loss: 0.2973 - accuracy: 0.8599 - 295ms/epoch - 696us/step\n",
      "Epoch 7/30\n",
      "424/424 - 0s - loss: 0.2972 - accuracy: 0.8597 - 298ms/epoch - 702us/step\n",
      "Epoch 8/30\n",
      "424/424 - 0s - loss: 0.2969 - accuracy: 0.8606 - 297ms/epoch - 701us/step\n",
      "Epoch 9/30\n",
      "424/424 - 0s - loss: 0.2974 - accuracy: 0.8605 - 298ms/epoch - 704us/step\n",
      "Epoch 10/30\n",
      "424/424 - 0s - loss: 0.2972 - accuracy: 0.8600 - 298ms/epoch - 703us/step\n",
      "Epoch 11/30\n",
      "424/424 - 0s - loss: 0.2967 - accuracy: 0.8602 - 297ms/epoch - 701us/step\n",
      "Epoch 12/30\n",
      "424/424 - 0s - loss: 0.2965 - accuracy: 0.8603 - 298ms/epoch - 704us/step\n",
      "Epoch 13/30\n",
      "424/424 - 0s - loss: 0.2965 - accuracy: 0.8605 - 296ms/epoch - 699us/step\n",
      "Epoch 14/30\n",
      "424/424 - 0s - loss: 0.2968 - accuracy: 0.8598 - 297ms/epoch - 701us/step\n",
      "Epoch 15/30\n",
      "424/424 - 0s - loss: 0.2968 - accuracy: 0.8598 - 297ms/epoch - 701us/step\n",
      "Epoch 16/30\n",
      "424/424 - 0s - loss: 0.2969 - accuracy: 0.8604 - 299ms/epoch - 706us/step\n",
      "Epoch 17/30\n",
      "424/424 - 0s - loss: 0.2962 - accuracy: 0.8607 - 296ms/epoch - 699us/step\n",
      "Epoch 18/30\n",
      "424/424 - 0s - loss: 0.2962 - accuracy: 0.8598 - 297ms/epoch - 701us/step\n",
      "Epoch 19/30\n",
      "424/424 - 0s - loss: 0.2961 - accuracy: 0.8606 - 297ms/epoch - 701us/step\n",
      "Epoch 20/30\n",
      "424/424 - 0s - loss: 0.2963 - accuracy: 0.8607 - 297ms/epoch - 701us/step\n",
      "Epoch 21/30\n",
      "424/424 - 0s - loss: 0.2963 - accuracy: 0.8609 - 297ms/epoch - 701us/step\n",
      "Epoch 22/30\n",
      "424/424 - 0s - loss: 0.2963 - accuracy: 0.8608 - 294ms/epoch - 694us/step\n",
      "Epoch 23/30\n",
      "424/424 - 0s - loss: 0.2961 - accuracy: 0.8600 - 295ms/epoch - 697us/step\n",
      "Epoch 24/30\n",
      "424/424 - 0s - loss: 0.2959 - accuracy: 0.8604 - 299ms/epoch - 706us/step\n",
      "Epoch 25/30\n",
      "424/424 - 0s - loss: 0.2957 - accuracy: 0.8614 - 295ms/epoch - 696us/step\n",
      "Epoch 26/30\n",
      "424/424 - 0s - loss: 0.2963 - accuracy: 0.8605 - 294ms/epoch - 694us/step\n",
      "Epoch 27/30\n",
      "424/424 - 0s - loss: 0.2957 - accuracy: 0.8610 - 297ms/epoch - 701us/step\n",
      "Epoch 28/30\n",
      "424/424 - 0s - loss: 0.2959 - accuracy: 0.8600 - 298ms/epoch - 704us/step\n",
      "Epoch 29/30\n",
      "424/424 - 0s - loss: 0.2961 - accuracy: 0.8609 - 297ms/epoch - 700us/step\n",
      "Epoch 30/30\n",
      "424/424 - 0s - loss: 0.2957 - accuracy: 0.8615 - 298ms/epoch - 703us/step\n",
      "748/748 [==============================] - 0s 437us/step - loss: 0.2871 - accuracy: 0.8661\n",
      "[0.287105530500412, 0.8660673499107361]\n"
     ]
    }
   ],
   "source": [
    "from keras.src.optimizers import SGD\n",
    "\n",
    "sgd = SGD(learning_rate=1e-3, momentum=0.9, nesterov=True)\n",
    "\n",
    "history, nn_model = keras_mlp(X_std_train, y_train, X_std_val, y_val, sgd, activation=\"tanh\", dropout=0.3,\n",
    "                              epochs=150)\n",
    "plt.plot(history.history['accuracy'])\n",
    "plt.plot(history.history['val_accuracy'])\n",
    "plt.title('model accuracy')\n",
    "plt.ylabel('accuracy')\n",
    "plt.xlabel('epoch')\n",
    "plt.legend(['train', 'val'], loc='upper left')\n",
    "plt.show()\n",
    "nn_model.fit(X_std_dev, y_dev, batch_size=320, epochs=30, verbose=2, use_multiprocessing=True, workers=10)\n",
    "print(nn_model.evaluate(X_std_test, y_test))"
   ],
   "metadata": {
    "collapsed": false,
    "ExecuteTime": {
     "end_time": "2023-12-19T19:39:21.462261Z",
     "start_time": "2023-12-19T19:38:48.460978500Z"
    }
   },
   "id": "e8f988acb1cbf1a1"
  },
  {
   "cell_type": "code",
   "execution_count": 93,
   "outputs": [],
   "source": [],
   "metadata": {
    "collapsed": false,
    "ExecuteTime": {
     "end_time": "2023-12-19T19:39:21.476309500Z",
     "start_time": "2023-12-19T19:39:21.460253900Z"
    }
   },
   "id": "8f63bf893dc7b633"
  },
  {
   "cell_type": "code",
   "execution_count": null,
   "outputs": [],
   "source": [],
   "metadata": {
    "collapsed": false
   },
   "id": "6e8c389637e4984a"
  }
 ],
 "metadata": {
  "kernelspec": {
   "display_name": "Python 3",
   "language": "python",
   "name": "python3"
  },
  "language_info": {
   "codemirror_mode": {
    "name": "ipython",
    "version": 2
   },
   "file_extension": ".py",
   "mimetype": "text/x-python",
   "name": "python",
   "nbconvert_exporter": "python",
   "pygments_lexer": "ipython2",
   "version": "2.7.6"
  }
 },
 "nbformat": 4,
 "nbformat_minor": 5
}
