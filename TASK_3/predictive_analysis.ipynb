{
 "cells": [
  {
   "cell_type": "code",
   "execution_count": 13,
   "outputs": [],
   "source": [
    "from sklearn.preprocessing import StandardScaler\n",
    "from sklearn.model_selection import train_test_split"
   ],
   "metadata": {
    "collapsed": false,
    "ExecuteTime": {
     "end_time": "2023-12-16T15:49:20.377355500Z",
     "start_time": "2023-12-16T15:49:20.372337300Z"
    }
   },
   "id": "472bef9c925d68b2"
  },
  {
   "cell_type": "code",
   "execution_count": 14,
   "id": "initial_id",
   "metadata": {
    "collapsed": true,
    "ExecuteTime": {
     "end_time": "2023-12-16T15:49:20.584072200Z",
     "start_time": "2023-12-16T15:49:20.568015900Z"
    }
   },
   "outputs": [],
   "source": [
    "from classifiers import grid_search"
   ]
  },
  {
   "cell_type": "markdown",
   "source": [
    "Load the dataset and select the features and target to use for the classification."
   ],
   "metadata": {
    "collapsed": false
   },
   "id": "b24e39b5927cc9d5"
  },
  {
   "cell_type": "code",
   "execution_count": 15,
   "outputs": [],
   "source": [
    "import pandas as pd\n",
    "\n",
    "df = pd.read_csv('../data/new_incidents.csv')\n",
    "\n",
    "# drop null columns\n",
    "df = df.drop(columns=['notes', 'date'])\n",
    "\n",
    "poverty_df = pd.read_csv('../data/poverty_cleaned.csv')\n",
    "df = df.merge(poverty_df, on=['state', 'year'])"
   ],
   "metadata": {
    "collapsed": false,
    "ExecuteTime": {
     "end_time": "2023-12-16T15:49:21.656976700Z",
     "start_time": "2023-12-16T15:49:21.184901600Z"
    }
   },
   "id": "e470a010423fd494"
  },
  {
   "cell_type": "code",
   "execution_count": 16,
   "outputs": [],
   "source": [
    "# convert state string to int\n",
    "df['state'] = df['state'].astype('category')\n",
    "df['state'] = df['state'].cat.codes\n",
    "\n",
    "df['city_or_county'] = df['city_or_county'].astype('category')\n",
    "df['city_or_county'] = df['city_or_county'].cat.codes\n",
    "\n",
    "df[\"any_killed\"] = df[\"n_killed\"] > 0\n",
    "\n",
    "df = df.dropna()\n",
    "\n",
    "\n"
   ],
   "metadata": {
    "collapsed": false,
    "ExecuteTime": {
     "end_time": "2023-12-16T15:49:22.443290500Z",
     "start_time": "2023-12-16T15:49:22.390106200Z"
    }
   },
   "id": "76f7e66425f0f251"
  },
  {
   "cell_type": "code",
   "execution_count": 17,
   "outputs": [
    {
     "name": "stdout",
     "output_type": "stream",
     "text": [
      "<class 'pandas.core.frame.DataFrame'>\n",
      "Index: 159432 entries, 0 to 183652\n",
      "Data columns (total 37 columns):\n",
      " #   Column                  Non-Null Count   Dtype  \n",
      "---  ------                  --------------   -----  \n",
      " 0   state                   159432 non-null  int8   \n",
      " 1   city_or_county          159432 non-null  int16  \n",
      " 2   latitude                159432 non-null  float64\n",
      " 3   longitude               159432 non-null  float64\n",
      " 4   congressional_district  159432 non-null  float64\n",
      " 5   avg_age_participants    159432 non-null  float64\n",
      " 6   n_participants_adult    159432 non-null  float64\n",
      " 7   n_males                 159432 non-null  float64\n",
      " 8   n_females               159432 non-null  float64\n",
      " 9   n_killed                159432 non-null  int64  \n",
      " 10  n_injured               159432 non-null  int64  \n",
      " 11  n_arrested              159432 non-null  int64  \n",
      " 12  n_unharmed              159432 non-null  int64  \n",
      " 13  n_participants          159432 non-null  int64  \n",
      " 14  year                    159432 non-null  int64  \n",
      " 15  month                   159432 non-null  int64  \n",
      " 16  day                     159432 non-null  int64  \n",
      " 17  incident_category       159432 non-null  object \n",
      " 18  kills_to_pov            159432 non-null  float64\n",
      " 19  age_to_average          159432 non-null  float64\n",
      " 20  avg_participants        159432 non-null  float64\n",
      " 21  par_to_average          159432 non-null  float64\n",
      " 22  n_involved              159432 non-null  int64  \n",
      " 23  minors_to_pop           159432 non-null  float64\n",
      " 24  par_to_pop              159432 non-null  float64\n",
      " 25  kil_to_p                159432 non-null  float64\n",
      " 26  man_to_p                159432 non-null  float64\n",
      " 27  fem_to_p                159432 non-null  float64\n",
      " 28  arr_to_p                159432 non-null  float64\n",
      " 29  unh_to_p                159432 non-null  float64\n",
      " 30  inj_to_p                159432 non-null  float64\n",
      " 31  n_minors                159432 non-null  float64\n",
      " 32  teen_to_m               159432 non-null  float64\n",
      " 33  teen_to_f               159432 non-null  float64\n",
      " 34  par_to_tot              159432 non-null  float64\n",
      " 35  povertyPercentage       159432 non-null  float64\n",
      " 36  any_killed              159432 non-null  bool   \n",
      "dtypes: bool(1), float64(24), int16(1), int64(9), int8(1), object(1)\n",
      "memory usage: 43.2+ MB\n"
     ]
    }
   ],
   "source": [
    "df.info()"
   ],
   "metadata": {
    "collapsed": false,
    "ExecuteTime": {
     "end_time": "2023-12-16T15:49:23.312889100Z",
     "start_time": "2023-12-16T15:49:23.287802300Z"
    }
   },
   "id": "415009f3880f00c8"
  },
  {
   "cell_type": "code",
   "execution_count": 18,
   "outputs": [],
   "source": [
    "input_columns = ['state', 'city_or_county', 'year', 'month', 'n_participants', 'n_participants_adult', 'n_males',\n",
    "                 'povertyPercentage']\n",
    "target_column = ['any_killed']\n",
    "\n",
    "X = df[input_columns]\n",
    "y = df[target_column]"
   ],
   "metadata": {
    "collapsed": false,
    "ExecuteTime": {
     "end_time": "2023-12-16T15:49:24.202317400Z",
     "start_time": "2023-12-16T15:49:24.184254800Z"
    }
   },
   "id": "ccf8a6c09207fdb"
  },
  {
   "cell_type": "markdown",
   "source": [
    "Split the dataset into dev and test sets, then into train and validation (70/15/15). "
   ],
   "metadata": {
    "collapsed": false
   },
   "id": "3dbc5989d2002a13"
  },
  {
   "cell_type": "code",
   "execution_count": 19,
   "outputs": [
    {
     "name": "stdout",
     "output_type": "stream",
     "text": [
      "Dev set size: 135517 - Killing ratio: 0.29\n",
      "     Train set size: 111123 - Killing ratio: 0.29\n",
      "     Validation set size: 24394 - Killing ratio: 0.29\n",
      "Test set size: 23915 - Killing ratio: 0.29\n"
     ]
    }
   ],
   "source": [
    "import numpy as np\n",
    "\n",
    "seed = 42\n",
    "X_dev, X_test, y_dev, y_test = train_test_split(X, y, random_state=seed, test_size=0.15, stratify=y)\n",
    "X_train, X_val, y_train, y_val = train_test_split(X_dev, y_dev, random_state=seed, test_size=0.18, stratify=y_dev)\n",
    "\n",
    "print('Dev set size:', len(y_dev), '- Killing ratio:', round(np.count_nonzero(y_dev) / len(y_dev), 2))\n",
    "print('     Train set size:', len(y_train), '- Killing ratio:', round(np.count_nonzero(y_train) / len(y_train), 2))\n",
    "print('     Validation set size:', len(y_val), '- Killing ratio:', round(np.count_nonzero(y_val) / len(y_val), 2))\n",
    "print('Test set size:', len(y_test), '- Killing ratio:', round(np.count_nonzero(y_test) / len(y_test), 2))"
   ],
   "metadata": {
    "collapsed": false,
    "ExecuteTime": {
     "end_time": "2023-12-16T15:49:26.583158200Z",
     "start_time": "2023-12-16T15:49:25.945331900Z"
    }
   },
   "id": "899dbd6cb267d590"
  },
  {
   "cell_type": "markdown",
   "source": [
    "Standardize the input data to avoid the bias given by the range of the different attribute"
   ],
   "metadata": {
    "collapsed": false
   },
   "id": "19fd1eba6002e256"
  },
  {
   "cell_type": "code",
   "execution_count": 20,
   "outputs": [],
   "source": [
    "scaler = StandardScaler()\n",
    "X_std_dev = scaler.fit_transform(X_dev)\n",
    "X_std_train = scaler.fit_transform(X_train)\n",
    "X_std_val = scaler.fit_transform(X_val)\n",
    "X_std_test = scaler.fit_transform(X_test)"
   ],
   "metadata": {
    "collapsed": false,
    "ExecuteTime": {
     "end_time": "2023-12-16T15:49:26.948171100Z",
     "start_time": "2023-12-16T15:49:26.915055700Z"
    }
   },
   "id": "6d0c9e73be3969b4"
  },
  {
   "cell_type": "markdown",
   "source": [
    "# KNN"
   ],
   "metadata": {
    "collapsed": false
   },
   "id": "71a94be154a093da"
  },
  {
   "cell_type": "code",
   "execution_count": 9,
   "outputs": [],
   "source": [
    "from sklearn.neighbors import KNeighborsClassifier"
   ],
   "metadata": {
    "collapsed": false,
    "ExecuteTime": {
     "end_time": "2023-12-16T15:33:34.506137900Z",
     "start_time": "2023-12-16T15:33:34.441915400Z"
    }
   },
   "id": "84cd4016a05761d6"
  },
  {
   "cell_type": "code",
   "execution_count": 26,
   "outputs": [],
   "source": [],
   "metadata": {
    "collapsed": false,
    "ExecuteTime": {
     "end_time": "2023-12-16T14:03:37.606837Z",
     "start_time": "2023-12-16T14:03:37.589777800Z"
    }
   },
   "id": "a38e2d2983b430cc"
  },
  {
   "cell_type": "markdown",
   "source": [
    "# Decision Tree"
   ],
   "metadata": {
    "collapsed": false
   },
   "id": "21da7c93153846f1"
  },
  {
   "cell_type": "code",
   "execution_count": 27,
   "outputs": [
    {
     "name": "stdout",
     "output_type": "stream",
     "text": [
      "Fitting 5 folds for each of 960 candidates, totalling 4800 fits\n",
      "Best parameters set found:\n",
      "{'criterion': 'gini', 'max_depth': 10, 'max_features': 'log2', 'min_samples_leaf': 50, 'min_samples_split': 50, 'splitter': 'best'}\n",
      "Best accuracy score found:\n",
      "0.7161167966806936\n"
     ]
    }
   ],
   "source": [
    "from sklearn.tree import DecisionTreeClassifier\n",
    "\n",
    "dt_params = {\n",
    "    'criterion': ['gini', 'entropy'],\n",
    "    'splitter': ['best', 'random'],\n",
    "    'max_depth': [5, 10, 20, 50],\n",
    "    'min_samples_split': [2, 5, 10, 20],\n",
    "    'min_samples_leaf': [1, 2, 5, 10],\n",
    "    'max_features': ['sqrt', 'log2', None]\n",
    "}\n",
    "best_score_dt, decision_tree = grid_search(DecisionTreeClassifier(), X_std_dev, y_dev, dt_params)"
   ],
   "metadata": {
    "collapsed": false,
    "ExecuteTime": {
     "end_time": "2023-12-16T14:04:15.682991600Z",
     "start_time": "2023-12-16T14:03:37.604830Z"
    }
   },
   "id": "b73383126dec714a"
  },
  {
   "cell_type": "code",
   "execution_count": 28,
   "outputs": [
    {
     "name": "stdout",
     "output_type": "stream",
     "text": [
      "Fitting 5 folds for each of 960 candidates, totalling 4800 fits\n",
      "Best parameters set found:\n",
      "{'criterion': 'gini', 'max_depth': 50, 'max_features': 'log2', 'min_samples_leaf': 20, 'min_samples_split': 20, 'n_estimators': 100}\n",
      "Best accuracy score found:\n",
      "0.7223078968481818\n"
     ]
    }
   ],
   "source": [
    "# Random Forest\n",
    "from sklearn.ensemble import RandomForestClassifier\n",
    "\n",
    "rf_params = {\n",
    "    'n_estimators': [50, 100, 150],\n",
    "    'max_depth': [5, 10, 20, None],\n",
    "    'min_samples_split': [2, 5, 10, 20],\n",
    "    'min_samples_leaf': [1, 2, 5, 10, 20],\n",
    "    'max_features': ['sqrt', 'log2']\n",
    "}\n",
    "best_score_rf, random_forest = grid_search(RandomForestClassifier(), X_std_dev, y_dev.values.ravel(), rf_params)"
   ],
   "metadata": {
    "collapsed": false,
    "ExecuteTime": {
     "end_time": "2023-12-16T14:34:29.340041600Z",
     "start_time": "2023-12-16T14:04:23.882700900Z"
    }
   },
   "id": "21e5b2d000d3f411"
  },
  {
   "cell_type": "markdown",
   "source": [
    "# SVM"
   ],
   "metadata": {
    "collapsed": false
   },
   "id": "8429dc66c43e3edb"
  },
  {
   "cell_type": "code",
   "execution_count": null,
   "outputs": [
    {
     "name": "stdout",
     "output_type": "stream",
     "text": [
      "Fitting 5 folds for each of 18 candidates, totalling 90 fits\n"
     ]
    }
   ],
   "source": [
    "from sklearn.svm import SVC\n",
    "\n",
    "svm_params = {\"kernel\": [\"rbf\", \"linear\", \"sigmoid\"],\n",
    "              \"gamma\": [\"scale\", \"auto\"],\n",
    "              \"C\": [0.1, 1, 10]}\n",
    "\n",
    "best_score_svm, svm = grid_search(SVC(), X_std_dev, y_dev.values.ravel(), svm_params)"
   ],
   "metadata": {
    "collapsed": false,
    "is_executing": true,
    "ExecuteTime": {
     "start_time": "2023-12-16T15:49:39.989833500Z"
    }
   },
   "id": "5896d07dd2e53da0"
  },
  {
   "cell_type": "markdown",
   "source": [
    "# Neural Network"
   ],
   "metadata": {
    "collapsed": false
   },
   "id": "34f01b2dc33640bc"
  },
  {
   "cell_type": "code",
   "execution_count": null,
   "outputs": [],
   "source": [],
   "metadata": {
    "collapsed": false,
    "ExecuteTime": {
     "end_time": "2023-12-16T13:07:27.440005800Z",
     "start_time": "2023-12-16T13:07:27.440005800Z"
    }
   },
   "id": "c3721482fd254e30"
  }
 ],
 "metadata": {
  "kernelspec": {
   "display_name": "Python 3",
   "language": "python",
   "name": "python3"
  },
  "language_info": {
   "codemirror_mode": {
    "name": "ipython",
    "version": 2
   },
   "file_extension": ".py",
   "mimetype": "text/x-python",
   "name": "python",
   "nbconvert_exporter": "python",
   "pygments_lexer": "ipython2",
   "version": "2.7.6"
  }
 },
 "nbformat": 4,
 "nbformat_minor": 5
}
