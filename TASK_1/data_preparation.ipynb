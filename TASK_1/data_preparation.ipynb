{
 "cells": [
  {
   "cell_type": "markdown",
   "source": [
    "# Importing Libraries\n",
    "\n",
    "First we import the libraries necessary to analyze the data\n"
   ],
   "metadata": {
    "collapsed": false
   },
   "id": "957cab837168eb9c"
  },
  {
   "cell_type": "code",
   "execution_count": 1,
   "outputs": [],
   "source": [
    "import numpy as np\n",
    "import pandas as pd\n",
    "import matplotlib.pyplot as plt\n",
    "import seaborn as sns\n",
    "\n",
    "import utils as m"
   ],
   "metadata": {
    "collapsed": false,
    "ExecuteTime": {
     "end_time": "2023-11-16T11:57:32.178486400Z",
     "start_time": "2023-11-16T11:57:31.949874700Z"
    }
   },
   "id": "75eec554f6b39581"
  },
  {
   "cell_type": "code",
   "execution_count": 2,
   "id": "initial_id",
   "metadata": {
    "collapsed": true,
    "ExecuteTime": {
     "end_time": "2023-11-16T11:57:33.992216600Z",
     "start_time": "2023-11-16T11:57:32.181487800Z"
    }
   },
   "outputs": [],
   "source": [
    "#load the cleaned data\n",
    "\n",
    "incidents = pd.read_csv(\"../data/incidents_cleaned.csv\", low_memory=False)\n",
    "poverty = pd.read_csv(\"../data/poverty_cleaned.csv\", low_memory=False)\n",
    "districts = pd.read_csv(\"../data/districts_cleaned.csv\", low_memory=False)\n",
    "\n",
    "# and load our external data\n",
    "population = pd.read_csv(\"../data/Population by Age and Sex - US, States, Counties.csv\", low_memory=False)\n"
   ]
  },
  {
   "cell_type": "code",
   "execution_count": 3,
   "outputs": [
    {
     "name": "stdout",
     "output_type": "stream",
     "text": [
      "<class 'pandas.core.frame.DataFrame'>\n",
      "RangeIndex: 216389 entries, 0 to 216388\n",
      "Data columns (total 31 columns):\n",
      " #   Column                     Non-Null Count   Dtype  \n",
      "---  ------                     --------------   -----  \n",
      " 0   date                       216389 non-null  object \n",
      " 1   state                      216389 non-null  object \n",
      " 2   city_or_county             216389 non-null  object \n",
      " 3   address                    201681 non-null  object \n",
      " 4   latitude                   208488 non-null  float64\n",
      " 5   longitude                  208488 non-null  float64\n",
      " 6   congressional_district     204475 non-null  float64\n",
      " 7   state_house_district       180606 non-null  float64\n",
      " 8   state_senate_district      186659 non-null  float64\n",
      " 9   participant_age1           147016 non-null  float64\n",
      " 10  participant_age_group1     174409 non-null  object \n",
      " 11  participant_gender1        180045 non-null  object \n",
      " 12  min_age_participants       147020 non-null  float64\n",
      " 13  avg_age_participants       147016 non-null  float64\n",
      " 14  max_age_participants       147017 non-null  float64\n",
      " 15  n_participants_child       199272 non-null  float64\n",
      " 16  n_participants_teen        199272 non-null  float64\n",
      " 17  n_participants_adult       199272 non-null  float64\n",
      " 18  n_males                    204908 non-null  float64\n",
      " 19  n_females                  204908 non-null  float64\n",
      " 20  n_killed                   216389 non-null  int64  \n",
      " 21  n_injured                  216389 non-null  int64  \n",
      " 22  n_arrested                 216389 non-null  int64  \n",
      " 23  n_unharmed                 216389 non-null  int64  \n",
      " 24  n_participants             216389 non-null  int64  \n",
      " 25  notes                      143749 non-null  object \n",
      " 26  incident_characteristics1  216102 non-null  object \n",
      " 27  incident_characteristics2  129435 non-null  object \n",
      " 28  year                       216389 non-null  int64  \n",
      " 29  month                      216389 non-null  int64  \n",
      " 30  day                        216389 non-null  int64  \n",
      "dtypes: float64(14), int64(8), object(9)\n",
      "memory usage: 51.2+ MB\n"
     ]
    },
    {
     "data": {
      "text/plain": "         date                 state city_or_county  latitude  longitude  \\\n0  2015-05-02               Indiana   Indianapolis   39.8322   -86.2492   \n1  2017-04-03          Pennsylvania           Kane   41.6645   -78.7856   \n2  2016-11-05              Michigan        Detroit   42.4190   -83.0393   \n3  2016-10-15  District of Columbia     Washington   38.9030   -76.9820   \n4  2014-01-18        North Carolina   Wayne County   35.1847   -77.9527   \n\n   congressional_district  min_age_participants  avg_age_participants  \\\n0                     7.0                  19.0                  19.0   \n1                     5.0                  62.0                  62.0   \n2                    14.0                   NaN                   NaN   \n3                     1.0                   NaN                   NaN   \n4                    13.0                  65.0                  65.0   \n\n   max_age_participants  n_participants_child  ...  n_injured  n_arrested  \\\n0                  19.0                   0.0  ...          1           0   \n1                  62.0                   0.0  ...          0           0   \n2                   NaN                   NaN  ...          1           0   \n3                   NaN                   0.0  ...          1           0   \n4                  65.0                   0.0  ...          1           0   \n\n   n_unharmed  n_participants  \\\n0           0               1   \n1           0               1   \n2           1               2   \n3           0               2   \n4           0               1   \n\n                                               notes  \\\n0  teen wounded while walking - security guard at...   \n1                           shot self after accident   \n2                                             1 inj.   \n3                                                NaN   \n4                                                NaN   \n\n                   incident_characteristics1  incident_characteristics2  year  \\\n0                     shot - wounded/injured                        NaN  2015   \n1  shot - dead (murder, accidental, suicide)                   suicide^  2017   \n2                     shot - wounded/injured                        NaN  2016   \n3                     shot - wounded/injured                        NaN  2016   \n4                     shot - wounded/injured              home invasion  2014   \n\n   month day  \n0      5   2  \n1      4   3  \n2     11   5  \n3     10  15  \n4      1  18  \n\n[5 rows x 25 columns]",
      "text/html": "<div>\n<style scoped>\n    .dataframe tbody tr th:only-of-type {\n        vertical-align: middle;\n    }\n\n    .dataframe tbody tr th {\n        vertical-align: top;\n    }\n\n    .dataframe thead th {\n        text-align: right;\n    }\n</style>\n<table border=\"1\" class=\"dataframe\">\n  <thead>\n    <tr style=\"text-align: right;\">\n      <th></th>\n      <th>date</th>\n      <th>state</th>\n      <th>city_or_county</th>\n      <th>latitude</th>\n      <th>longitude</th>\n      <th>congressional_district</th>\n      <th>min_age_participants</th>\n      <th>avg_age_participants</th>\n      <th>max_age_participants</th>\n      <th>n_participants_child</th>\n      <th>...</th>\n      <th>n_injured</th>\n      <th>n_arrested</th>\n      <th>n_unharmed</th>\n      <th>n_participants</th>\n      <th>notes</th>\n      <th>incident_characteristics1</th>\n      <th>incident_characteristics2</th>\n      <th>year</th>\n      <th>month</th>\n      <th>day</th>\n    </tr>\n  </thead>\n  <tbody>\n    <tr>\n      <th>0</th>\n      <td>2015-05-02</td>\n      <td>Indiana</td>\n      <td>Indianapolis</td>\n      <td>39.8322</td>\n      <td>-86.2492</td>\n      <td>7.0</td>\n      <td>19.0</td>\n      <td>19.0</td>\n      <td>19.0</td>\n      <td>0.0</td>\n      <td>...</td>\n      <td>1</td>\n      <td>0</td>\n      <td>0</td>\n      <td>1</td>\n      <td>teen wounded while walking - security guard at...</td>\n      <td>shot - wounded/injured</td>\n      <td>NaN</td>\n      <td>2015</td>\n      <td>5</td>\n      <td>2</td>\n    </tr>\n    <tr>\n      <th>1</th>\n      <td>2017-04-03</td>\n      <td>Pennsylvania</td>\n      <td>Kane</td>\n      <td>41.6645</td>\n      <td>-78.7856</td>\n      <td>5.0</td>\n      <td>62.0</td>\n      <td>62.0</td>\n      <td>62.0</td>\n      <td>0.0</td>\n      <td>...</td>\n      <td>0</td>\n      <td>0</td>\n      <td>0</td>\n      <td>1</td>\n      <td>shot self after accident</td>\n      <td>shot - dead (murder, accidental, suicide)</td>\n      <td>suicide^</td>\n      <td>2017</td>\n      <td>4</td>\n      <td>3</td>\n    </tr>\n    <tr>\n      <th>2</th>\n      <td>2016-11-05</td>\n      <td>Michigan</td>\n      <td>Detroit</td>\n      <td>42.4190</td>\n      <td>-83.0393</td>\n      <td>14.0</td>\n      <td>NaN</td>\n      <td>NaN</td>\n      <td>NaN</td>\n      <td>NaN</td>\n      <td>...</td>\n      <td>1</td>\n      <td>0</td>\n      <td>1</td>\n      <td>2</td>\n      <td>1 inj.</td>\n      <td>shot - wounded/injured</td>\n      <td>NaN</td>\n      <td>2016</td>\n      <td>11</td>\n      <td>5</td>\n    </tr>\n    <tr>\n      <th>3</th>\n      <td>2016-10-15</td>\n      <td>District of Columbia</td>\n      <td>Washington</td>\n      <td>38.9030</td>\n      <td>-76.9820</td>\n      <td>1.0</td>\n      <td>NaN</td>\n      <td>NaN</td>\n      <td>NaN</td>\n      <td>0.0</td>\n      <td>...</td>\n      <td>1</td>\n      <td>0</td>\n      <td>0</td>\n      <td>2</td>\n      <td>NaN</td>\n      <td>shot - wounded/injured</td>\n      <td>NaN</td>\n      <td>2016</td>\n      <td>10</td>\n      <td>15</td>\n    </tr>\n    <tr>\n      <th>4</th>\n      <td>2014-01-18</td>\n      <td>North Carolina</td>\n      <td>Wayne County</td>\n      <td>35.1847</td>\n      <td>-77.9527</td>\n      <td>13.0</td>\n      <td>65.0</td>\n      <td>65.0</td>\n      <td>65.0</td>\n      <td>0.0</td>\n      <td>...</td>\n      <td>1</td>\n      <td>0</td>\n      <td>0</td>\n      <td>1</td>\n      <td>NaN</td>\n      <td>shot - wounded/injured</td>\n      <td>home invasion</td>\n      <td>2014</td>\n      <td>1</td>\n      <td>18</td>\n    </tr>\n  </tbody>\n</table>\n<p>5 rows × 25 columns</p>\n</div>"
     },
     "execution_count": 3,
     "metadata": {},
     "output_type": "execute_result"
    }
   ],
   "source": [
    "incidents.info()\n",
    "incidents = incidents.drop(\n",
    "    columns=['participant_age1', 'participant_age_group1', 'participant_gender1', 'state_house_district',\n",
    "             'state_senate_district', 'address'])\n",
    "incidents.head()"
   ],
   "metadata": {
    "collapsed": false,
    "ExecuteTime": {
     "end_time": "2023-11-16T11:57:34.210350300Z",
     "start_time": "2023-11-16T11:57:33.999220300Z"
    }
   },
   "id": "bc15a527b761ed7"
  },
  {
   "cell_type": "code",
   "execution_count": 4,
   "outputs": [
    {
     "name": "stdout",
     "output_type": "stream",
     "text": [
      "incident_characteristics1\n",
      "shot - wounded/injured                                                                                  83570\n",
      "shot - dead (murder, accidental, suicide)                                                               42821\n",
      "non-shooting incident                                                                                   39696\n",
      "shots fired - no injuries                                                                               31576\n",
      "institution/group/business                                                                               4029\n",
      "armed robbery with injury/death and/or evidence of dgu found                                             3444\n",
      "tsa action                                                                                               2639\n",
      "possession (gun(s) found during commission of other crimes)                                              1106\n",
      "brandishing/flourishing/open carry/lost/found                                                            1006\n",
      "shots fired, no action (reported, no evidence found)                                                      908\n",
      "drug involvement                                                                                          881\n",
      "home invasion                                                                                             834\n",
      "gun(s) stolen from owner                                                                                  711\n",
      "officer involved incident                                                                                 506\n",
      "atf/le confiscation/raid/arrest                                                                           403\n",
      "NaN                                                                                                       287\n",
      "animal shot/killed                                                                                        286\n",
      "car-jacking                                                                                               261\n",
      "accidental shooting                                                                                       183\n",
      "domestic violence                                                                                         181\n",
      "gang involvement                                                                                          163\n",
      "school incident                                                                                            94\n",
      "kidnapping/abductions/hostage                                                                              79\n",
      "drive-by (car to street, car to car)                                                                       75\n",
      "sex crime involving firearm                                                                                68\n",
      "pistol-whipping                                                                                            67\n",
      "possession of gun by felon or prohibited person                                                            60\n",
      "gun buy back action                                                                                        58\n",
      "suicide - attempt                                                                                          57\n",
      "non-aggression incident                                                                                    46\n",
      "implied weapon                                                                                             46\n",
      "defensive use                                                                                              37\n",
      "suicide^                                                                                                   30\n",
      "criminal act with stolen gun                                                                               25\n",
      "gun at school, no death/injury - elementary/secondary school                                               22\n",
      "road rage                                                                                                  19\n",
      "bar/club incident - in or around establishment                                                             19\n",
      "murder/suicide                                                                                             19\n",
      "lockdown/alert only: no gv incident occurred onsite                                                        13\n",
      "guns stolen from law enforcement                                                                           10\n",
      "stolen/illegally owned gun{s} recovered during arrest/warrant                                               8\n",
      "attempted murder/suicide (one variable unsuccessful)                                                        7\n",
      "bb/pellet/replica gun                                                                                       6\n",
      "under the influence of alcohol or drugs (only applies to the subject/suspect/perpetrator )                  6\n",
      "gun shop robbery or burglary                                                                                5\n",
      "shotspotter                                                                                                 5\n",
      "child involved incident                                                                                     4\n",
      "hate crime                                                                                                  4\n",
      "house party                                                                                                 3\n",
      "spree shooting (multiple victims, multiple locations)                                                       3\n",
      "mass shooting (4+ victims injured or killed excluding the subject/suspect/perpetrator, one location)        1\n",
      "unlawful purchase/sale                                                                                      1\n",
      "gun range/gun shop/gun show shooting                                                                        1\n",
      "Name: count, dtype: int64\n"
     ]
    }
   ],
   "source": [
    "incidents['incident_characteristics1'].unique()\n",
    "\n",
    "value_counts = incidents['incident_characteristics1'].value_counts(dropna=False)\n",
    "print(value_counts)"
   ],
   "metadata": {
    "collapsed": false,
    "ExecuteTime": {
     "end_time": "2023-11-16T11:57:34.274346700Z",
     "start_time": "2023-11-16T11:57:34.201349200Z"
    }
   },
   "id": "3830ae16b747d8ce"
  },
  {
   "cell_type": "code",
   "execution_count": 5,
   "outputs": [
    {
     "data": {
      "text/plain": "         date                 state city_or_county  latitude  longitude  \\\n0  2015-05-02               Indiana   Indianapolis   39.8322   -86.2492   \n1  2017-04-03          Pennsylvania           Kane   41.6645   -78.7856   \n2  2016-11-05              Michigan        Detroit   42.4190   -83.0393   \n3  2016-10-15  District of Columbia     Washington   38.9030   -76.9820   \n4  2014-01-18        North Carolina   Wayne County   35.1847   -77.9527   \n\n   congressional_district  min_age_participants  avg_age_participants  \\\n0                     7.0                  19.0                  19.0   \n1                     5.0                  62.0                  62.0   \n2                    14.0                   NaN                   NaN   \n3                     1.0                   NaN                   NaN   \n4                    13.0                  65.0                  65.0   \n\n   max_age_participants  n_participants_child  ...  n_arrested  n_unharmed  \\\n0                  19.0                   0.0  ...           0           0   \n1                  62.0                   0.0  ...           0           0   \n2                   NaN                   NaN  ...           0           1   \n3                   NaN                   0.0  ...           0           0   \n4                  65.0                   0.0  ...           0           0   \n\n   n_participants                                              notes  \\\n0               1  teen wounded while walking - security guard at...   \n1               1                           shot self after accident   \n2               2                                             1 inj.   \n3               2                                                NaN   \n4               1                                                NaN   \n\n                   incident_characteristics1  incident_characteristics2  year  \\\n0                     shot - wounded/injured                        NaN  2015   \n1  shot - dead (murder, accidental, suicide)                   suicide^  2017   \n2                     shot - wounded/injured                        NaN  2016   \n3                     shot - wounded/injured                        NaN  2016   \n4                     shot - wounded/injured              home invasion  2014   \n\n   month  day category_index  \n0      5    2              1  \n1      4    3              1  \n2     11    5              1  \n3     10   15              1  \n4      1   18              1  \n\n[5 rows x 26 columns]",
      "text/html": "<div>\n<style scoped>\n    .dataframe tbody tr th:only-of-type {\n        vertical-align: middle;\n    }\n\n    .dataframe tbody tr th {\n        vertical-align: top;\n    }\n\n    .dataframe thead th {\n        text-align: right;\n    }\n</style>\n<table border=\"1\" class=\"dataframe\">\n  <thead>\n    <tr style=\"text-align: right;\">\n      <th></th>\n      <th>date</th>\n      <th>state</th>\n      <th>city_or_county</th>\n      <th>latitude</th>\n      <th>longitude</th>\n      <th>congressional_district</th>\n      <th>min_age_participants</th>\n      <th>avg_age_participants</th>\n      <th>max_age_participants</th>\n      <th>n_participants_child</th>\n      <th>...</th>\n      <th>n_arrested</th>\n      <th>n_unharmed</th>\n      <th>n_participants</th>\n      <th>notes</th>\n      <th>incident_characteristics1</th>\n      <th>incident_characteristics2</th>\n      <th>year</th>\n      <th>month</th>\n      <th>day</th>\n      <th>category_index</th>\n    </tr>\n  </thead>\n  <tbody>\n    <tr>\n      <th>0</th>\n      <td>2015-05-02</td>\n      <td>Indiana</td>\n      <td>Indianapolis</td>\n      <td>39.8322</td>\n      <td>-86.2492</td>\n      <td>7.0</td>\n      <td>19.0</td>\n      <td>19.0</td>\n      <td>19.0</td>\n      <td>0.0</td>\n      <td>...</td>\n      <td>0</td>\n      <td>0</td>\n      <td>1</td>\n      <td>teen wounded while walking - security guard at...</td>\n      <td>shot - wounded/injured</td>\n      <td>NaN</td>\n      <td>2015</td>\n      <td>5</td>\n      <td>2</td>\n      <td>1</td>\n    </tr>\n    <tr>\n      <th>1</th>\n      <td>2017-04-03</td>\n      <td>Pennsylvania</td>\n      <td>Kane</td>\n      <td>41.6645</td>\n      <td>-78.7856</td>\n      <td>5.0</td>\n      <td>62.0</td>\n      <td>62.0</td>\n      <td>62.0</td>\n      <td>0.0</td>\n      <td>...</td>\n      <td>0</td>\n      <td>0</td>\n      <td>1</td>\n      <td>shot self after accident</td>\n      <td>shot - dead (murder, accidental, suicide)</td>\n      <td>suicide^</td>\n      <td>2017</td>\n      <td>4</td>\n      <td>3</td>\n      <td>1</td>\n    </tr>\n    <tr>\n      <th>2</th>\n      <td>2016-11-05</td>\n      <td>Michigan</td>\n      <td>Detroit</td>\n      <td>42.4190</td>\n      <td>-83.0393</td>\n      <td>14.0</td>\n      <td>NaN</td>\n      <td>NaN</td>\n      <td>NaN</td>\n      <td>NaN</td>\n      <td>...</td>\n      <td>0</td>\n      <td>1</td>\n      <td>2</td>\n      <td>1 inj.</td>\n      <td>shot - wounded/injured</td>\n      <td>NaN</td>\n      <td>2016</td>\n      <td>11</td>\n      <td>5</td>\n      <td>1</td>\n    </tr>\n    <tr>\n      <th>3</th>\n      <td>2016-10-15</td>\n      <td>District of Columbia</td>\n      <td>Washington</td>\n      <td>38.9030</td>\n      <td>-76.9820</td>\n      <td>1.0</td>\n      <td>NaN</td>\n      <td>NaN</td>\n      <td>NaN</td>\n      <td>0.0</td>\n      <td>...</td>\n      <td>0</td>\n      <td>0</td>\n      <td>2</td>\n      <td>NaN</td>\n      <td>shot - wounded/injured</td>\n      <td>NaN</td>\n      <td>2016</td>\n      <td>10</td>\n      <td>15</td>\n      <td>1</td>\n    </tr>\n    <tr>\n      <th>4</th>\n      <td>2014-01-18</td>\n      <td>North Carolina</td>\n      <td>Wayne County</td>\n      <td>35.1847</td>\n      <td>-77.9527</td>\n      <td>13.0</td>\n      <td>65.0</td>\n      <td>65.0</td>\n      <td>65.0</td>\n      <td>0.0</td>\n      <td>...</td>\n      <td>0</td>\n      <td>0</td>\n      <td>1</td>\n      <td>NaN</td>\n      <td>shot - wounded/injured</td>\n      <td>home invasion</td>\n      <td>2014</td>\n      <td>1</td>\n      <td>18</td>\n      <td>1</td>\n    </tr>\n  </tbody>\n</table>\n<p>5 rows × 26 columns</p>\n</div>"
     },
     "execution_count": 5,
     "metadata": {},
     "output_type": "execute_result"
    }
   ],
   "source": [
    "# Define the categories\n",
    "category_mapping = {\n",
    "    'Shooting Casualty Incidents': [\n",
    "        'shot - wounded/injured', 'shot - dead (murder, accidental, suicide)',\n",
    "        # Add other characteristics from this category\n",
    "    ],\n",
    "    'Non-Fatal Shooting Incidents': [\n",
    "        'shots fired - no injuries', 'shots fired, no action (reported, no evidence found)',\n",
    "        # Add other characteristics from this category\n",
    "    ],\n",
    "    'Non-Shooting Gun-Related Incidents': [\n",
    "        'institution/group/business', 'possession (gun(s) found during commission of other crimes)',\n",
    "        # Add other characteristics from this category\n",
    "    ],\n",
    "    # 'Unspecified' category includes NaN values\n",
    "    'Unspecified': [np.nan]\n",
    "}\n",
    "\n",
    "# Function to map incident characteristics to category indices\n",
    "def map_to_category(characteristic):\n",
    "    for category, characteristics in category_mapping.items():\n",
    "        if pd.isna(characteristic) and pd.isna(characteristics[0]):\n",
    "            return list(category_mapping.keys()).index(category) + 1  # Adding 1 to start indexing from 1\n",
    "        elif characteristic in characteristics:\n",
    "            return list(category_mapping.keys()).index(category) + 1  # Adding 1 to start indexing from 1\n",
    "    return 0  # 0 represents 'Unspecified or Miscellaneous Incidents'\n",
    "\n",
    "# Apply the mapping function to create a new column 'category_index'\n",
    "incidents['category_index'] = incidents['incident_characteristics1'].apply(map_to_category)\n",
    "incidents.head()"
   ],
   "metadata": {
    "collapsed": false,
    "ExecuteTime": {
     "end_time": "2023-11-16T11:57:34.824015700Z",
     "start_time": "2023-11-16T11:57:34.238348300Z"
    }
   },
   "id": "ebc19c9fd4b1b771"
  },
  {
   "cell_type": "code",
   "execution_count": 6,
   "outputs": [],
   "source": [
    "# we can now drop the incident_characteristics1, incident_characteristics2 and notes columns\n",
    "\n",
    "incidents = incidents.drop(columns=['incident_characteristics1', 'incident_characteristics2', 'notes'])"
   ],
   "metadata": {
    "collapsed": false,
    "ExecuteTime": {
     "end_time": "2023-11-16T11:57:34.875015900Z",
     "start_time": "2023-11-16T11:57:34.808017500Z"
    }
   },
   "id": "4fe9ead0f23a2526"
  },
  {
   "cell_type": "code",
   "execution_count": 7,
   "outputs": [],
   "source": [
    "incidents_and_poverty = pd.merge(incidents, poverty, on=['state', 'year'], how='inner')\n",
    "incidents_and_poverty = incidents_and_poverty[['state', 'year', 'date', 'povertyPercentage']]\n"
   ],
   "metadata": {
    "collapsed": false,
    "ExecuteTime": {
     "end_time": "2023-11-16T11:57:35.103168900Z",
     "start_time": "2023-11-16T11:57:34.850018500Z"
    }
   },
   "id": "65a1820894b3a759"
  },
  {
   "cell_type": "code",
   "execution_count": 8,
   "outputs": [],
   "source": [
    "population = population[(population['Countyfips'] == 0) & (population['Year'] <= 2018) & (population['Year'] > 2013)]\n",
    "population = population.drop(\n",
    "    columns=['IBRC_Geo_ID', 'Statefips', 'Countyfips', 'Population 0-4', 'Population 5-17', 'Population 18-24',\n",
    "             'Population 25-44', 'Population 45-64', 'Population 65+'])\n",
    "population = population.rename(columns={'Description': 'state', 'Year': 'year'})"
   ],
   "metadata": {
    "collapsed": false,
    "ExecuteTime": {
     "end_time": "2023-11-16T11:57:35.104163100Z",
     "start_time": "2023-11-16T11:57:35.036977Z"
    }
   },
   "id": "a900db83d502f181"
  },
  {
   "cell_type": "code",
   "execution_count": 9,
   "outputs": [
    {
     "name": "stdout",
     "output_type": "stream",
     "text": [
      "<class 'pandas.core.frame.DataFrame'>\n",
      "Index: 265 entries, 14 to 63880\n",
      "Data columns (total 8 columns):\n",
      " #   Column               Non-Null Count  Dtype  \n",
      "---  ------               --------------  -----  \n",
      " 0   state                265 non-null    object \n",
      " 1   year                 265 non-null    int64  \n",
      " 2   Total Population     265 non-null    float64\n",
      " 3   Population Under 18  265 non-null    float64\n",
      " 4   Population 18-54     265 non-null    float64\n",
      " 5   Population 55+       265 non-null    float64\n",
      " 6   Male Population      265 non-null    float64\n",
      " 7   Female Population    265 non-null    float64\n",
      "dtypes: float64(6), int64(1), object(1)\n",
      "memory usage: 18.6+ KB\n"
     ]
    }
   ],
   "source": [
    "population.info()"
   ],
   "metadata": {
    "collapsed": false,
    "ExecuteTime": {
     "end_time": "2023-11-16T11:57:35.106160200Z",
     "start_time": "2023-11-16T11:57:35.066162800Z"
    }
   },
   "id": "14578c56ac4a70e9"
  },
  {
   "cell_type": "code",
   "execution_count": 10,
   "outputs": [],
   "source": [
    "# merge the population data with the incidents data\n",
    "\n",
    "# Group incidents by year and state, calculate incident counts\n",
    "incident_counts = incidents.groupby(['year', 'state']).size().reset_index(name='counts')\n",
    "\n",
    "# Group population by year and state, summing the population\n",
    "population_totals = population.groupby(['year', 'state'])['Total Population'].sum().reset_index()\n",
    "\n",
    "# Merge incident counts and population totals on year and state\n",
    "merged_data = pd.merge(incident_counts, population_totals, on=['year', 'state'], how='inner')\n",
    "\n",
    "# Calculate Incident Density per 100k\n",
    "merged_data['Incident Density per 100k'] = (merged_data['counts'] / merged_data['Total Population']) * 100000\n",
    "\n",
    "# Append U.S. totals for each year\n",
    "us_totals = merged_data.groupby('year').agg({'counts': 'sum', 'Total Population': 'sum'}).reset_index()\n",
    "us_totals['state'] = 'U.S.'\n",
    "us_totals['Incident Density per 100k'] = (us_totals['counts'] / us_totals['Total Population']) * 100000\n",
    "\n",
    "# Append U.S. totals to the merged data\n",
    "result = pd.concat([merged_data, us_totals]).reset_index(drop=True)[['year', 'state', 'Incident Density per 100k']]\n",
    "\n",
    "incidents_density = pd.merge(incidents, result, on=['state', 'year'], how='inner')"
   ],
   "metadata": {
    "collapsed": false,
    "ExecuteTime": {
     "end_time": "2023-11-16T11:57:35.397023600Z",
     "start_time": "2023-11-16T11:57:35.107160900Z"
    }
   },
   "id": "c910d642d6550d89"
  },
  {
   "cell_type": "code",
   "execution_count": 11,
   "outputs": [
    {
     "data": {
      "text/plain": "              date    state city_or_county  latitude  longitude  \\\n0       2015-05-02  Indiana   Indianapolis   39.8322   -86.2492   \n1       2015-08-02  Indiana           Gary   41.5981   -87.3400   \n2       2015-04-15  Indiana   Indianapolis   39.7150   -86.2981   \n3       2015-12-18  Indiana     Evansville   37.9774   -87.5372   \n4       2015-05-14  Indiana           Gary   41.5982   -87.3488   \n...            ...      ...            ...       ...        ...   \n216384  2018-03-24   Hawaii        Wailuku       NaN        NaN   \n216385  2018-01-07   Hawaii         Pahala   19.2000  -155.4800   \n216386  2018-03-05   Hawaii     Ocean View   19.1127  -155.7570   \n216387  2018-01-28   Hawaii        Waianae   21.4444  -158.1860   \n216388  2018-01-07   Hawaii        Waianae   21.4563  -158.1950   \n\n        congressional_district  min_age_participants  avg_age_participants  \\\n0                          7.0                  19.0                  19.0   \n1                          1.0                  15.0                  15.0   \n2                          7.0                   NaN                   NaN   \n3                          8.0                  24.0                  24.0   \n4                          1.0                  32.0                  46.0   \n...                        ...                   ...                   ...   \n216384                     NaN                  26.0                  26.0   \n216385                     2.0                  33.0                  33.0   \n216386                     2.0                  31.0                  42.0   \n216387                     2.0                  34.0                  34.0   \n216388                     NaN                  29.0                  29.0   \n\n        max_age_participants  n_participants_child  ...  n_killed  n_injured  \\\n0                       19.0                   0.0  ...         0          1   \n1                       15.0                   0.0  ...         1          0   \n2                        NaN                   0.0  ...         0          0   \n3                       24.0                   0.0  ...         0          0   \n4                       59.0                   0.0  ...         1          0   \n...                      ...                   ...  ...       ...        ...   \n216384                  26.0                   0.0  ...         0          0   \n216385                  33.0                   0.0  ...         0          0   \n216386                  64.0                   0.0  ...         0          2   \n216387                  34.0                   0.0  ...         0          0   \n216388                  29.0                   0.0  ...         0          0   \n\n        n_arrested  n_unharmed  n_participants  year  month  day  \\\n0                0           0               1  2015      5    2   \n1                0           0               1  2015      8    2   \n2                0           0               0  2015      4   15   \n3                1           0               1  2015     12   18   \n4                0           1               2  2015      5   14   \n...            ...         ...             ...   ...    ...  ...   \n216384           1           0               1  2018      3   24   \n216385           1           0               1  2018      1    7   \n216386           1           0               3  2018      3    5   \n216387           1           0               1  2018      1   28   \n216388           1           0               1  2018      1    7   \n\n        category_index  Incident Density per 100k  \n0                    1                  15.616436  \n1                    1                  15.616436  \n2                    0                  15.616436  \n3                    0                  15.616436  \n4                    1                  15.616436  \n...                ...                        ...  \n216384               4                   1.337470  \n216385               2                   1.337470  \n216386               1                   1.337470  \n216387               2                   1.337470  \n216388               2                   1.337470  \n\n[216389 rows x 24 columns]",
      "text/html": "<div>\n<style scoped>\n    .dataframe tbody tr th:only-of-type {\n        vertical-align: middle;\n    }\n\n    .dataframe tbody tr th {\n        vertical-align: top;\n    }\n\n    .dataframe thead th {\n        text-align: right;\n    }\n</style>\n<table border=\"1\" class=\"dataframe\">\n  <thead>\n    <tr style=\"text-align: right;\">\n      <th></th>\n      <th>date</th>\n      <th>state</th>\n      <th>city_or_county</th>\n      <th>latitude</th>\n      <th>longitude</th>\n      <th>congressional_district</th>\n      <th>min_age_participants</th>\n      <th>avg_age_participants</th>\n      <th>max_age_participants</th>\n      <th>n_participants_child</th>\n      <th>...</th>\n      <th>n_killed</th>\n      <th>n_injured</th>\n      <th>n_arrested</th>\n      <th>n_unharmed</th>\n      <th>n_participants</th>\n      <th>year</th>\n      <th>month</th>\n      <th>day</th>\n      <th>category_index</th>\n      <th>Incident Density per 100k</th>\n    </tr>\n  </thead>\n  <tbody>\n    <tr>\n      <th>0</th>\n      <td>2015-05-02</td>\n      <td>Indiana</td>\n      <td>Indianapolis</td>\n      <td>39.8322</td>\n      <td>-86.2492</td>\n      <td>7.0</td>\n      <td>19.0</td>\n      <td>19.0</td>\n      <td>19.0</td>\n      <td>0.0</td>\n      <td>...</td>\n      <td>0</td>\n      <td>1</td>\n      <td>0</td>\n      <td>0</td>\n      <td>1</td>\n      <td>2015</td>\n      <td>5</td>\n      <td>2</td>\n      <td>1</td>\n      <td>15.616436</td>\n    </tr>\n    <tr>\n      <th>1</th>\n      <td>2015-08-02</td>\n      <td>Indiana</td>\n      <td>Gary</td>\n      <td>41.5981</td>\n      <td>-87.3400</td>\n      <td>1.0</td>\n      <td>15.0</td>\n      <td>15.0</td>\n      <td>15.0</td>\n      <td>0.0</td>\n      <td>...</td>\n      <td>1</td>\n      <td>0</td>\n      <td>0</td>\n      <td>0</td>\n      <td>1</td>\n      <td>2015</td>\n      <td>8</td>\n      <td>2</td>\n      <td>1</td>\n      <td>15.616436</td>\n    </tr>\n    <tr>\n      <th>2</th>\n      <td>2015-04-15</td>\n      <td>Indiana</td>\n      <td>Indianapolis</td>\n      <td>39.7150</td>\n      <td>-86.2981</td>\n      <td>7.0</td>\n      <td>NaN</td>\n      <td>NaN</td>\n      <td>NaN</td>\n      <td>0.0</td>\n      <td>...</td>\n      <td>0</td>\n      <td>0</td>\n      <td>0</td>\n      <td>0</td>\n      <td>0</td>\n      <td>2015</td>\n      <td>4</td>\n      <td>15</td>\n      <td>0</td>\n      <td>15.616436</td>\n    </tr>\n    <tr>\n      <th>3</th>\n      <td>2015-12-18</td>\n      <td>Indiana</td>\n      <td>Evansville</td>\n      <td>37.9774</td>\n      <td>-87.5372</td>\n      <td>8.0</td>\n      <td>24.0</td>\n      <td>24.0</td>\n      <td>24.0</td>\n      <td>0.0</td>\n      <td>...</td>\n      <td>0</td>\n      <td>0</td>\n      <td>1</td>\n      <td>0</td>\n      <td>1</td>\n      <td>2015</td>\n      <td>12</td>\n      <td>18</td>\n      <td>0</td>\n      <td>15.616436</td>\n    </tr>\n    <tr>\n      <th>4</th>\n      <td>2015-05-14</td>\n      <td>Indiana</td>\n      <td>Gary</td>\n      <td>41.5982</td>\n      <td>-87.3488</td>\n      <td>1.0</td>\n      <td>32.0</td>\n      <td>46.0</td>\n      <td>59.0</td>\n      <td>0.0</td>\n      <td>...</td>\n      <td>1</td>\n      <td>0</td>\n      <td>0</td>\n      <td>1</td>\n      <td>2</td>\n      <td>2015</td>\n      <td>5</td>\n      <td>14</td>\n      <td>1</td>\n      <td>15.616436</td>\n    </tr>\n    <tr>\n      <th>...</th>\n      <td>...</td>\n      <td>...</td>\n      <td>...</td>\n      <td>...</td>\n      <td>...</td>\n      <td>...</td>\n      <td>...</td>\n      <td>...</td>\n      <td>...</td>\n      <td>...</td>\n      <td>...</td>\n      <td>...</td>\n      <td>...</td>\n      <td>...</td>\n      <td>...</td>\n      <td>...</td>\n      <td>...</td>\n      <td>...</td>\n      <td>...</td>\n      <td>...</td>\n      <td>...</td>\n    </tr>\n    <tr>\n      <th>216384</th>\n      <td>2018-03-24</td>\n      <td>Hawaii</td>\n      <td>Wailuku</td>\n      <td>NaN</td>\n      <td>NaN</td>\n      <td>NaN</td>\n      <td>26.0</td>\n      <td>26.0</td>\n      <td>26.0</td>\n      <td>0.0</td>\n      <td>...</td>\n      <td>0</td>\n      <td>0</td>\n      <td>1</td>\n      <td>0</td>\n      <td>1</td>\n      <td>2018</td>\n      <td>3</td>\n      <td>24</td>\n      <td>4</td>\n      <td>1.337470</td>\n    </tr>\n    <tr>\n      <th>216385</th>\n      <td>2018-01-07</td>\n      <td>Hawaii</td>\n      <td>Pahala</td>\n      <td>19.2000</td>\n      <td>-155.4800</td>\n      <td>2.0</td>\n      <td>33.0</td>\n      <td>33.0</td>\n      <td>33.0</td>\n      <td>0.0</td>\n      <td>...</td>\n      <td>0</td>\n      <td>0</td>\n      <td>1</td>\n      <td>0</td>\n      <td>1</td>\n      <td>2018</td>\n      <td>1</td>\n      <td>7</td>\n      <td>2</td>\n      <td>1.337470</td>\n    </tr>\n    <tr>\n      <th>216386</th>\n      <td>2018-03-05</td>\n      <td>Hawaii</td>\n      <td>Ocean View</td>\n      <td>19.1127</td>\n      <td>-155.7570</td>\n      <td>2.0</td>\n      <td>31.0</td>\n      <td>42.0</td>\n      <td>64.0</td>\n      <td>0.0</td>\n      <td>...</td>\n      <td>0</td>\n      <td>2</td>\n      <td>1</td>\n      <td>0</td>\n      <td>3</td>\n      <td>2018</td>\n      <td>3</td>\n      <td>5</td>\n      <td>1</td>\n      <td>1.337470</td>\n    </tr>\n    <tr>\n      <th>216387</th>\n      <td>2018-01-28</td>\n      <td>Hawaii</td>\n      <td>Waianae</td>\n      <td>21.4444</td>\n      <td>-158.1860</td>\n      <td>2.0</td>\n      <td>34.0</td>\n      <td>34.0</td>\n      <td>34.0</td>\n      <td>0.0</td>\n      <td>...</td>\n      <td>0</td>\n      <td>0</td>\n      <td>1</td>\n      <td>0</td>\n      <td>1</td>\n      <td>2018</td>\n      <td>1</td>\n      <td>28</td>\n      <td>2</td>\n      <td>1.337470</td>\n    </tr>\n    <tr>\n      <th>216388</th>\n      <td>2018-01-07</td>\n      <td>Hawaii</td>\n      <td>Waianae</td>\n      <td>21.4563</td>\n      <td>-158.1950</td>\n      <td>NaN</td>\n      <td>29.0</td>\n      <td>29.0</td>\n      <td>29.0</td>\n      <td>0.0</td>\n      <td>...</td>\n      <td>0</td>\n      <td>0</td>\n      <td>1</td>\n      <td>0</td>\n      <td>1</td>\n      <td>2018</td>\n      <td>1</td>\n      <td>7</td>\n      <td>2</td>\n      <td>1.337470</td>\n    </tr>\n  </tbody>\n</table>\n<p>216389 rows × 24 columns</p>\n</div>"
     },
     "execution_count": 11,
     "metadata": {},
     "output_type": "execute_result"
    }
   ],
   "source": [
    "incidents_density"
   ],
   "metadata": {
    "collapsed": false,
    "ExecuteTime": {
     "end_time": "2023-11-16T11:57:35.695142900Z",
     "start_time": "2023-11-16T11:57:35.398023400Z"
    }
   },
   "id": "b9a340ded73155c"
  },
  {
   "cell_type": "code",
   "execution_count": 12,
   "outputs": [],
   "source": [
    "# save incidents_density to csv\n",
    "incidents_density.to_csv(\"../data/extracted_features.csv\", index=False)"
   ],
   "metadata": {
    "collapsed": false,
    "ExecuteTime": {
     "end_time": "2023-11-16T11:57:39.970185Z",
     "start_time": "2023-11-16T11:57:35.676113500Z"
    }
   },
   "id": "ac6b9eeca069821a"
  },
  {
   "cell_type": "code",
   "execution_count": 12,
   "outputs": [],
   "source": [],
   "metadata": {
    "collapsed": false,
    "ExecuteTime": {
     "end_time": "2023-11-16T11:57:40.000733700Z",
     "start_time": "2023-11-16T11:57:39.971719200Z"
    }
   },
   "id": "e02235c10778f77b"
  },
  {
   "cell_type": "code",
   "execution_count": 13,
   "outputs": [],
   "source": [
    "gun ownership = pd.read_excel(\"../data/TL-354-State-Level Estimates of Household Firearm Ownership.xlsx\", sheet_name=1)\n",
    "csv = gun ownership.to_csv(\"../data/GunOwnership.csv\", index = None, header=True)\n"
   ],
   "metadata": {
    "collapsed": false,
    "ExecuteTime": {
     "end_time": "2023-11-16T11:57:41.142515200Z",
     "start_time": "2023-11-16T11:57:39.991735700Z"
    }
   },
   "id": "7e91f74f9a3795f3"
  },
  {
   "cell_type": "code",
   "execution_count": 13,
   "outputs": [],
   "source": [
    "# to integrate the data from the GunOwnership.csv file with the incidents_density dataframe"
   ],
   "metadata": {
    "collapsed": false,
    "ExecuteTime": {
     "end_time": "2023-11-16T11:57:41.163511400Z",
     "start_time": "2023-11-16T11:57:41.144511700Z"
    }
   },
   "id": "8eea4d036b10ef1d"
  },
  {
   "cell_type": "code",
   "execution_count": 14,
   "outputs": [],
   "source": [
    "def preparing_df(df, df2, df3, df4, df5):\n",
    "    df = df.drop(columns=['address', 'state_house_district', 'state_senate_district', 'participant_age1', 'participant_age_group1', 'participant_gender1'])\n",
    "    df['date'] = pd.to_datetime(df['date'])\n",
    "    df['year']= df['date'].dt.year\n",
    "    df['month'] = df['date'].dt.month\n",
    "    df['day'] = df['date'].dt.day\n",
    "    df = df.drop(columns=['date'])\n",
    "    df = df[(df['year'] > 2013) & (df['year'] < 2019)]\n",
    "    # controlli semantici\n",
    "    cols = ['min_age_participants', 'max_age_participants', 'avg_age_participants', 'n_participants_child', 'n_participants_teen', 'n_participants_adult']\n",
    "    df[cols] = df[cols].apply(pd.to_numeric, errors='coerce')\n",
    "    df['max_age_participants'] = np.where((df['max_age_participants'] < 0) | (df['max_age_participants'] > 115), np.nan, df['max_age_participants'])\n",
    "    df['min_age_participants'] = np.where((df['min_age_participants'] < 0) | (df['min_age_participants'] > 115), np.nan,\n",
    "                                          df['min_age_participants'])\n",
    "    df['avg_age_participants'] = np.where((df['avg_age_participants'] < 0) | (df['avg_age_participants'] > 115), np.nan,\n",
    "                                          df['avg_age_participants'])\n",
    "    df['n_participants_child'] = np.where((df['n_participants_child']< 0) | (df['n_participants_child'] > df['n_participants']), np.nan,\n",
    "                                          df['n_participants_child'])\n",
    "    df['n_participants_teen'] = np.where((df['n_participants_teen'] < 0) | (df['n_participants_teen'] > df['n_participants']), np.nan,\n",
    "                                          df['n_participants_teen'])\n",
    "    df['n_participants_adult'] = np.where((df['n_participants_adult'] < 0) | (df['n_participants_adult'] > df['n_participants']), np.nan,\n",
    "                                          df['n_participants_adult'])\n",
    "    df['longitude'] = np.where(df['longitude'] > 0, df['longitude']*-1, df['longitude'])\n",
    "    #21968 = San Bernardino shooting\n",
    "    #88653 = Florida school shooting\n",
    "    #116161 = Colorado, gangs\n",
    "    #180038 = Boston, gangs\n",
    "    #152656 = Texas church shooting\n",
    "    #236261 = Orlando shooting\n",
    "    df = df.drop([21968, 88653, 116161, 180038, 152656, 236261])\n",
    "    df2 = df2[(df2['year'] > 2013) & (df2['year'] < 2019)]\n",
    "    df3 = df3[(df3['year'] > 2013) & (df3['year'] < 2019)]\n",
    "    df3['state'] = df3['state'].str.title()\n",
    "    df4 = df4[(df4['Countyfips'] == 0) & (df4['Year'] > 2013) & (df4['Year'] < 2019)]\n",
    "    df4 = df4.drop(\n",
    "        columns=['IBRC_Geo_ID', 'Statefips', 'Countyfips', 'Population 0-4', 'Population 5-17', 'Population 18-24',\n",
    "                 'Population 25-44', 'Population 45-64', 'Population 65+'])\n",
    "    df4 = df4.rename(columns={'Year': 'year', 'Description': 'state'})\n",
    "    df5 = df5[df5['Year'] > 2013]\n",
    "    df5 = df5[['Year', 'STATE', 'HFR', 'universl', 'permit']]\n",
    "    df5 = df5.rename(columns={'Year': 'year', 'STATE': 'state'})\n",
    "    return df, df2, df3, df4, df5"
   ],
   "metadata": {
    "collapsed": false,
    "ExecuteTime": {
     "end_time": "2023-11-16T11:57:41.200552300Z",
     "start_time": "2023-11-16T11:57:41.175512700Z"
    }
   },
   "id": "4e5835d08b41916"
  },
  {
   "cell_type": "code",
   "execution_count": 14,
   "outputs": [],
   "source": [
    "df1 = incidents\n",
    "df2 = poverty\n",
    "df3 = districts\n",
    "df4 = population\n",
    "df5 = gun ownership\n",
    "\n",
    "def incidents_to_win(df, df3):\n",
    "    incidents_win = pd.DataFrame()\n",
    "    years = [2014, 2015, 2016, 2017, 2018]\n",
    "    for x in years:\n",
    "        incidents = df[df['year'] == x]\n",
    "        state_incidents = incidents['state'].value_counts().rename_axis('state').reset_index(name='counts')\n",
    "        state_incidents['year'] = x\n",
    "        year_results = df3\n",
    "        if x % 2 == 0:\n",
    "            year_results = year_results[year_results['year'] == x - 2]\n",
    "            year_results['year'] = x\n",
    "        else:\n",
    "            year_results = year_results[year_results['year'] == x - 1]\n",
    "            year_results['year'] = x\n",
    "        year_results['win_percentage'] = (year_results['candidatevotes']/year_results['totalvotes'])*100\n",
    "        year_results = year_results.drop(columns=['congressional_district', 'party', 'candidatevotes', 'totalvotes'])\n",
    "        year_results = year_results.groupby('state', as_index=False).mean()\n",
    "        temp = pd.merge(state_incidents, year_results)\n",
    "        incidents_win = pd.concat([incidents_win, temp])\n",
    "    incidents_win['incidents_to_win'] = incidents_win['counts']/incidents_win['win_percentage']\n",
    "    incidents_win = incidents_win.drop(columns=['counts', 'win_percentage'])\n",
    "    df = pd.merge(df, incidents_win, how='outer')\n",
    "    return df\n",
    "\n",
    "def involved_to_voters(df, df3):\n",
    "    involved_voters = pd.DataFrame()\n",
    "    years = [2014, 2015, 2016, 2017, 2018]\n",
    "    for x in years:\n",
    "        incidents = df[df['year'] == x]\n",
    "        temp = incidents.groupby('state', as_index=False).sum()\n",
    "        temp['n_involved'] = temp['n_killed'] + temp['n_injured']\n",
    "        total_involved = temp[['state', 'n_involved']]\n",
    "        total_involved['year'] = x\n",
    "        year_results = df3\n",
    "        if x % 2 == 0:\n",
    "            year_results = year_results[year_results['year'] == x - 2]\n",
    "            year_results['year'] = x\n",
    "        else:\n",
    "            year_results = year_results[year_results['year'] == x - 1]\n",
    "            year_results['year'] = x\n",
    "        year_results = year_results.groupby('state', as_index=False).sum()\n",
    "        year_results = year_results.drop(columns=['congressional_district', 'party', 'year', 'totalvotes'])\n",
    "        temp = pd.merge(total_involved, year_results)\n",
    "        involved_voters = pd.concat([involved_voters, temp])\n",
    "    involved_voters['involved_to_voters'] = (involved_voters['n_involved']/involved_voters['candidatevotes']) * 100000\n",
    "    involved_voters = involved_voters.drop(columns=['n_involved', 'candidatevotes'])\n",
    "    df = pd.merge(df, involved_voters, how='outer')\n",
    "    return df"
   ],
   "metadata": {
    "collapsed": false,
    "ExecuteTime": {
     "end_time": "2023-11-16T11:57:41.223511600Z",
     "start_time": "2023-11-16T11:57:41.194512400Z"
    }
   },
   "id": "b1b214f8de815e82"
  },
  {
   "cell_type": "code",
   "execution_count": 15,
   "outputs": [],
   "source": [
    "def new_features(df, df2, df3, df4, df5):\n",
    "    df = crime_to_poverty(df, df2)\n",
    "    df = average_age(df)\n",
    "    df = average_participants(df)\n",
    "    df = kill_to_gun(df, df5)\n",
    "    df = poverty_to_gun(df, df2, df5)\n",
    "    df = minors_percentage(df, df4)\n",
    "    #df = incidents_to_win(df, df3)\n",
    "    return df\n",
    "\n",
    "def crime_to_poverty(df, df2):\n",
    "    incidents_to_poverty = pd.DataFrame()\n",
    "    months = [1, 2, 3, 4, 5, 6, 7, 8, 9, 10, 11, 12]\n",
    "    years = [2014, 2015, 2016, 2017, 2018]\n",
    "    for x in years:\n",
    "        incidents = df[df['year'] == x]\n",
    "        for y in months:\n",
    "            temp = incidents[incidents['month'] == y]\n",
    "            state_incidents = temp['state'].value_counts().rename_axis('state').reset_index(name='counts')\n",
    "            poverty_year = df2[df2['year'] == x]\n",
    "            state_incidents['month'] = y\n",
    "            temp = pd.merge(state_incidents, poverty_year, left_on='state', right_on='state', how='inner')\n",
    "            incidents_to_poverty = pd.concat([incidents_to_poverty, temp])\n",
    "    incidents_to_poverty['crime_ratio'] = incidents_to_poverty['counts']/incidents_to_poverty['povertyPercentage']\n",
    "    incidents_to_poverty = incidents_to_poverty.drop(columns=['counts', 'povertyPercentage'])\n",
    "    df = pd.merge(df, incidents_to_poverty, how='inner')\n",
    "    return df\n",
    "\n",
    "def average_age(df):\n",
    "    avg_age = df.groupby('state', as_index=False)['avg_age_participants'].mean()\n",
    "    avg_age = avg_age.rename(columns={'avg_age_participants': 'avg_age'})\n",
    "    df = pd.merge(df, avg_age, how='inner')\n",
    "    return df\n",
    "\n",
    "def average_participants(df):\n",
    "    avg_participants = df.groupby('state', as_index=False)['n_participants'].mean()\n",
    "    avg_participants = avg_participants.rename(columns={'n_participants': 'avg_participants'})\n",
    "    df = pd.merge(df, avg_participants, how='inner')\n",
    "    return df\n",
    "\n",
    "def kill_to_gun(df, df5):\n",
    "    kills_to_gun = pd.DataFrame()\n",
    "    months = [1, 2, 3, 4, 5, 6, 7, 8, 9, 10, 11, 12]\n",
    "    years = [2014, 2015, 2016]\n",
    "    for x in years:\n",
    "        incidents = df[df['year'] == x]\n",
    "        for y in months:\n",
    "            temp = incidents[incidents['month'] == y]\n",
    "            temp = temp.groupby('state', as_index=False).sum()\n",
    "            state_kills = temp[['state', 'n_killed']]\n",
    "            state_kills['year'] = x\n",
    "            state_kills['month'] = y\n",
    "            gun_ownership = df5[df5['year']==x]\n",
    "            temp = pd.merge(state_kills, gun_ownership, how='inner')\n",
    "            kills_to_gun = pd.concat([kills_to_gun, temp])\n",
    "    kills_to_gun['kill_to_gun'] = kills_to_gun['n_killed'] / (kills_to_gun['HFR']*100)\n",
    "    kills_to_gun = kills_to_gun.drop(columns=['n_killed', 'HFR', 'universl', 'permit'])\n",
    "    df = pd.merge(df, kills_to_gun, how='outer')\n",
    "    return df\n",
    "\n",
    "def minors_percentage(df, df4):\n",
    "    minors = pd.DataFrame()\n",
    "    years = [2014, 2015, 2016, 2017]\n",
    "    for x in years:\n",
    "        incidents = df[df['year'] == x]\n",
    "        temp = incidents.groupby('state', as_index=False).sum()\n",
    "        temp['n_participants_minors'] = temp['n_participants_child'] + temp['n_participants_teen']\n",
    "        total_minors = temp[['state', 'n_participants_minors']]\n",
    "        population_year = df4[df4['year']==x]\n",
    "        temp = pd.merge(total_minors, population_year)\n",
    "        minors = pd.concat([minors, temp])\n",
    "    minors['minors_percentage'] = minors['n_participants_minors']/minors['Population Under 18']\n",
    "    minors = minors.drop(columns=['n_participants_minors', 'Total Population', 'Population Under 18', 'Population 18-54',\n",
    "                                  'Population 55+', 'Male Population', 'Female Population'])\n",
    "    df = pd.merge(df, minors, how='outer')\n",
    "    return df\n",
    "\n",
    "def poverty_to_gun(df, df2, df5):\n",
    "    temp = df5.rename(columns={'Year': 'year', 'STATE': 'state'})\n",
    "    merge = pd.merge(df2, temp, how='inner')\n",
    "    merge['poverty_to gun'] = merge['povertyPercentage']/(merge['HFR']*100)\n",
    "    merge = merge.drop(columns=['povertyPercentage', 'HFR', 'universl', 'permit'])\n",
    "    df = pd.merge(df, merge, how='outer')\n",
    "    return df"
   ],
   "metadata": {
    "collapsed": false,
    "ExecuteTime": {
     "end_time": "2023-11-16T11:57:41.276512100Z",
     "start_time": "2023-11-16T11:57:41.222511900Z"
    }
   },
   "id": "23791476a0d7f335"
  },
  {
   "cell_type": "code",
   "execution_count": 15,
   "outputs": [],
   "source": [],
   "metadata": {
    "collapsed": false,
    "ExecuteTime": {
     "end_time": "2023-11-16T11:57:41.277512300Z",
     "start_time": "2023-11-16T11:57:41.240514500Z"
    }
   },
   "id": "9070286af247c71e"
  },
  {
   "cell_type": "code",
   "execution_count": 15,
   "outputs": [],
   "source": [],
   "metadata": {
    "collapsed": false,
    "ExecuteTime": {
     "end_time": "2023-11-16T11:57:41.277512300Z",
     "start_time": "2023-11-16T11:57:41.256513500Z"
    }
   },
   "id": "277a6224fc65f366"
  },
  {
   "cell_type": "code",
   "execution_count": 15,
   "outputs": [],
   "source": [],
   "metadata": {
    "collapsed": false,
    "ExecuteTime": {
     "end_time": "2023-11-16T11:57:41.305510700Z",
     "start_time": "2023-11-16T11:57:41.272512200Z"
    }
   },
   "id": "8dc4a62ef630e21a"
  },
  {
   "cell_type": "code",
   "execution_count": 15,
   "outputs": [],
   "source": [],
   "metadata": {
    "collapsed": false,
    "ExecuteTime": {
     "end_time": "2023-11-16T11:57:41.342510700Z",
     "start_time": "2023-11-16T11:57:41.288513300Z"
    }
   },
   "id": "1d81f7e1ea5a8286"
  },
  {
   "cell_type": "code",
   "execution_count": 15,
   "outputs": [],
   "source": [],
   "metadata": {
    "collapsed": false,
    "ExecuteTime": {
     "end_time": "2023-11-16T11:57:41.347511700Z",
     "start_time": "2023-11-16T11:57:41.304513100Z"
    }
   },
   "id": "bf0343ef683244a9"
  },
  {
   "cell_type": "code",
   "execution_count": 15,
   "outputs": [],
   "source": [],
   "metadata": {
    "collapsed": false,
    "ExecuteTime": {
     "end_time": "2023-11-16T11:57:41.347511700Z",
     "start_time": "2023-11-16T11:57:41.318515200Z"
    }
   },
   "id": "c5371a61ec935e0d"
  },
  {
   "cell_type": "code",
   "execution_count": 15,
   "outputs": [],
   "source": [],
   "metadata": {
    "collapsed": false,
    "ExecuteTime": {
     "end_time": "2023-11-16T11:57:41.384432Z",
     "start_time": "2023-11-16T11:57:41.336512600Z"
    }
   },
   "id": "a0e81c14885c4826"
  },
  {
   "cell_type": "code",
   "execution_count": 15,
   "outputs": [],
   "source": [],
   "metadata": {
    "collapsed": false,
    "ExecuteTime": {
     "end_time": "2023-11-16T11:57:41.385433700Z",
     "start_time": "2023-11-16T11:57:41.351510500Z"
    }
   },
   "id": "9a493070d2f8a8ec"
  },
  {
   "cell_type": "code",
   "execution_count": 15,
   "outputs": [],
   "source": [],
   "metadata": {
    "collapsed": false,
    "ExecuteTime": {
     "end_time": "2023-11-16T11:57:41.443961800Z",
     "start_time": "2023-11-16T11:57:41.366232500Z"
    }
   },
   "id": "3989e494942e745c"
  },
  {
   "cell_type": "code",
   "execution_count": 15,
   "outputs": [],
   "source": [],
   "metadata": {
    "collapsed": false,
    "ExecuteTime": {
     "end_time": "2023-11-16T11:57:41.505961100Z",
     "start_time": "2023-11-16T11:57:41.382438300Z"
    }
   },
   "id": "487053923c2df954"
  }
 ],
 "metadata": {
  "kernelspec": {
   "display_name": "Python 3",
   "language": "python",
   "name": "python3"
  },
  "language_info": {
   "codemirror_mode": {
    "name": "ipython",
    "version": 2
   },
   "file_extension": ".py",
   "mimetype": "text/x-python",
   "name": "python",
   "nbconvert_exporter": "python",
   "pygments_lexer": "ipython2",
   "version": "2.7.6"
  }
 },
 "nbformat": 4,
 "nbformat_minor": 5
}
