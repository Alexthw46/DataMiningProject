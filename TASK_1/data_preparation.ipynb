{
 "cells": [
  {
   "cell_type": "markdown",
   "source": [
    "# Importing Libraries\n",
    "\n",
    "First we import the libraries necessary to analyze the data\n"
   ],
   "metadata": {
    "collapsed": false
   },
   "id": "957cab837168eb9c"
  },
  {
   "cell_type": "code",
   "execution_count": 65,
   "outputs": [],
   "source": [
    "import numpy as np\n",
    "import pandas as pd\n",
    "import matplotlib.pyplot as plt\n",
    "import seaborn as sns\n",
    "\n",
    "import utils as m"
   ],
   "metadata": {
    "collapsed": false,
    "ExecuteTime": {
     "end_time": "2023-11-15T23:11:43.009362Z",
     "start_time": "2023-11-15T23:11:42.837960600Z"
    }
   },
   "id": "75eec554f6b39581"
  },
  {
   "cell_type": "code",
   "execution_count": 66,
   "id": "initial_id",
   "metadata": {
    "collapsed": true,
    "ExecuteTime": {
     "end_time": "2023-11-15T23:11:44.601216700Z",
     "start_time": "2023-11-15T23:11:42.855976300Z"
    }
   },
   "outputs": [],
   "source": [
    "#load the cleaned data\n",
    "\n",
    "incidents = pd.read_csv(\"../data/incidents_cleaned.csv\", low_memory=False)\n",
    "poverty = pd.read_csv(\"../data/poverty_cleaned.csv\", low_memory=False)\n",
    "districts = pd.read_csv(\"../data/districts_cleaned.csv\", low_memory=False)\n",
    "\n",
    "# and load our external data\n",
    "population = pd.read_csv(\"../data/Population by Age and Sex - US, States, Counties.csv\", low_memory=False)\n"
   ]
  },
  {
   "cell_type": "code",
   "execution_count": 67,
   "outputs": [
    {
     "name": "stdout",
     "output_type": "stream",
     "text": [
      "<class 'pandas.core.frame.DataFrame'>\n",
      "RangeIndex: 216389 entries, 0 to 216388\n",
      "Data columns (total 31 columns):\n",
      " #   Column                     Non-Null Count   Dtype  \n",
      "---  ------                     --------------   -----  \n",
      " 0   date                       216389 non-null  object \n",
      " 1   state                      216389 non-null  object \n",
      " 2   city_or_county             216389 non-null  object \n",
      " 3   address                    201681 non-null  object \n",
      " 4   latitude                   208488 non-null  float64\n",
      " 5   longitude                  208488 non-null  float64\n",
      " 6   congressional_district     204475 non-null  float64\n",
      " 7   state_house_district       180606 non-null  float64\n",
      " 8   state_senate_district      186659 non-null  float64\n",
      " 9   participant_age1           147016 non-null  float64\n",
      " 10  participant_age_group1     174409 non-null  object \n",
      " 11  participant_gender1        180045 non-null  object \n",
      " 12  min_age_participants       147020 non-null  float64\n",
      " 13  avg_age_participants       147016 non-null  float64\n",
      " 14  max_age_participants       147017 non-null  float64\n",
      " 15  n_participants_child       199272 non-null  float64\n",
      " 16  n_participants_teen        199272 non-null  float64\n",
      " 17  n_participants_adult       199272 non-null  float64\n",
      " 18  n_males                    204908 non-null  float64\n",
      " 19  n_females                  204908 non-null  float64\n",
      " 20  n_killed                   216389 non-null  int64  \n",
      " 21  n_injured                  216389 non-null  int64  \n",
      " 22  n_arrested                 216389 non-null  int64  \n",
      " 23  n_unharmed                 216389 non-null  int64  \n",
      " 24  n_participants             216389 non-null  int64  \n",
      " 25  notes                      143749 non-null  object \n",
      " 26  incident_characteristics1  216102 non-null  object \n",
      " 27  incident_characteristics2  129435 non-null  object \n",
      " 28  year                       216389 non-null  int64  \n",
      " 29  month                      216389 non-null  int64  \n",
      " 30  day                        216389 non-null  int64  \n",
      "dtypes: float64(14), int64(8), object(9)\n",
      "memory usage: 51.2+ MB\n"
     ]
    },
    {
     "data": {
      "text/plain": "         date                 state city_or_county  latitude  longitude  \\\n0  2015-05-02               Indiana   Indianapolis   39.8322   -86.2492   \n1  2017-04-03          Pennsylvania           Kane   41.6645   -78.7856   \n2  2016-11-05              Michigan        Detroit   42.4190   -83.0393   \n3  2016-10-15  District of Columbia     Washington   38.9030   -76.9820   \n4  2014-01-18        North Carolina   Wayne County   35.1847   -77.9527   \n\n   congressional_district  min_age_participants  avg_age_participants  \\\n0                     7.0                  19.0                  19.0   \n1                     5.0                  62.0                  62.0   \n2                    14.0                   NaN                   NaN   \n3                     1.0                   NaN                   NaN   \n4                    13.0                  65.0                  65.0   \n\n   max_age_participants  n_participants_child  ...  n_injured  n_arrested  \\\n0                  19.0                   0.0  ...          1           0   \n1                  62.0                   0.0  ...          0           0   \n2                   NaN                   NaN  ...          1           0   \n3                   NaN                   0.0  ...          1           0   \n4                  65.0                   0.0  ...          1           0   \n\n   n_unharmed  n_participants  \\\n0           0               1   \n1           0               1   \n2           1               2   \n3           0               2   \n4           0               1   \n\n                                               notes  \\\n0  teen wounded while walking - security guard at...   \n1                           shot self after accident   \n2                                             1 inj.   \n3                                                NaN   \n4                                                NaN   \n\n                   incident_characteristics1  incident_characteristics2  year  \\\n0                     shot - wounded/injured                        NaN  2015   \n1  shot - dead (murder, accidental, suicide)                   suicide^  2017   \n2                     shot - wounded/injured                        NaN  2016   \n3                     shot - wounded/injured                        NaN  2016   \n4                     shot - wounded/injured              home invasion  2014   \n\n   month day  \n0      5   2  \n1      4   3  \n2     11   5  \n3     10  15  \n4      1  18  \n\n[5 rows x 25 columns]",
      "text/html": "<div>\n<style scoped>\n    .dataframe tbody tr th:only-of-type {\n        vertical-align: middle;\n    }\n\n    .dataframe tbody tr th {\n        vertical-align: top;\n    }\n\n    .dataframe thead th {\n        text-align: right;\n    }\n</style>\n<table border=\"1\" class=\"dataframe\">\n  <thead>\n    <tr style=\"text-align: right;\">\n      <th></th>\n      <th>date</th>\n      <th>state</th>\n      <th>city_or_county</th>\n      <th>latitude</th>\n      <th>longitude</th>\n      <th>congressional_district</th>\n      <th>min_age_participants</th>\n      <th>avg_age_participants</th>\n      <th>max_age_participants</th>\n      <th>n_participants_child</th>\n      <th>...</th>\n      <th>n_injured</th>\n      <th>n_arrested</th>\n      <th>n_unharmed</th>\n      <th>n_participants</th>\n      <th>notes</th>\n      <th>incident_characteristics1</th>\n      <th>incident_characteristics2</th>\n      <th>year</th>\n      <th>month</th>\n      <th>day</th>\n    </tr>\n  </thead>\n  <tbody>\n    <tr>\n      <th>0</th>\n      <td>2015-05-02</td>\n      <td>Indiana</td>\n      <td>Indianapolis</td>\n      <td>39.8322</td>\n      <td>-86.2492</td>\n      <td>7.0</td>\n      <td>19.0</td>\n      <td>19.0</td>\n      <td>19.0</td>\n      <td>0.0</td>\n      <td>...</td>\n      <td>1</td>\n      <td>0</td>\n      <td>0</td>\n      <td>1</td>\n      <td>teen wounded while walking - security guard at...</td>\n      <td>shot - wounded/injured</td>\n      <td>NaN</td>\n      <td>2015</td>\n      <td>5</td>\n      <td>2</td>\n    </tr>\n    <tr>\n      <th>1</th>\n      <td>2017-04-03</td>\n      <td>Pennsylvania</td>\n      <td>Kane</td>\n      <td>41.6645</td>\n      <td>-78.7856</td>\n      <td>5.0</td>\n      <td>62.0</td>\n      <td>62.0</td>\n      <td>62.0</td>\n      <td>0.0</td>\n      <td>...</td>\n      <td>0</td>\n      <td>0</td>\n      <td>0</td>\n      <td>1</td>\n      <td>shot self after accident</td>\n      <td>shot - dead (murder, accidental, suicide)</td>\n      <td>suicide^</td>\n      <td>2017</td>\n      <td>4</td>\n      <td>3</td>\n    </tr>\n    <tr>\n      <th>2</th>\n      <td>2016-11-05</td>\n      <td>Michigan</td>\n      <td>Detroit</td>\n      <td>42.4190</td>\n      <td>-83.0393</td>\n      <td>14.0</td>\n      <td>NaN</td>\n      <td>NaN</td>\n      <td>NaN</td>\n      <td>NaN</td>\n      <td>...</td>\n      <td>1</td>\n      <td>0</td>\n      <td>1</td>\n      <td>2</td>\n      <td>1 inj.</td>\n      <td>shot - wounded/injured</td>\n      <td>NaN</td>\n      <td>2016</td>\n      <td>11</td>\n      <td>5</td>\n    </tr>\n    <tr>\n      <th>3</th>\n      <td>2016-10-15</td>\n      <td>District of Columbia</td>\n      <td>Washington</td>\n      <td>38.9030</td>\n      <td>-76.9820</td>\n      <td>1.0</td>\n      <td>NaN</td>\n      <td>NaN</td>\n      <td>NaN</td>\n      <td>0.0</td>\n      <td>...</td>\n      <td>1</td>\n      <td>0</td>\n      <td>0</td>\n      <td>2</td>\n      <td>NaN</td>\n      <td>shot - wounded/injured</td>\n      <td>NaN</td>\n      <td>2016</td>\n      <td>10</td>\n      <td>15</td>\n    </tr>\n    <tr>\n      <th>4</th>\n      <td>2014-01-18</td>\n      <td>North Carolina</td>\n      <td>Wayne County</td>\n      <td>35.1847</td>\n      <td>-77.9527</td>\n      <td>13.0</td>\n      <td>65.0</td>\n      <td>65.0</td>\n      <td>65.0</td>\n      <td>0.0</td>\n      <td>...</td>\n      <td>1</td>\n      <td>0</td>\n      <td>0</td>\n      <td>1</td>\n      <td>NaN</td>\n      <td>shot - wounded/injured</td>\n      <td>home invasion</td>\n      <td>2014</td>\n      <td>1</td>\n      <td>18</td>\n    </tr>\n  </tbody>\n</table>\n<p>5 rows × 25 columns</p>\n</div>"
     },
     "execution_count": 67,
     "metadata": {},
     "output_type": "execute_result"
    }
   ],
   "source": [
    "incidents.info()\n",
    "incidents = incidents.drop(\n",
    "    columns=['participant_age1', 'participant_age_group1', 'participant_gender1', 'state_house_district',\n",
    "             'state_senate_district', 'address'])\n",
    "incidents.head()"
   ],
   "metadata": {
    "collapsed": false,
    "ExecuteTime": {
     "end_time": "2023-11-15T23:11:44.721397800Z",
     "start_time": "2023-11-15T23:11:44.598199600Z"
    }
   },
   "id": "bc15a527b761ed7"
  },
  {
   "cell_type": "code",
   "execution_count": 68,
   "outputs": [
    {
     "name": "stdout",
     "output_type": "stream",
     "text": [
      "incident_characteristics1\n",
      "shot - wounded/injured                                                                                  83570\n",
      "shot - dead (murder, accidental, suicide)                                                               42821\n",
      "non-shooting incident                                                                                   39696\n",
      "shots fired - no injuries                                                                               31576\n",
      "institution/group/business                                                                               4029\n",
      "armed robbery with injury/death and/or evidence of dgu found                                             3444\n",
      "tsa action                                                                                               2639\n",
      "possession (gun(s) found during commission of other crimes)                                              1106\n",
      "brandishing/flourishing/open carry/lost/found                                                            1006\n",
      "shots fired, no action (reported, no evidence found)                                                      908\n",
      "drug involvement                                                                                          881\n",
      "home invasion                                                                                             834\n",
      "gun(s) stolen from owner                                                                                  711\n",
      "officer involved incident                                                                                 506\n",
      "atf/le confiscation/raid/arrest                                                                           403\n",
      "NaN                                                                                                       287\n",
      "animal shot/killed                                                                                        286\n",
      "car-jacking                                                                                               261\n",
      "accidental shooting                                                                                       183\n",
      "domestic violence                                                                                         181\n",
      "gang involvement                                                                                          163\n",
      "school incident                                                                                            94\n",
      "kidnapping/abductions/hostage                                                                              79\n",
      "drive-by (car to street, car to car)                                                                       75\n",
      "sex crime involving firearm                                                                                68\n",
      "pistol-whipping                                                                                            67\n",
      "possession of gun by felon or prohibited person                                                            60\n",
      "gun buy back action                                                                                        58\n",
      "suicide - attempt                                                                                          57\n",
      "non-aggression incident                                                                                    46\n",
      "implied weapon                                                                                             46\n",
      "defensive use                                                                                              37\n",
      "suicide^                                                                                                   30\n",
      "criminal act with stolen gun                                                                               25\n",
      "gun at school, no death/injury - elementary/secondary school                                               22\n",
      "road rage                                                                                                  19\n",
      "bar/club incident - in or around establishment                                                             19\n",
      "murder/suicide                                                                                             19\n",
      "lockdown/alert only: no gv incident occurred onsite                                                        13\n",
      "guns stolen from law enforcement                                                                           10\n",
      "stolen/illegally owned gun{s} recovered during arrest/warrant                                               8\n",
      "attempted murder/suicide (one variable unsuccessful)                                                        7\n",
      "bb/pellet/replica gun                                                                                       6\n",
      "under the influence of alcohol or drugs (only applies to the subject/suspect/perpetrator )                  6\n",
      "gun shop robbery or burglary                                                                                5\n",
      "shotspotter                                                                                                 5\n",
      "child involved incident                                                                                     4\n",
      "hate crime                                                                                                  4\n",
      "house party                                                                                                 3\n",
      "spree shooting (multiple victims, multiple locations)                                                       3\n",
      "mass shooting (4+ victims injured or killed excluding the subject/suspect/perpetrator, one location)        1\n",
      "unlawful purchase/sale                                                                                      1\n",
      "gun range/gun shop/gun show shooting                                                                        1\n",
      "Name: count, dtype: int64\n"
     ]
    }
   ],
   "source": [
    "incidents['incident_characteristics1'].unique()\n",
    "\n",
    "value_counts = incidents['incident_characteristics1'].value_counts(dropna=False)\n",
    "print(value_counts)"
   ],
   "metadata": {
    "collapsed": false,
    "ExecuteTime": {
     "end_time": "2023-11-15T23:11:44.793152Z",
     "start_time": "2023-11-15T23:11:44.720390Z"
    }
   },
   "id": "3830ae16b747d8ce"
  },
  {
   "cell_type": "code",
   "execution_count": 69,
   "outputs": [
    {
     "data": {
      "text/plain": "         date                 state city_or_county  latitude  longitude  \\\n0  2015-05-02               Indiana   Indianapolis   39.8322   -86.2492   \n1  2017-04-03          Pennsylvania           Kane   41.6645   -78.7856   \n2  2016-11-05              Michigan        Detroit   42.4190   -83.0393   \n3  2016-10-15  District of Columbia     Washington   38.9030   -76.9820   \n4  2014-01-18        North Carolina   Wayne County   35.1847   -77.9527   \n\n   congressional_district  min_age_participants  avg_age_participants  \\\n0                     7.0                  19.0                  19.0   \n1                     5.0                  62.0                  62.0   \n2                    14.0                   NaN                   NaN   \n3                     1.0                   NaN                   NaN   \n4                    13.0                  65.0                  65.0   \n\n   max_age_participants  n_participants_child  ...  n_arrested  n_unharmed  \\\n0                  19.0                   0.0  ...           0           0   \n1                  62.0                   0.0  ...           0           0   \n2                   NaN                   NaN  ...           0           1   \n3                   NaN                   0.0  ...           0           0   \n4                  65.0                   0.0  ...           0           0   \n\n   n_participants                                              notes  \\\n0               1  teen wounded while walking - security guard at...   \n1               1                           shot self after accident   \n2               2                                             1 inj.   \n3               2                                                NaN   \n4               1                                                NaN   \n\n                   incident_characteristics1  incident_characteristics2  year  \\\n0                     shot - wounded/injured                        NaN  2015   \n1  shot - dead (murder, accidental, suicide)                   suicide^  2017   \n2                     shot - wounded/injured                        NaN  2016   \n3                     shot - wounded/injured                        NaN  2016   \n4                     shot - wounded/injured              home invasion  2014   \n\n   month  day category_index  \n0      5    2              1  \n1      4    3              1  \n2     11    5              1  \n3     10   15              1  \n4      1   18              1  \n\n[5 rows x 26 columns]",
      "text/html": "<div>\n<style scoped>\n    .dataframe tbody tr th:only-of-type {\n        vertical-align: middle;\n    }\n\n    .dataframe tbody tr th {\n        vertical-align: top;\n    }\n\n    .dataframe thead th {\n        text-align: right;\n    }\n</style>\n<table border=\"1\" class=\"dataframe\">\n  <thead>\n    <tr style=\"text-align: right;\">\n      <th></th>\n      <th>date</th>\n      <th>state</th>\n      <th>city_or_county</th>\n      <th>latitude</th>\n      <th>longitude</th>\n      <th>congressional_district</th>\n      <th>min_age_participants</th>\n      <th>avg_age_participants</th>\n      <th>max_age_participants</th>\n      <th>n_participants_child</th>\n      <th>...</th>\n      <th>n_arrested</th>\n      <th>n_unharmed</th>\n      <th>n_participants</th>\n      <th>notes</th>\n      <th>incident_characteristics1</th>\n      <th>incident_characteristics2</th>\n      <th>year</th>\n      <th>month</th>\n      <th>day</th>\n      <th>category_index</th>\n    </tr>\n  </thead>\n  <tbody>\n    <tr>\n      <th>0</th>\n      <td>2015-05-02</td>\n      <td>Indiana</td>\n      <td>Indianapolis</td>\n      <td>39.8322</td>\n      <td>-86.2492</td>\n      <td>7.0</td>\n      <td>19.0</td>\n      <td>19.0</td>\n      <td>19.0</td>\n      <td>0.0</td>\n      <td>...</td>\n      <td>0</td>\n      <td>0</td>\n      <td>1</td>\n      <td>teen wounded while walking - security guard at...</td>\n      <td>shot - wounded/injured</td>\n      <td>NaN</td>\n      <td>2015</td>\n      <td>5</td>\n      <td>2</td>\n      <td>1</td>\n    </tr>\n    <tr>\n      <th>1</th>\n      <td>2017-04-03</td>\n      <td>Pennsylvania</td>\n      <td>Kane</td>\n      <td>41.6645</td>\n      <td>-78.7856</td>\n      <td>5.0</td>\n      <td>62.0</td>\n      <td>62.0</td>\n      <td>62.0</td>\n      <td>0.0</td>\n      <td>...</td>\n      <td>0</td>\n      <td>0</td>\n      <td>1</td>\n      <td>shot self after accident</td>\n      <td>shot - dead (murder, accidental, suicide)</td>\n      <td>suicide^</td>\n      <td>2017</td>\n      <td>4</td>\n      <td>3</td>\n      <td>1</td>\n    </tr>\n    <tr>\n      <th>2</th>\n      <td>2016-11-05</td>\n      <td>Michigan</td>\n      <td>Detroit</td>\n      <td>42.4190</td>\n      <td>-83.0393</td>\n      <td>14.0</td>\n      <td>NaN</td>\n      <td>NaN</td>\n      <td>NaN</td>\n      <td>NaN</td>\n      <td>...</td>\n      <td>0</td>\n      <td>1</td>\n      <td>2</td>\n      <td>1 inj.</td>\n      <td>shot - wounded/injured</td>\n      <td>NaN</td>\n      <td>2016</td>\n      <td>11</td>\n      <td>5</td>\n      <td>1</td>\n    </tr>\n    <tr>\n      <th>3</th>\n      <td>2016-10-15</td>\n      <td>District of Columbia</td>\n      <td>Washington</td>\n      <td>38.9030</td>\n      <td>-76.9820</td>\n      <td>1.0</td>\n      <td>NaN</td>\n      <td>NaN</td>\n      <td>NaN</td>\n      <td>0.0</td>\n      <td>...</td>\n      <td>0</td>\n      <td>0</td>\n      <td>2</td>\n      <td>NaN</td>\n      <td>shot - wounded/injured</td>\n      <td>NaN</td>\n      <td>2016</td>\n      <td>10</td>\n      <td>15</td>\n      <td>1</td>\n    </tr>\n    <tr>\n      <th>4</th>\n      <td>2014-01-18</td>\n      <td>North Carolina</td>\n      <td>Wayne County</td>\n      <td>35.1847</td>\n      <td>-77.9527</td>\n      <td>13.0</td>\n      <td>65.0</td>\n      <td>65.0</td>\n      <td>65.0</td>\n      <td>0.0</td>\n      <td>...</td>\n      <td>0</td>\n      <td>0</td>\n      <td>1</td>\n      <td>NaN</td>\n      <td>shot - wounded/injured</td>\n      <td>home invasion</td>\n      <td>2014</td>\n      <td>1</td>\n      <td>18</td>\n      <td>1</td>\n    </tr>\n  </tbody>\n</table>\n<p>5 rows × 26 columns</p>\n</div>"
     },
     "execution_count": 69,
     "metadata": {},
     "output_type": "execute_result"
    }
   ],
   "source": [
    "# Define the categories\n",
    "category_mapping = {\n",
    "    'Shooting Casualty Incidents': [\n",
    "        'shot - wounded/injured', 'shot - dead (murder, accidental, suicide)',\n",
    "        # Add other characteristics from this category\n",
    "    ],\n",
    "    'Non-Fatal Shooting Incidents': [\n",
    "        'shots fired - no injuries', 'shots fired, no action (reported, no evidence found)',\n",
    "        # Add other characteristics from this category\n",
    "    ],\n",
    "    'Non-Shooting Gun-Related Incidents': [\n",
    "        'institution/group/business', 'possession (gun(s) found during commission of other crimes)',\n",
    "        # Add other characteristics from this category\n",
    "    ],\n",
    "    # 'Unspecified' category includes NaN values\n",
    "    'Unspecified': [np.nan]\n",
    "}\n",
    "\n",
    "# Function to map incident characteristics to category indices\n",
    "def map_to_category(characteristic):\n",
    "    for category, characteristics in category_mapping.items():\n",
    "        if pd.isna(characteristic) and pd.isna(characteristics[0]):\n",
    "            return list(category_mapping.keys()).index(category) + 1  # Adding 1 to start indexing from 1\n",
    "        elif characteristic in characteristics:\n",
    "            return list(category_mapping.keys()).index(category) + 1  # Adding 1 to start indexing from 1\n",
    "    return 0  # 0 represents 'Unspecified or Miscellaneous Incidents'\n",
    "\n",
    "# Apply the mapping function to create a new column 'category_index'\n",
    "incidents['category_index'] = incidents['incident_characteristics1'].apply(map_to_category)\n",
    "incidents.head()"
   ],
   "metadata": {
    "collapsed": false,
    "ExecuteTime": {
     "end_time": "2023-11-15T23:11:45.100302100Z",
     "start_time": "2023-11-15T23:11:44.753957300Z"
    }
   },
   "id": "ebc19c9fd4b1b771"
  },
  {
   "cell_type": "code",
   "execution_count": 70,
   "outputs": [],
   "source": [
    "# we can now drop the incident_characteristics1, incident_characteristics2 and notes columns\n",
    "\n",
    "incidents = incidents.drop(columns=['incident_characteristics1', 'incident_characteristics2', 'notes'])"
   ],
   "metadata": {
    "collapsed": false,
    "ExecuteTime": {
     "end_time": "2023-11-15T23:11:45.187192400Z",
     "start_time": "2023-11-15T23:11:45.097280500Z"
    }
   },
   "id": "4fe9ead0f23a2526"
  },
  {
   "cell_type": "code",
   "execution_count": 71,
   "outputs": [],
   "source": [
    "incidents_and_poverty = pd.merge(incidents, poverty, on=['state', 'year'], how='inner')\n",
    "incidents_and_poverty = incidents_and_poverty[['state', 'year', 'date', 'povertyPercentage']]\n"
   ],
   "metadata": {
    "collapsed": false,
    "ExecuteTime": {
     "end_time": "2023-11-15T23:11:45.250360Z",
     "start_time": "2023-11-15T23:11:45.130145400Z"
    }
   },
   "id": "65a1820894b3a759"
  },
  {
   "cell_type": "code",
   "execution_count": 72,
   "outputs": [],
   "source": [
    "population = population[(population['Countyfips'] == 0) & (population['Year'] <= 2018) & (population['Year'] > 2013)]\n",
    "population = population.drop(\n",
    "    columns=['IBRC_Geo_ID', 'Statefips', 'Countyfips', 'Population 0-4', 'Population 5-17', 'Population 18-24',\n",
    "             'Population 25-44', 'Population 45-64', 'Population 65+'])\n",
    "population = population.rename(columns={'Description': 'state', 'Year': 'year'})"
   ],
   "metadata": {
    "collapsed": false,
    "ExecuteTime": {
     "end_time": "2023-11-15T23:11:45.266720800Z",
     "start_time": "2023-11-15T23:11:45.255367700Z"
    }
   },
   "id": "a900db83d502f181"
  },
  {
   "cell_type": "code",
   "execution_count": 73,
   "outputs": [
    {
     "name": "stdout",
     "output_type": "stream",
     "text": [
      "<class 'pandas.core.frame.DataFrame'>\n",
      "Index: 265 entries, 14 to 63880\n",
      "Data columns (total 8 columns):\n",
      " #   Column               Non-Null Count  Dtype  \n",
      "---  ------               --------------  -----  \n",
      " 0   state                265 non-null    object \n",
      " 1   year                 265 non-null    int64  \n",
      " 2   Total Population     265 non-null    float64\n",
      " 3   Population Under 18  265 non-null    float64\n",
      " 4   Population 18-54     265 non-null    float64\n",
      " 5   Population 55+       265 non-null    float64\n",
      " 6   Male Population      265 non-null    float64\n",
      " 7   Female Population    265 non-null    float64\n",
      "dtypes: float64(6), int64(1), object(1)\n",
      "memory usage: 18.6+ KB\n"
     ]
    }
   ],
   "source": [
    "population.info()"
   ],
   "metadata": {
    "collapsed": false,
    "ExecuteTime": {
     "end_time": "2023-11-15T23:11:45.311957200Z",
     "start_time": "2023-11-15T23:11:45.267359700Z"
    }
   },
   "id": "14578c56ac4a70e9"
  },
  {
   "cell_type": "code",
   "execution_count": 74,
   "outputs": [],
   "source": [
    "# merge the population data with the incidents data\n",
    "\n",
    "# Group incidents by year and state, calculate incident counts\n",
    "incident_counts = incidents.groupby(['year', 'state']).size().reset_index(name='counts')\n",
    "\n",
    "# Group population by year and state, summing the population\n",
    "population_totals = population.groupby(['year', 'state'])['Total Population'].sum().reset_index()\n",
    "\n",
    "# Merge incident counts and population totals on year and state\n",
    "merged_data = pd.merge(incident_counts, population_totals, on=['year', 'state'], how='inner')\n",
    "\n",
    "# Calculate Incident Density per 100k\n",
    "merged_data['Incident Density per 100k'] = (merged_data['counts'] / merged_data['Total Population']) * 100000\n",
    "\n",
    "# Append U.S. totals for each year\n",
    "us_totals = merged_data.groupby('year').agg({'counts': 'sum', 'Total Population': 'sum'}).reset_index()\n",
    "us_totals['state'] = 'U.S.'\n",
    "us_totals['Incident Density per 100k'] = (us_totals['counts'] / us_totals['Total Population']) * 100000\n",
    "\n",
    "# Append U.S. totals to the merged data\n",
    "result = pd.concat([merged_data, us_totals]).reset_index(drop=True)[['year', 'state', 'Incident Density per 100k']]\n",
    "\n",
    "incidents_density = pd.merge(incidents, result, on=['state', 'year'], how='inner')"
   ],
   "metadata": {
    "collapsed": false,
    "ExecuteTime": {
     "end_time": "2023-11-15T23:11:45.425871600Z",
     "start_time": "2023-11-15T23:11:45.284880400Z"
    }
   },
   "id": "c910d642d6550d89"
  },
  {
   "cell_type": "code",
   "execution_count": 75,
   "outputs": [
    {
     "data": {
      "text/plain": "              date    state city_or_county  latitude  longitude  \\\n0       2015-05-02  Indiana   Indianapolis   39.8322   -86.2492   \n1       2015-08-02  Indiana           Gary   41.5981   -87.3400   \n2       2015-04-15  Indiana   Indianapolis   39.7150   -86.2981   \n3       2015-12-18  Indiana     Evansville   37.9774   -87.5372   \n4       2015-05-14  Indiana           Gary   41.5982   -87.3488   \n...            ...      ...            ...       ...        ...   \n216384  2018-03-24   Hawaii        Wailuku       NaN        NaN   \n216385  2018-01-07   Hawaii         Pahala   19.2000  -155.4800   \n216386  2018-03-05   Hawaii     Ocean View   19.1127  -155.7570   \n216387  2018-01-28   Hawaii        Waianae   21.4444  -158.1860   \n216388  2018-01-07   Hawaii        Waianae   21.4563  -158.1950   \n\n        congressional_district  min_age_participants  avg_age_participants  \\\n0                          7.0                  19.0                  19.0   \n1                          1.0                  15.0                  15.0   \n2                          7.0                   NaN                   NaN   \n3                          8.0                  24.0                  24.0   \n4                          1.0                  32.0                  46.0   \n...                        ...                   ...                   ...   \n216384                     NaN                  26.0                  26.0   \n216385                     2.0                  33.0                  33.0   \n216386                     2.0                  31.0                  42.0   \n216387                     2.0                  34.0                  34.0   \n216388                     NaN                  29.0                  29.0   \n\n        max_age_participants  n_participants_child  ...  n_killed  n_injured  \\\n0                       19.0                   0.0  ...         0          1   \n1                       15.0                   0.0  ...         1          0   \n2                        NaN                   0.0  ...         0          0   \n3                       24.0                   0.0  ...         0          0   \n4                       59.0                   0.0  ...         1          0   \n...                      ...                   ...  ...       ...        ...   \n216384                  26.0                   0.0  ...         0          0   \n216385                  33.0                   0.0  ...         0          0   \n216386                  64.0                   0.0  ...         0          2   \n216387                  34.0                   0.0  ...         0          0   \n216388                  29.0                   0.0  ...         0          0   \n\n        n_arrested  n_unharmed  n_participants  year  month  day  \\\n0                0           0               1  2015      5    2   \n1                0           0               1  2015      8    2   \n2                0           0               0  2015      4   15   \n3                1           0               1  2015     12   18   \n4                0           1               2  2015      5   14   \n...            ...         ...             ...   ...    ...  ...   \n216384           1           0               1  2018      3   24   \n216385           1           0               1  2018      1    7   \n216386           1           0               3  2018      3    5   \n216387           1           0               1  2018      1   28   \n216388           1           0               1  2018      1    7   \n\n        category_index  Incident Density per 100k  \n0                    1                  15.616436  \n1                    1                  15.616436  \n2                    0                  15.616436  \n3                    0                  15.616436  \n4                    1                  15.616436  \n...                ...                        ...  \n216384               4                   1.337470  \n216385               2                   1.337470  \n216386               1                   1.337470  \n216387               2                   1.337470  \n216388               2                   1.337470  \n\n[216389 rows x 24 columns]",
      "text/html": "<div>\n<style scoped>\n    .dataframe tbody tr th:only-of-type {\n        vertical-align: middle;\n    }\n\n    .dataframe tbody tr th {\n        vertical-align: top;\n    }\n\n    .dataframe thead th {\n        text-align: right;\n    }\n</style>\n<table border=\"1\" class=\"dataframe\">\n  <thead>\n    <tr style=\"text-align: right;\">\n      <th></th>\n      <th>date</th>\n      <th>state</th>\n      <th>city_or_county</th>\n      <th>latitude</th>\n      <th>longitude</th>\n      <th>congressional_district</th>\n      <th>min_age_participants</th>\n      <th>avg_age_participants</th>\n      <th>max_age_participants</th>\n      <th>n_participants_child</th>\n      <th>...</th>\n      <th>n_killed</th>\n      <th>n_injured</th>\n      <th>n_arrested</th>\n      <th>n_unharmed</th>\n      <th>n_participants</th>\n      <th>year</th>\n      <th>month</th>\n      <th>day</th>\n      <th>category_index</th>\n      <th>Incident Density per 100k</th>\n    </tr>\n  </thead>\n  <tbody>\n    <tr>\n      <th>0</th>\n      <td>2015-05-02</td>\n      <td>Indiana</td>\n      <td>Indianapolis</td>\n      <td>39.8322</td>\n      <td>-86.2492</td>\n      <td>7.0</td>\n      <td>19.0</td>\n      <td>19.0</td>\n      <td>19.0</td>\n      <td>0.0</td>\n      <td>...</td>\n      <td>0</td>\n      <td>1</td>\n      <td>0</td>\n      <td>0</td>\n      <td>1</td>\n      <td>2015</td>\n      <td>5</td>\n      <td>2</td>\n      <td>1</td>\n      <td>15.616436</td>\n    </tr>\n    <tr>\n      <th>1</th>\n      <td>2015-08-02</td>\n      <td>Indiana</td>\n      <td>Gary</td>\n      <td>41.5981</td>\n      <td>-87.3400</td>\n      <td>1.0</td>\n      <td>15.0</td>\n      <td>15.0</td>\n      <td>15.0</td>\n      <td>0.0</td>\n      <td>...</td>\n      <td>1</td>\n      <td>0</td>\n      <td>0</td>\n      <td>0</td>\n      <td>1</td>\n      <td>2015</td>\n      <td>8</td>\n      <td>2</td>\n      <td>1</td>\n      <td>15.616436</td>\n    </tr>\n    <tr>\n      <th>2</th>\n      <td>2015-04-15</td>\n      <td>Indiana</td>\n      <td>Indianapolis</td>\n      <td>39.7150</td>\n      <td>-86.2981</td>\n      <td>7.0</td>\n      <td>NaN</td>\n      <td>NaN</td>\n      <td>NaN</td>\n      <td>0.0</td>\n      <td>...</td>\n      <td>0</td>\n      <td>0</td>\n      <td>0</td>\n      <td>0</td>\n      <td>0</td>\n      <td>2015</td>\n      <td>4</td>\n      <td>15</td>\n      <td>0</td>\n      <td>15.616436</td>\n    </tr>\n    <tr>\n      <th>3</th>\n      <td>2015-12-18</td>\n      <td>Indiana</td>\n      <td>Evansville</td>\n      <td>37.9774</td>\n      <td>-87.5372</td>\n      <td>8.0</td>\n      <td>24.0</td>\n      <td>24.0</td>\n      <td>24.0</td>\n      <td>0.0</td>\n      <td>...</td>\n      <td>0</td>\n      <td>0</td>\n      <td>1</td>\n      <td>0</td>\n      <td>1</td>\n      <td>2015</td>\n      <td>12</td>\n      <td>18</td>\n      <td>0</td>\n      <td>15.616436</td>\n    </tr>\n    <tr>\n      <th>4</th>\n      <td>2015-05-14</td>\n      <td>Indiana</td>\n      <td>Gary</td>\n      <td>41.5982</td>\n      <td>-87.3488</td>\n      <td>1.0</td>\n      <td>32.0</td>\n      <td>46.0</td>\n      <td>59.0</td>\n      <td>0.0</td>\n      <td>...</td>\n      <td>1</td>\n      <td>0</td>\n      <td>0</td>\n      <td>1</td>\n      <td>2</td>\n      <td>2015</td>\n      <td>5</td>\n      <td>14</td>\n      <td>1</td>\n      <td>15.616436</td>\n    </tr>\n    <tr>\n      <th>...</th>\n      <td>...</td>\n      <td>...</td>\n      <td>...</td>\n      <td>...</td>\n      <td>...</td>\n      <td>...</td>\n      <td>...</td>\n      <td>...</td>\n      <td>...</td>\n      <td>...</td>\n      <td>...</td>\n      <td>...</td>\n      <td>...</td>\n      <td>...</td>\n      <td>...</td>\n      <td>...</td>\n      <td>...</td>\n      <td>...</td>\n      <td>...</td>\n      <td>...</td>\n      <td>...</td>\n    </tr>\n    <tr>\n      <th>216384</th>\n      <td>2018-03-24</td>\n      <td>Hawaii</td>\n      <td>Wailuku</td>\n      <td>NaN</td>\n      <td>NaN</td>\n      <td>NaN</td>\n      <td>26.0</td>\n      <td>26.0</td>\n      <td>26.0</td>\n      <td>0.0</td>\n      <td>...</td>\n      <td>0</td>\n      <td>0</td>\n      <td>1</td>\n      <td>0</td>\n      <td>1</td>\n      <td>2018</td>\n      <td>3</td>\n      <td>24</td>\n      <td>4</td>\n      <td>1.337470</td>\n    </tr>\n    <tr>\n      <th>216385</th>\n      <td>2018-01-07</td>\n      <td>Hawaii</td>\n      <td>Pahala</td>\n      <td>19.2000</td>\n      <td>-155.4800</td>\n      <td>2.0</td>\n      <td>33.0</td>\n      <td>33.0</td>\n      <td>33.0</td>\n      <td>0.0</td>\n      <td>...</td>\n      <td>0</td>\n      <td>0</td>\n      <td>1</td>\n      <td>0</td>\n      <td>1</td>\n      <td>2018</td>\n      <td>1</td>\n      <td>7</td>\n      <td>2</td>\n      <td>1.337470</td>\n    </tr>\n    <tr>\n      <th>216386</th>\n      <td>2018-03-05</td>\n      <td>Hawaii</td>\n      <td>Ocean View</td>\n      <td>19.1127</td>\n      <td>-155.7570</td>\n      <td>2.0</td>\n      <td>31.0</td>\n      <td>42.0</td>\n      <td>64.0</td>\n      <td>0.0</td>\n      <td>...</td>\n      <td>0</td>\n      <td>2</td>\n      <td>1</td>\n      <td>0</td>\n      <td>3</td>\n      <td>2018</td>\n      <td>3</td>\n      <td>5</td>\n      <td>1</td>\n      <td>1.337470</td>\n    </tr>\n    <tr>\n      <th>216387</th>\n      <td>2018-01-28</td>\n      <td>Hawaii</td>\n      <td>Waianae</td>\n      <td>21.4444</td>\n      <td>-158.1860</td>\n      <td>2.0</td>\n      <td>34.0</td>\n      <td>34.0</td>\n      <td>34.0</td>\n      <td>0.0</td>\n      <td>...</td>\n      <td>0</td>\n      <td>0</td>\n      <td>1</td>\n      <td>0</td>\n      <td>1</td>\n      <td>2018</td>\n      <td>1</td>\n      <td>28</td>\n      <td>2</td>\n      <td>1.337470</td>\n    </tr>\n    <tr>\n      <th>216388</th>\n      <td>2018-01-07</td>\n      <td>Hawaii</td>\n      <td>Waianae</td>\n      <td>21.4563</td>\n      <td>-158.1950</td>\n      <td>NaN</td>\n      <td>29.0</td>\n      <td>29.0</td>\n      <td>29.0</td>\n      <td>0.0</td>\n      <td>...</td>\n      <td>0</td>\n      <td>0</td>\n      <td>1</td>\n      <td>0</td>\n      <td>1</td>\n      <td>2018</td>\n      <td>1</td>\n      <td>7</td>\n      <td>2</td>\n      <td>1.337470</td>\n    </tr>\n  </tbody>\n</table>\n<p>216389 rows × 24 columns</p>\n</div>"
     },
     "execution_count": 75,
     "metadata": {},
     "output_type": "execute_result"
    }
   ],
   "source": [
    "incidents_density"
   ],
   "metadata": {
    "collapsed": false,
    "ExecuteTime": {
     "end_time": "2023-11-15T23:11:45.520055400Z",
     "start_time": "2023-11-15T23:11:45.426878300Z"
    }
   },
   "id": "b9a340ded73155c"
  },
  {
   "cell_type": "code",
   "execution_count": 75,
   "outputs": [],
   "source": [],
   "metadata": {
    "collapsed": false,
    "ExecuteTime": {
     "end_time": "2023-11-15T23:11:45.550279300Z",
     "start_time": "2023-11-15T23:11:45.521055300Z"
    }
   },
   "id": "ac6b9eeca069821a"
  }
 ],
 "metadata": {
  "kernelspec": {
   "display_name": "Python 3",
   "language": "python",
   "name": "python3"
  },
  "language_info": {
   "codemirror_mode": {
    "name": "ipython",
    "version": 2
   },
   "file_extension": ".py",
   "mimetype": "text/x-python",
   "name": "python",
   "nbconvert_exporter": "python",
   "pygments_lexer": "ipython2",
   "version": "2.7.6"
  }
 },
 "nbformat": 4,
 "nbformat_minor": 5
}
