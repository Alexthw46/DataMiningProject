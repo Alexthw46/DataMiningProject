{
 "cells": [
  {
   "cell_type": "markdown",
   "source": [
    "# Importing Libraries\n",
    "\n",
    "First we import the libraries necessary to analyze the data\n"
   ],
   "metadata": {
    "collapsed": false
   },
   "id": "957cab837168eb9c"
  },
  {
   "cell_type": "code",
   "execution_count": 24,
   "outputs": [],
   "source": [
    "import numpy as np\n",
    "import pandas as pd\n",
    "import matplotlib.pyplot as plt\n",
    "import seaborn as sns\n",
    "\n",
    "import utils as m"
   ],
   "metadata": {
    "collapsed": false,
    "ExecuteTime": {
     "end_time": "2023-11-25T15:21:46.482190100Z",
     "start_time": "2023-11-25T15:21:46.384192400Z"
    }
   },
   "id": "75eec554f6b39581"
  },
  {
   "cell_type": "code",
   "execution_count": 25,
   "id": "initial_id",
   "metadata": {
    "collapsed": true,
    "ExecuteTime": {
     "end_time": "2023-11-25T15:21:47.838193100Z",
     "start_time": "2023-11-25T15:21:46.393190800Z"
    }
   },
   "outputs": [],
   "source": [
    "#load the cleaned data\n",
    "\n",
    "incidents = pd.read_csv(\"../data/incidents_cleaned.csv\", low_memory=False)\n",
    "poverty = pd.read_csv(\"../data/poverty_cleaned.csv\", low_memory=False)\n",
    "districts = pd.read_csv(\"../data/districts_cleaned.csv\", low_memory=False)\n",
    "\n",
    "# and load our external data\n",
    "population = pd.read_csv(\"../data/population_cleaned.csv\", low_memory=False)"
   ]
  },
  {
   "cell_type": "markdown",
   "source": [
    "We decide to drop the following columns, as they are not useful for our analysis, or they contain too many missing values:\n",
    "- **participant_age1, participant_age_group1, participant_gender1**: not reliable, as it's randomly picked and often matches the only participant\n",
    "- **state_house_district, state_senate_district**: not useful\n",
    "- **address**: too many missing values, often not standardized"
   ],
   "metadata": {
    "collapsed": false
   },
   "id": "db06c3b4f1f29d3b"
  },
  {
   "cell_type": "code",
   "execution_count": 26,
   "outputs": [
    {
     "name": "stdout",
     "output_type": "stream",
     "text": [
      "<class 'pandas.core.frame.DataFrame'>\n",
      "RangeIndex: 191521 entries, 0 to 191520\n",
      "Data columns (total 25 columns):\n",
      " #   Column                     Non-Null Count   Dtype  \n",
      "---  ------                     --------------   -----  \n",
      " 0   date                       191521 non-null  object \n",
      " 1   state                      191521 non-null  object \n",
      " 2   city_or_county             191521 non-null  object \n",
      " 3   latitude                   184142 non-null  float64\n",
      " 4   longitude                  184142 non-null  float64\n",
      " 5   congressional_district     180865 non-null  float64\n",
      " 6   min_age_participants       147016 non-null  float64\n",
      " 7   avg_age_participants       147012 non-null  float64\n",
      " 8   max_age_participants       147013 non-null  float64\n",
      " 9   n_participants_child       174405 non-null  float64\n",
      " 10  n_participants_teen        174405 non-null  float64\n",
      " 11  n_participants_adult       174405 non-null  float64\n",
      " 12  n_males                    180041 non-null  float64\n",
      " 13  n_females                  180041 non-null  float64\n",
      " 14  n_killed                   191521 non-null  int64  \n",
      " 15  n_injured                  191521 non-null  int64  \n",
      " 16  n_arrested                 191521 non-null  int64  \n",
      " 17  n_unharmed                 191521 non-null  int64  \n",
      " 18  n_participants             191521 non-null  int64  \n",
      " 19  notes                      127947 non-null  object \n",
      " 20  incident_characteristics1  191283 non-null  object \n",
      " 21  incident_characteristics2  118592 non-null  object \n",
      " 22  year                       191521 non-null  int64  \n",
      " 23  month                      191521 non-null  int64  \n",
      " 24  day                        191521 non-null  int64  \n",
      "dtypes: float64(11), int64(8), object(6)\n",
      "memory usage: 36.5+ MB\n"
     ]
    },
    {
     "data": {
      "text/plain": "         date                 state city_or_county  latitude  longitude  \\\n0  2015-05-02               Indiana   Indianapolis   39.8322   -86.2492   \n1  2017-04-03          Pennsylvania           Kane   41.6645   -78.7856   \n2  2016-11-05              Michigan        Detroit   42.4190   -83.0393   \n3  2016-10-15  District of Columbia     Washington   38.9030   -76.9820   \n4  2014-01-18        North Carolina   Wayne County   35.1847   -77.9527   \n\n   congressional_district  min_age_participants  avg_age_participants  \\\n0                     7.0                  19.0                  19.0   \n1                     5.0                  62.0                  62.0   \n2                    14.0                   NaN                   NaN   \n3                     1.0                   NaN                   NaN   \n4                    13.0                  65.0                  65.0   \n\n   max_age_participants  n_participants_child  ...  n_injured  n_arrested  \\\n0                  19.0                   0.0  ...          1           0   \n1                  62.0                   0.0  ...          0           0   \n2                   NaN                   NaN  ...          1           0   \n3                   NaN                   0.0  ...          1           0   \n4                  65.0                   0.0  ...          1           0   \n\n   n_unharmed  n_participants  \\\n0           0               1   \n1           0               1   \n2           1               2   \n3           0               2   \n4           0               1   \n\n                                               notes  \\\n0  teen wounded while walking - security guard at...   \n1                           shot self after accident   \n2                                             1 inj.   \n3                                                NaN   \n4                                                NaN   \n\n                   incident_characteristics1  incident_characteristics2  year  \\\n0                     shot - wounded/injured                        NaN  2015   \n1  shot - dead (murder, accidental, suicide)                   suicide^  2017   \n2                     shot - wounded/injured                        NaN  2016   \n3                     shot - wounded/injured                        NaN  2016   \n4                     shot - wounded/injured              home invasion  2014   \n\n   month day  \n0      5   2  \n1      4   3  \n2     11   5  \n3     10  15  \n4      1  18  \n\n[5 rows x 25 columns]",
      "text/html": "<div>\n<style scoped>\n    .dataframe tbody tr th:only-of-type {\n        vertical-align: middle;\n    }\n\n    .dataframe tbody tr th {\n        vertical-align: top;\n    }\n\n    .dataframe thead th {\n        text-align: right;\n    }\n</style>\n<table border=\"1\" class=\"dataframe\">\n  <thead>\n    <tr style=\"text-align: right;\">\n      <th></th>\n      <th>date</th>\n      <th>state</th>\n      <th>city_or_county</th>\n      <th>latitude</th>\n      <th>longitude</th>\n      <th>congressional_district</th>\n      <th>min_age_participants</th>\n      <th>avg_age_participants</th>\n      <th>max_age_participants</th>\n      <th>n_participants_child</th>\n      <th>...</th>\n      <th>n_injured</th>\n      <th>n_arrested</th>\n      <th>n_unharmed</th>\n      <th>n_participants</th>\n      <th>notes</th>\n      <th>incident_characteristics1</th>\n      <th>incident_characteristics2</th>\n      <th>year</th>\n      <th>month</th>\n      <th>day</th>\n    </tr>\n  </thead>\n  <tbody>\n    <tr>\n      <th>0</th>\n      <td>2015-05-02</td>\n      <td>Indiana</td>\n      <td>Indianapolis</td>\n      <td>39.8322</td>\n      <td>-86.2492</td>\n      <td>7.0</td>\n      <td>19.0</td>\n      <td>19.0</td>\n      <td>19.0</td>\n      <td>0.0</td>\n      <td>...</td>\n      <td>1</td>\n      <td>0</td>\n      <td>0</td>\n      <td>1</td>\n      <td>teen wounded while walking - security guard at...</td>\n      <td>shot - wounded/injured</td>\n      <td>NaN</td>\n      <td>2015</td>\n      <td>5</td>\n      <td>2</td>\n    </tr>\n    <tr>\n      <th>1</th>\n      <td>2017-04-03</td>\n      <td>Pennsylvania</td>\n      <td>Kane</td>\n      <td>41.6645</td>\n      <td>-78.7856</td>\n      <td>5.0</td>\n      <td>62.0</td>\n      <td>62.0</td>\n      <td>62.0</td>\n      <td>0.0</td>\n      <td>...</td>\n      <td>0</td>\n      <td>0</td>\n      <td>0</td>\n      <td>1</td>\n      <td>shot self after accident</td>\n      <td>shot - dead (murder, accidental, suicide)</td>\n      <td>suicide^</td>\n      <td>2017</td>\n      <td>4</td>\n      <td>3</td>\n    </tr>\n    <tr>\n      <th>2</th>\n      <td>2016-11-05</td>\n      <td>Michigan</td>\n      <td>Detroit</td>\n      <td>42.4190</td>\n      <td>-83.0393</td>\n      <td>14.0</td>\n      <td>NaN</td>\n      <td>NaN</td>\n      <td>NaN</td>\n      <td>NaN</td>\n      <td>...</td>\n      <td>1</td>\n      <td>0</td>\n      <td>1</td>\n      <td>2</td>\n      <td>1 inj.</td>\n      <td>shot - wounded/injured</td>\n      <td>NaN</td>\n      <td>2016</td>\n      <td>11</td>\n      <td>5</td>\n    </tr>\n    <tr>\n      <th>3</th>\n      <td>2016-10-15</td>\n      <td>District of Columbia</td>\n      <td>Washington</td>\n      <td>38.9030</td>\n      <td>-76.9820</td>\n      <td>1.0</td>\n      <td>NaN</td>\n      <td>NaN</td>\n      <td>NaN</td>\n      <td>0.0</td>\n      <td>...</td>\n      <td>1</td>\n      <td>0</td>\n      <td>0</td>\n      <td>2</td>\n      <td>NaN</td>\n      <td>shot - wounded/injured</td>\n      <td>NaN</td>\n      <td>2016</td>\n      <td>10</td>\n      <td>15</td>\n    </tr>\n    <tr>\n      <th>4</th>\n      <td>2014-01-18</td>\n      <td>North Carolina</td>\n      <td>Wayne County</td>\n      <td>35.1847</td>\n      <td>-77.9527</td>\n      <td>13.0</td>\n      <td>65.0</td>\n      <td>65.0</td>\n      <td>65.0</td>\n      <td>0.0</td>\n      <td>...</td>\n      <td>1</td>\n      <td>0</td>\n      <td>0</td>\n      <td>1</td>\n      <td>NaN</td>\n      <td>shot - wounded/injured</td>\n      <td>home invasion</td>\n      <td>2014</td>\n      <td>1</td>\n      <td>18</td>\n    </tr>\n  </tbody>\n</table>\n<p>5 rows × 25 columns</p>\n</div>"
     },
     "execution_count": 26,
     "metadata": {},
     "output_type": "execute_result"
    }
   ],
   "source": [
    "incidents = incidents.drop(\n",
    "    columns=['participant_age1', 'participant_age_group1', 'participant_gender1', 'state_house_district',\n",
    "             'state_senate_district', 'address'])\n",
    "incidents.info()\n",
    "incidents.head()"
   ],
   "metadata": {
    "collapsed": false,
    "ExecuteTime": {
     "end_time": "2023-11-25T15:21:47.839194400Z",
     "start_time": "2023-11-25T15:21:47.718188800Z"
    }
   },
   "id": "bc15a527b761ed7"
  },
  {
   "cell_type": "markdown",
   "source": [
    "There are still over than 40000 missing values for the age columns, since replacing them with the overall mean or median would spike the distribution too much, we try to smooth over the states."
   ],
   "metadata": {
    "collapsed": false
   },
   "id": "5f4bea11f6356b56"
  },
  {
   "cell_type": "code",
   "execution_count": 27,
   "outputs": [],
   "source": [
    "# evaluate how to handle the missing values for min_age_participants, max_age_participants and avg_age_participants\n",
    "# try by replacing with the mean of the state\n",
    "age_columns = ['min_age_participants', 'max_age_participants', 'avg_age_participants']\n",
    "mean_test = incidents.copy()\n",
    "for column in age_columns:\n",
    "    mean_by_state = mean_test.groupby('state')[column].mean()\n",
    "    mean_test[column] = mean_test.apply(\n",
    "        lambda row: mean_by_state[row['state']] if pd.isnull(row[column]) else row[column],\n",
    "        axis=1\n",
    "    )\n",
    "\n",
    "# try by replacing with the median of the state\n",
    "median_test = incidents.copy()\n",
    "for column in age_columns:\n",
    "    median_by_state = median_test.groupby('state')[column].median()\n",
    "    median_test[column] = median_test.apply(\n",
    "        lambda row: median_by_state[row['state']] if pd.isnull(row[column]) else row[column],\n",
    "        axis=1\n",
    "    )\n"
   ],
   "metadata": {
    "collapsed": false,
    "ExecuteTime": {
     "end_time": "2023-11-25T15:22:02.849193200Z",
     "start_time": "2023-11-25T15:21:47.828190300Z"
    }
   },
   "id": "7f9c70525655dfd4"
  },
  {
   "cell_type": "code",
   "execution_count": 28,
   "outputs": [
    {
     "data": {
      "text/plain": "<Figure size 640x480 with 1 Axes>",
      "image/png": "[encoded data removed]"
     },
     "metadata": {},
     "output_type": "display_data"
    },
    {
     "data": {
      "text/plain": "<Figure size 640x480 with 1 Axes>",
      "image/png": "[encoded data removed]"
     },
     "metadata": {},
     "output_type": "display_data"
    },
    {
     "data": {
      "text/plain": "<Figure size 640x480 with 1 Axes>",
      "image/png": "[encoded data removed]"
     },
     "metadata": {},
     "output_type": "display_data"
    }
   ],
   "source": [
    "# plot the distributions of the original, mean and median values    \n",
    "#fig, axes = plt.subplots(1, 3, figsize=(15, 5))\n",
    "sns.histplot(data=incidents, x='avg_age_participants')\n",
    "plt.title('Original')\n",
    "plt.show()\n",
    "sns.histplot(data=mean_test, x='avg_age_participants')\n",
    "plt.title('Mean')\n",
    "plt.show()\n",
    "sns.histplot(data=median_test, x='avg_age_participants')\n",
    "plt.title('Median')\n",
    "plt.show()"
   ],
   "metadata": {
    "collapsed": false,
    "ExecuteTime": {
     "end_time": "2023-11-25T15:22:05.188193600Z",
     "start_time": "2023-11-25T15:22:02.848194900Z"
    }
   },
   "id": "73bc8f8bb32bcc76"
  },
  {
   "cell_type": "code",
   "execution_count": 29,
   "outputs": [
    {
     "data": {
      "text/plain": "       min_age_participants  max_age_participants  avg_age_participants\ncount         147016.000000         147013.000000         147012.000000\nmean              28.343616             31.795862             29.999742\nstd               12.478563             13.689487             12.441406\nmin                0.000000              0.000000              0.000000\n25%               20.000000             22.000000             21.000000\n50%               25.000000             28.000000             27.000000\n75%               34.000000             38.000000             36.000000\nmax              101.000000            101.000000            101.000000",
      "text/html": "<div>\n<style scoped>\n    .dataframe tbody tr th:only-of-type {\n        vertical-align: middle;\n    }\n\n    .dataframe tbody tr th {\n        vertical-align: top;\n    }\n\n    .dataframe thead th {\n        text-align: right;\n    }\n</style>\n<table border=\"1\" class=\"dataframe\">\n  <thead>\n    <tr style=\"text-align: right;\">\n      <th></th>\n      <th>min_age_participants</th>\n      <th>max_age_participants</th>\n      <th>avg_age_participants</th>\n    </tr>\n  </thead>\n  <tbody>\n    <tr>\n      <th>count</th>\n      <td>147016.000000</td>\n      <td>147013.000000</td>\n      <td>147012.000000</td>\n    </tr>\n    <tr>\n      <th>mean</th>\n      <td>28.343616</td>\n      <td>31.795862</td>\n      <td>29.999742</td>\n    </tr>\n    <tr>\n      <th>std</th>\n      <td>12.478563</td>\n      <td>13.689487</td>\n      <td>12.441406</td>\n    </tr>\n    <tr>\n      <th>min</th>\n      <td>0.000000</td>\n      <td>0.000000</td>\n      <td>0.000000</td>\n    </tr>\n    <tr>\n      <th>25%</th>\n      <td>20.000000</td>\n      <td>22.000000</td>\n      <td>21.000000</td>\n    </tr>\n    <tr>\n      <th>50%</th>\n      <td>25.000000</td>\n      <td>28.000000</td>\n      <td>27.000000</td>\n    </tr>\n    <tr>\n      <th>75%</th>\n      <td>34.000000</td>\n      <td>38.000000</td>\n      <td>36.000000</td>\n    </tr>\n    <tr>\n      <th>max</th>\n      <td>101.000000</td>\n      <td>101.000000</td>\n      <td>101.000000</td>\n    </tr>\n  </tbody>\n</table>\n</div>"
     },
     "execution_count": 29,
     "metadata": {},
     "output_type": "execute_result"
    }
   ],
   "source": [
    "incidents[age_columns].describe()"
   ],
   "metadata": {
    "collapsed": false,
    "ExecuteTime": {
     "end_time": "2023-11-25T15:22:05.278191700Z",
     "start_time": "2023-11-25T15:22:05.186192800Z"
    }
   },
   "id": "6013aef5d60b11ec"
  },
  {
   "cell_type": "code",
   "execution_count": 30,
   "outputs": [
    {
     "data": {
      "text/plain": "       min_age_participants  max_age_participants  avg_age_participants\ncount         191521.000000         191521.000000         191521.000000\nmean              28.390882             31.883956             30.066800\nstd               10.947023             12.018413             10.919326\nmin                0.000000              0.000000              0.000000\n25%               21.000000             24.000000             23.000000\n50%               27.772034             31.203262             29.503719\n75%               31.000000             35.000000             33.000000\nmax              101.000000            101.000000            101.000000",
      "text/html": "<div>\n<style scoped>\n    .dataframe tbody tr th:only-of-type {\n        vertical-align: middle;\n    }\n\n    .dataframe tbody tr th {\n        vertical-align: top;\n    }\n\n    .dataframe thead th {\n        text-align: right;\n    }\n</style>\n<table border=\"1\" class=\"dataframe\">\n  <thead>\n    <tr style=\"text-align: right;\">\n      <th></th>\n      <th>min_age_participants</th>\n      <th>max_age_participants</th>\n      <th>avg_age_participants</th>\n    </tr>\n  </thead>\n  <tbody>\n    <tr>\n      <th>count</th>\n      <td>191521.000000</td>\n      <td>191521.000000</td>\n      <td>191521.000000</td>\n    </tr>\n    <tr>\n      <th>mean</th>\n      <td>28.390882</td>\n      <td>31.883956</td>\n      <td>30.066800</td>\n    </tr>\n    <tr>\n      <th>std</th>\n      <td>10.947023</td>\n      <td>12.018413</td>\n      <td>10.919326</td>\n    </tr>\n    <tr>\n      <th>min</th>\n      <td>0.000000</td>\n      <td>0.000000</td>\n      <td>0.000000</td>\n    </tr>\n    <tr>\n      <th>25%</th>\n      <td>21.000000</td>\n      <td>24.000000</td>\n      <td>23.000000</td>\n    </tr>\n    <tr>\n      <th>50%</th>\n      <td>27.772034</td>\n      <td>31.203262</td>\n      <td>29.503719</td>\n    </tr>\n    <tr>\n      <th>75%</th>\n      <td>31.000000</td>\n      <td>35.000000</td>\n      <td>33.000000</td>\n    </tr>\n    <tr>\n      <th>max</th>\n      <td>101.000000</td>\n      <td>101.000000</td>\n      <td>101.000000</td>\n    </tr>\n  </tbody>\n</table>\n</div>"
     },
     "execution_count": 30,
     "metadata": {},
     "output_type": "execute_result"
    }
   ],
   "source": [
    "mean_test[age_columns].describe()"
   ],
   "metadata": {
    "collapsed": false,
    "ExecuteTime": {
     "end_time": "2023-11-25T15:22:05.442192Z",
     "start_time": "2023-11-25T15:22:05.264189500Z"
    }
   },
   "id": "f3c7f239e5159d77"
  },
  {
   "cell_type": "code",
   "execution_count": 31,
   "outputs": [
    {
     "data": {
      "text/plain": "       min_age_participants  max_age_participants  avg_age_participants\ncount         191521.000000         191521.000000         191521.000000\nmean              27.653393             31.085557             29.359402\nstd               11.019483             12.089840             10.985445\nmin                0.000000              0.000000              0.000000\n25%               21.000000             24.000000             23.000000\n50%               25.000000             29.000000             27.000000\n75%               30.000000             35.000000             33.000000\nmax              101.000000            101.000000            101.000000",
      "text/html": "<div>\n<style scoped>\n    .dataframe tbody tr th:only-of-type {\n        vertical-align: middle;\n    }\n\n    .dataframe tbody tr th {\n        vertical-align: top;\n    }\n\n    .dataframe thead th {\n        text-align: right;\n    }\n</style>\n<table border=\"1\" class=\"dataframe\">\n  <thead>\n    <tr style=\"text-align: right;\">\n      <th></th>\n      <th>min_age_participants</th>\n      <th>max_age_participants</th>\n      <th>avg_age_participants</th>\n    </tr>\n  </thead>\n  <tbody>\n    <tr>\n      <th>count</th>\n      <td>191521.000000</td>\n      <td>191521.000000</td>\n      <td>191521.000000</td>\n    </tr>\n    <tr>\n      <th>mean</th>\n      <td>27.653393</td>\n      <td>31.085557</td>\n      <td>29.359402</td>\n    </tr>\n    <tr>\n      <th>std</th>\n      <td>11.019483</td>\n      <td>12.089840</td>\n      <td>10.985445</td>\n    </tr>\n    <tr>\n      <th>min</th>\n      <td>0.000000</td>\n      <td>0.000000</td>\n      <td>0.000000</td>\n    </tr>\n    <tr>\n      <th>25%</th>\n      <td>21.000000</td>\n      <td>24.000000</td>\n      <td>23.000000</td>\n    </tr>\n    <tr>\n      <th>50%</th>\n      <td>25.000000</td>\n      <td>29.000000</td>\n      <td>27.000000</td>\n    </tr>\n    <tr>\n      <th>75%</th>\n      <td>30.000000</td>\n      <td>35.000000</td>\n      <td>33.000000</td>\n    </tr>\n    <tr>\n      <th>max</th>\n      <td>101.000000</td>\n      <td>101.000000</td>\n      <td>101.000000</td>\n    </tr>\n  </tbody>\n</table>\n</div>"
     },
     "execution_count": 31,
     "metadata": {},
     "output_type": "execute_result"
    }
   ],
   "source": [
    "median_test[age_columns].describe()"
   ],
   "metadata": {
    "collapsed": false,
    "ExecuteTime": {
     "end_time": "2023-11-25T15:22:05.444195500Z",
     "start_time": "2023-11-25T15:22:05.325190400Z"
    }
   },
   "id": "b842102e978dabab"
  },
  {
   "cell_type": "code",
   "execution_count": 32,
   "outputs": [],
   "source": [
    "# we opt to use the median values\n",
    "incidents = median_test\n",
    "del mean_test\n",
    "del median_test"
   ],
   "metadata": {
    "collapsed": false,
    "ExecuteTime": {
     "end_time": "2023-11-25T15:22:05.456190200Z",
     "start_time": "2023-11-25T15:22:05.391191200Z"
    }
   },
   "id": "9f47bf21da4867e6"
  },
  {
   "cell_type": "markdown",
   "source": [
    "We now try to handle the incident characteristics columns, which contains a lot of different values and nulls, and we try to group them into categories."
   ],
   "metadata": {
    "collapsed": false
   },
   "id": "534809d394e79deb"
  },
  {
   "cell_type": "code",
   "execution_count": 33,
   "outputs": [
    {
     "name": "stdout",
     "output_type": "stream",
     "text": [
      "incident_characteristics1\n",
      "shot - wounded/injured                                                                                  83496\n",
      "shot - dead (murder, accidental, suicide)                                                               42786\n",
      "non-shooting incident                                                                                   33666\n",
      "shots fired - no injuries                                                                               18184\n",
      "institution/group/business                                                                               3370\n",
      "armed robbery with injury/death and/or evidence of dgu found                                             3349\n",
      "possession (gun(s) found during commission of other crimes)                                               997\n",
      "brandishing/flourishing/open carry/lost/found                                                             929\n",
      "drug involvement                                                                                          823\n",
      "home invasion                                                                                             800\n",
      "officer involved incident                                                                                 443\n",
      "atf/le confiscation/raid/arrest                                                                           309\n",
      "gun(s) stolen from owner                                                                                  292\n",
      "car-jacking                                                                                               256\n",
      "NaN                                                                                                       238\n",
      "shots fired, no action (reported, no evidence found)                                                      190\n",
      "domestic violence                                                                                         180\n",
      "accidental shooting                                                                                       179\n",
      "gang involvement                                                                                          136\n",
      "animal shot/killed                                                                                        104\n",
      "school incident                                                                                            91\n",
      "kidnapping/abductions/hostage                                                                              77\n",
      "sex crime involving firearm                                                                                68\n",
      "pistol-whipping                                                                                            63\n",
      "possession of gun by felon or prohibited person                                                            59\n",
      "suicide - attempt                                                                                          57\n",
      "drive-by (car to street, car to car)                                                                       48\n",
      "tsa action                                                                                                 46\n",
      "implied weapon                                                                                             43\n",
      "defensive use                                                                                              35\n",
      "non-aggression incident                                                                                    34\n",
      "suicide^                                                                                                   29\n",
      "criminal act with stolen gun                                                                               25\n",
      "gun at school, no death/injury - elementary/secondary school                                               19\n",
      "murder/suicide                                                                                             19\n",
      "road rage                                                                                                  18\n",
      "bar/club incident - in or around establishment                                                             12\n",
      "attempted murder/suicide (one variable unsuccessful)                                                        7\n",
      "under the influence of alcohol or drugs (only applies to the subject/suspect/perpetrator )                  6\n",
      "lockdown/alert only: no gv incident occurred onsite                                                         6\n",
      "gun shop robbery or burglary                                                                                4\n",
      "stolen/illegally owned gun{s} recovered during arrest/warrant                                               4\n",
      "child involved incident                                                                                     4\n",
      "bb/pellet/replica gun                                                                                       4\n",
      "hate crime                                                                                                  4\n",
      "spree shooting (multiple victims, multiple locations)                                                       3\n",
      "house party                                                                                                 2\n",
      "guns stolen from law enforcement                                                                            2\n",
      "shotspotter                                                                                                 2\n",
      "mass shooting (4+ victims injured or killed excluding the subject/suspect/perpetrator, one location)        1\n",
      "unlawful purchase/sale                                                                                      1\n",
      "gun range/gun shop/gun show shooting                                                                        1\n",
      "Name: count, dtype: int64\n"
     ]
    }
   ],
   "source": [
    "incidents['incident_characteristics1'].unique()\n",
    "\n",
    "value_counts = incidents['incident_characteristics1'].value_counts(dropna=False)\n",
    "print(value_counts)"
   ],
   "metadata": {
    "collapsed": false,
    "ExecuteTime": {
     "end_time": "2023-11-25T15:22:05.491191100Z",
     "start_time": "2023-11-25T15:22:05.420191700Z"
    }
   },
   "id": "3830ae16b747d8ce"
  },
  {
   "cell_type": "code",
   "execution_count": 34,
   "outputs": [
    {
     "data": {
      "text/plain": "         date                 state city_or_county  latitude  longitude  \\\n0  2015-05-02               Indiana   Indianapolis   39.8322   -86.2492   \n1  2017-04-03          Pennsylvania           Kane   41.6645   -78.7856   \n2  2016-11-05              Michigan        Detroit   42.4190   -83.0393   \n3  2016-10-15  District of Columbia     Washington   38.9030   -76.9820   \n4  2014-01-18        North Carolina   Wayne County   35.1847   -77.9527   \n\n   congressional_district  min_age_participants  avg_age_participants  \\\n0                     7.0                  19.0                  19.0   \n1                     5.0                  62.0                  62.0   \n2                    14.0                  25.0                  27.0   \n3                     1.0                  24.0                  25.0   \n4                    13.0                  65.0                  65.0   \n\n   max_age_participants  n_participants_child  ...  n_arrested  n_unharmed  \\\n0                  19.0                   0.0  ...           0           0   \n1                  62.0                   0.0  ...           0           0   \n2                  28.0                   NaN  ...           0           1   \n3                  26.0                   0.0  ...           0           0   \n4                  65.0                   0.0  ...           0           0   \n\n   n_participants                                              notes  \\\n0               1  teen wounded while walking - security guard at...   \n1               1                           shot self after accident   \n2               2                                             1 inj.   \n3               2                                                NaN   \n4               1                                                NaN   \n\n                   incident_characteristics1  incident_characteristics2  year  \\\n0                     shot - wounded/injured                        NaN  2015   \n1  shot - dead (murder, accidental, suicide)                   suicide^  2017   \n2                     shot - wounded/injured                        NaN  2016   \n3                     shot - wounded/injured                        NaN  2016   \n4                     shot - wounded/injured              home invasion  2014   \n\n   month  day     incident_category  \n0      5    2  Non-Deadly Shootings  \n1      4    3      Deadly Shootings  \n2     11    5  Non-Deadly Shootings  \n3     10   15  Non-Deadly Shootings  \n4      1   18  Non-Deadly Shootings  \n\n[5 rows x 26 columns]",
      "text/html": "<div>\n<style scoped>\n    .dataframe tbody tr th:only-of-type {\n        vertical-align: middle;\n    }\n\n    .dataframe tbody tr th {\n        vertical-align: top;\n    }\n\n    .dataframe thead th {\n        text-align: right;\n    }\n</style>\n<table border=\"1\" class=\"dataframe\">\n  <thead>\n    <tr style=\"text-align: right;\">\n      <th></th>\n      <th>date</th>\n      <th>state</th>\n      <th>city_or_county</th>\n      <th>latitude</th>\n      <th>longitude</th>\n      <th>congressional_district</th>\n      <th>min_age_participants</th>\n      <th>avg_age_participants</th>\n      <th>max_age_participants</th>\n      <th>n_participants_child</th>\n      <th>...</th>\n      <th>n_arrested</th>\n      <th>n_unharmed</th>\n      <th>n_participants</th>\n      <th>notes</th>\n      <th>incident_characteristics1</th>\n      <th>incident_characteristics2</th>\n      <th>year</th>\n      <th>month</th>\n      <th>day</th>\n      <th>incident_category</th>\n    </tr>\n  </thead>\n  <tbody>\n    <tr>\n      <th>0</th>\n      <td>2015-05-02</td>\n      <td>Indiana</td>\n      <td>Indianapolis</td>\n      <td>39.8322</td>\n      <td>-86.2492</td>\n      <td>7.0</td>\n      <td>19.0</td>\n      <td>19.0</td>\n      <td>19.0</td>\n      <td>0.0</td>\n      <td>...</td>\n      <td>0</td>\n      <td>0</td>\n      <td>1</td>\n      <td>teen wounded while walking - security guard at...</td>\n      <td>shot - wounded/injured</td>\n      <td>NaN</td>\n      <td>2015</td>\n      <td>5</td>\n      <td>2</td>\n      <td>Non-Deadly Shootings</td>\n    </tr>\n    <tr>\n      <th>1</th>\n      <td>2017-04-03</td>\n      <td>Pennsylvania</td>\n      <td>Kane</td>\n      <td>41.6645</td>\n      <td>-78.7856</td>\n      <td>5.0</td>\n      <td>62.0</td>\n      <td>62.0</td>\n      <td>62.0</td>\n      <td>0.0</td>\n      <td>...</td>\n      <td>0</td>\n      <td>0</td>\n      <td>1</td>\n      <td>shot self after accident</td>\n      <td>shot - dead (murder, accidental, suicide)</td>\n      <td>suicide^</td>\n      <td>2017</td>\n      <td>4</td>\n      <td>3</td>\n      <td>Deadly Shootings</td>\n    </tr>\n    <tr>\n      <th>2</th>\n      <td>2016-11-05</td>\n      <td>Michigan</td>\n      <td>Detroit</td>\n      <td>42.4190</td>\n      <td>-83.0393</td>\n      <td>14.0</td>\n      <td>25.0</td>\n      <td>27.0</td>\n      <td>28.0</td>\n      <td>NaN</td>\n      <td>...</td>\n      <td>0</td>\n      <td>1</td>\n      <td>2</td>\n      <td>1 inj.</td>\n      <td>shot - wounded/injured</td>\n      <td>NaN</td>\n      <td>2016</td>\n      <td>11</td>\n      <td>5</td>\n      <td>Non-Deadly Shootings</td>\n    </tr>\n    <tr>\n      <th>3</th>\n      <td>2016-10-15</td>\n      <td>District of Columbia</td>\n      <td>Washington</td>\n      <td>38.9030</td>\n      <td>-76.9820</td>\n      <td>1.0</td>\n      <td>24.0</td>\n      <td>25.0</td>\n      <td>26.0</td>\n      <td>0.0</td>\n      <td>...</td>\n      <td>0</td>\n      <td>0</td>\n      <td>2</td>\n      <td>NaN</td>\n      <td>shot - wounded/injured</td>\n      <td>NaN</td>\n      <td>2016</td>\n      <td>10</td>\n      <td>15</td>\n      <td>Non-Deadly Shootings</td>\n    </tr>\n    <tr>\n      <th>4</th>\n      <td>2014-01-18</td>\n      <td>North Carolina</td>\n      <td>Wayne County</td>\n      <td>35.1847</td>\n      <td>-77.9527</td>\n      <td>13.0</td>\n      <td>65.0</td>\n      <td>65.0</td>\n      <td>65.0</td>\n      <td>0.0</td>\n      <td>...</td>\n      <td>0</td>\n      <td>0</td>\n      <td>1</td>\n      <td>NaN</td>\n      <td>shot - wounded/injured</td>\n      <td>home invasion</td>\n      <td>2014</td>\n      <td>1</td>\n      <td>18</td>\n      <td>Non-Deadly Shootings</td>\n    </tr>\n  </tbody>\n</table>\n<p>5 rows × 26 columns</p>\n</div>"
     },
     "execution_count": 34,
     "metadata": {},
     "output_type": "execute_result"
    }
   ],
   "source": [
    "# Define the categories including missing incident characteristics\n",
    "category_mapping = {\n",
    "    'Deadly Shootings': [\n",
    "        'shot - dead (murder, accidental, suicide)',\n",
    "        'mass shooting (4+ victims injured or killed excluding the subject/suspect/perpetrator, one location)',\n",
    "        'officer involved incident', 'murder/suicide', 'animal shot/killed', 'suicide^',\n",
    "        'spree shooting (multiple victims, multiple locations)'\n",
    "    ],\n",
    "    'Non-Deadly Shootings': [\n",
    "        'shot - wounded/injured', 'accidental shooting', 'drive-by (car to street, car to car)',\n",
    "        'spree shooting (multiple victims, multiple locations)'\n",
    "    ],\n",
    "    'Shots Fired, no casualties': [\n",
    "        'shots fired - no injuries', 'shots fired, no action (reported, no evidence found)'\n",
    "    ],\n",
    "    'School related incident': [\n",
    "        'school incident', 'gun at school, no death/injury - elementary/secondary school'\n",
    "    ],\n",
    "    'Drug related' : [\n",
    "        'drug involvement',\n",
    "        'under the influence of alcohol or drugs (only applies to the subject/suspect/perpetrator )'\n",
    "    ],\n",
    "    'Property Crime Related to Guns': [\n",
    "        'armed robbery with injury/death and/or evidence of dgu found', 'gun shop robbery or burglary',\n",
    "        'criminal act with stolen gun', 'gun range/gun shop/gun show shooting', 'gun(s) stolen from owner',\n",
    "        'guns stolen from law enforcement'\n",
    "    ],\n",
    "    'Other Gun-Related Crimes': [\n",
    "        'brandishing/flourishing/open carry/lost/found',\n",
    "        'possession (gun(s) found during commission of other crimes)', 'atf/le confiscation/raid/arrest',\n",
    "        'child involved incident', 'unlawful purchase/sale',\n",
    "        'sex crime involving firearm'\n",
    "    ],\n",
    "    'Other Incidents': [\n",
    "        'non-shooting incident', 'institution/group/business',  'home invasion',\n",
    "        'domestic violence', 'gang involvement', 'kidnapping/abductions/hostage', 'pistol-whipping',\n",
    "        'possession of gun by felon or prohibited person',\n",
    "        'tsa action',\n",
    "        'bar/club incident - in or around establishment',\n",
    "        'attempted murder/suicide (one variable unsuccessful)', 'hate crime',\n",
    "        'house party', 'shotspotter',\n",
    "        'lockdown/alert only: no gv incident occurred onsite',\n",
    "        'stolen/illegally owned gun{s} recovered during arrest/warrant'\n",
    "    ],\n",
    "    # 'Unspecified or Miscellaneous Incidents' category includes NaN values\n",
    "    'Unspecified or Miscellaneous Incidents': [np.nan]\n",
    "}\n",
    "\n",
    "\n",
    "# Function to map incident characteristics to category indices\n",
    "def map_to_category(characteristic):\n",
    "    for category, characteristics in category_mapping.items():\n",
    "        if pd.isna(characteristic) and pd.isna(characteristics[0]):\n",
    "            return category\n",
    "        elif characteristic in characteristics:\n",
    "            return category\n",
    "    return 'Unspecified or Miscellaneous Incidents'\n",
    "\n",
    "# Apply the mapping function to create a new column 'category_index'\n",
    "incidents['incident_category'] = incidents['incident_characteristics1'].apply(map_to_category)\n",
    "incidents.head()"
   ],
   "metadata": {
    "collapsed": false,
    "ExecuteTime": {
     "end_time": "2023-11-25T15:22:05.988190200Z",
     "start_time": "2023-11-25T15:22:05.456190200Z"
    }
   },
   "id": "ebc19c9fd4b1b771"
  },
  {
   "cell_type": "code",
   "execution_count": 35,
   "outputs": [
    {
     "ename": "KeyError",
     "evalue": "'category_index'",
     "output_type": "error",
     "traceback": [
      "\u001B[1;31m---------------------------------------------------------------------------\u001B[0m",
      "\u001B[1;31mKeyError\u001B[0m                                  Traceback (most recent call last)",
      "File \u001B[1;32m~\\Desktop\\DataMining\\env\\lib\\site-packages\\pandas\\core\\indexes\\base.py:3790\u001B[0m, in \u001B[0;36mIndex.get_loc\u001B[1;34m(self, key)\u001B[0m\n\u001B[0;32m   3789\u001B[0m \u001B[38;5;28;01mtry\u001B[39;00m:\n\u001B[1;32m-> 3790\u001B[0m     \u001B[38;5;28;01mreturn\u001B[39;00m \u001B[38;5;28;43mself\u001B[39;49m\u001B[38;5;241;43m.\u001B[39;49m\u001B[43m_engine\u001B[49m\u001B[38;5;241;43m.\u001B[39;49m\u001B[43mget_loc\u001B[49m\u001B[43m(\u001B[49m\u001B[43mcasted_key\u001B[49m\u001B[43m)\u001B[49m\n\u001B[0;32m   3791\u001B[0m \u001B[38;5;28;01mexcept\u001B[39;00m \u001B[38;5;167;01mKeyError\u001B[39;00m \u001B[38;5;28;01mas\u001B[39;00m err:\n",
      "File \u001B[1;32mindex.pyx:152\u001B[0m, in \u001B[0;36mpandas._libs.index.IndexEngine.get_loc\u001B[1;34m()\u001B[0m\n",
      "File \u001B[1;32mindex.pyx:181\u001B[0m, in \u001B[0;36mpandas._libs.index.IndexEngine.get_loc\u001B[1;34m()\u001B[0m\n",
      "File \u001B[1;32mpandas\\_libs\\hashtable_class_helper.pxi:7080\u001B[0m, in \u001B[0;36mpandas._libs.hashtable.PyObjectHashTable.get_item\u001B[1;34m()\u001B[0m\n",
      "File \u001B[1;32mpandas\\_libs\\hashtable_class_helper.pxi:7088\u001B[0m, in \u001B[0;36mpandas._libs.hashtable.PyObjectHashTable.get_item\u001B[1;34m()\u001B[0m\n",
      "\u001B[1;31mKeyError\u001B[0m: 'category_index'",
      "\nThe above exception was the direct cause of the following exception:\n",
      "\u001B[1;31mKeyError\u001B[0m                                  Traceback (most recent call last)",
      "Cell \u001B[1;32mIn[35], line 2\u001B[0m\n\u001B[0;32m      1\u001B[0m plt\u001B[38;5;241m.\u001B[39mfigure(figsize\u001B[38;5;241m=\u001B[39m(\u001B[38;5;241m10\u001B[39m, \u001B[38;5;241m8\u001B[39m))\n\u001B[1;32m----> 2\u001B[0m plt\u001B[38;5;241m.\u001B[39mpie(incidents[\u001B[38;5;124m'\u001B[39m\u001B[38;5;124mincident_category\u001B[39m\u001B[38;5;124m'\u001B[39m]\u001B[38;5;241m.\u001B[39mvalue_counts(), labels\u001B[38;5;241m=\u001B[39m\u001B[43mincidents\u001B[49m\u001B[43m[\u001B[49m\u001B[38;5;124;43m'\u001B[39;49m\u001B[38;5;124;43mcategory_index\u001B[39;49m\u001B[38;5;124;43m'\u001B[39;49m\u001B[43m]\u001B[49m\u001B[38;5;241m.\u001B[39munique())\n\u001B[0;32m      3\u001B[0m plt\u001B[38;5;241m.\u001B[39mtitle(\u001B[38;5;124m\"\u001B[39m\u001B[38;5;124mIncident Categories\u001B[39m\u001B[38;5;124m\"\u001B[39m)\n",
      "File \u001B[1;32m~\\Desktop\\DataMining\\env\\lib\\site-packages\\pandas\\core\\frame.py:3893\u001B[0m, in \u001B[0;36mDataFrame.__getitem__\u001B[1;34m(self, key)\u001B[0m\n\u001B[0;32m   3891\u001B[0m \u001B[38;5;28;01mif\u001B[39;00m \u001B[38;5;28mself\u001B[39m\u001B[38;5;241m.\u001B[39mcolumns\u001B[38;5;241m.\u001B[39mnlevels \u001B[38;5;241m>\u001B[39m \u001B[38;5;241m1\u001B[39m:\n\u001B[0;32m   3892\u001B[0m     \u001B[38;5;28;01mreturn\u001B[39;00m \u001B[38;5;28mself\u001B[39m\u001B[38;5;241m.\u001B[39m_getitem_multilevel(key)\n\u001B[1;32m-> 3893\u001B[0m indexer \u001B[38;5;241m=\u001B[39m \u001B[38;5;28;43mself\u001B[39;49m\u001B[38;5;241;43m.\u001B[39;49m\u001B[43mcolumns\u001B[49m\u001B[38;5;241;43m.\u001B[39;49m\u001B[43mget_loc\u001B[49m\u001B[43m(\u001B[49m\u001B[43mkey\u001B[49m\u001B[43m)\u001B[49m\n\u001B[0;32m   3894\u001B[0m \u001B[38;5;28;01mif\u001B[39;00m is_integer(indexer):\n\u001B[0;32m   3895\u001B[0m     indexer \u001B[38;5;241m=\u001B[39m [indexer]\n",
      "File \u001B[1;32m~\\Desktop\\DataMining\\env\\lib\\site-packages\\pandas\\core\\indexes\\base.py:3797\u001B[0m, in \u001B[0;36mIndex.get_loc\u001B[1;34m(self, key)\u001B[0m\n\u001B[0;32m   3792\u001B[0m     \u001B[38;5;28;01mif\u001B[39;00m \u001B[38;5;28misinstance\u001B[39m(casted_key, \u001B[38;5;28mslice\u001B[39m) \u001B[38;5;129;01mor\u001B[39;00m (\n\u001B[0;32m   3793\u001B[0m         \u001B[38;5;28misinstance\u001B[39m(casted_key, abc\u001B[38;5;241m.\u001B[39mIterable)\n\u001B[0;32m   3794\u001B[0m         \u001B[38;5;129;01mand\u001B[39;00m \u001B[38;5;28many\u001B[39m(\u001B[38;5;28misinstance\u001B[39m(x, \u001B[38;5;28mslice\u001B[39m) \u001B[38;5;28;01mfor\u001B[39;00m x \u001B[38;5;129;01min\u001B[39;00m casted_key)\n\u001B[0;32m   3795\u001B[0m     ):\n\u001B[0;32m   3796\u001B[0m         \u001B[38;5;28;01mraise\u001B[39;00m InvalidIndexError(key)\n\u001B[1;32m-> 3797\u001B[0m     \u001B[38;5;28;01mraise\u001B[39;00m \u001B[38;5;167;01mKeyError\u001B[39;00m(key) \u001B[38;5;28;01mfrom\u001B[39;00m \u001B[38;5;21;01merr\u001B[39;00m\n\u001B[0;32m   3798\u001B[0m \u001B[38;5;28;01mexcept\u001B[39;00m \u001B[38;5;167;01mTypeError\u001B[39;00m:\n\u001B[0;32m   3799\u001B[0m     \u001B[38;5;66;03m# If we have a listlike key, _check_indexing_error will raise\u001B[39;00m\n\u001B[0;32m   3800\u001B[0m     \u001B[38;5;66;03m#  InvalidIndexError. Otherwise we fall through and re-raise\u001B[39;00m\n\u001B[0;32m   3801\u001B[0m     \u001B[38;5;66;03m#  the TypeError.\u001B[39;00m\n\u001B[0;32m   3802\u001B[0m     \u001B[38;5;28mself\u001B[39m\u001B[38;5;241m.\u001B[39m_check_indexing_error(key)\n",
      "\u001B[1;31mKeyError\u001B[0m: 'category_index'"
     ]
    },
    {
     "data": {
      "text/plain": "<Figure size 1000x800 with 0 Axes>"
     },
     "metadata": {},
     "output_type": "display_data"
    }
   ],
   "source": [
    "plt.figure(figsize=(10, 8))\n",
    "plt.pie(incidents['incident_category'].value_counts(), labels=incidents['category_index'].unique())\n",
    "plt.title(\"Incident Categories\")"
   ],
   "metadata": {
    "collapsed": false,
    "ExecuteTime": {
     "end_time": "2023-11-25T15:22:08.806205400Z",
     "start_time": "2023-11-25T15:22:05.985191700Z"
    }
   },
   "id": "5feaa9254438de43"
  },
  {
   "cell_type": "code",
   "execution_count": null,
   "outputs": [],
   "source": [
    "# we can now drop the incident_characteristics1, incident_characteristics2 columns\n",
    "incidents = incidents.drop(columns=['incident_characteristics1', 'incident_characteristics2'])"
   ],
   "metadata": {
    "collapsed": false,
    "ExecuteTime": {
     "end_time": "2023-11-25T15:22:08.821205500Z",
     "start_time": "2023-11-25T15:22:08.810207200Z"
    }
   },
   "id": "4fe9ead0f23a2526"
  },
  {
   "cell_type": "markdown",
   "source": [
    "# Feature Extraction\n",
    "We extract the following features from the datasets:\n",
    "\n",
    "- **crime_to_poverty**: the ratio between the number of crimes and the number of people living in poverty\n",
    "- **average_age**: the average age of the participants\n",
    "- **average_participants**: the average number of participants\n",
    "- **involved**: the number of participants involved in the incident\n",
    "- **minors_percentage**: the percentage of minors involved in the incident\n",
    "- **par_to_pop**: the ratio between the number of participants and the population\n",
    "- **ktp**: the number of participants killed\n",
    "- **mtp**: the number of participants injured\n",
    "- **ftp**: the number of participants killed by firearm\n",
    "- **atp**: the number of participants injured by firearm\n",
    "- **utp**: the number of participants killed by firearm under 18\n",
    "- **itp**: the number of participants injured by firearm under 18\n",
    "- **num_minors**: the number of minors involved in the incident\n",
    "- **teen_to_m**: ratio between the number of teen participants and the male participants\n",
    "- **teen_to_f**: ratio between the number of teen participants and the female participants "
   ],
   "metadata": {
    "collapsed": false
   },
   "id": "d5696bf993f840c0"
  },
  {
   "cell_type": "code",
   "execution_count": null,
   "outputs": [],
   "source": [
    "from feature_extractors import *\n",
    "\n",
    "df = incidents\n",
    "df2 = poverty\n",
    "df3 = districts\n",
    "df4 = population"
   ],
   "metadata": {
    "collapsed": false,
    "ExecuteTime": {
     "start_time": "2023-11-25T15:22:08.813207700Z"
    }
   },
   "id": "527ce1831d9d28b"
  },
  {
   "cell_type": "code",
   "execution_count": null,
   "outputs": [],
   "source": [
    "df = crime_to_poverty(df, df2)\n",
    "df = average_age(df)\n",
    "df = average_participants(df)\n",
    "df = involved(df)\n",
    "df = minors_percentage(df, df4)\n",
    "df = par_to_pop(df, df4)"
   ],
   "metadata": {
    "collapsed": false,
    "ExecuteTime": {
     "start_time": "2023-11-25T15:22:08.817207600Z"
    }
   },
   "id": "14118c316def505c"
  },
  {
   "cell_type": "code",
   "execution_count": null,
   "outputs": [],
   "source": [
    "df = ktp(df)\n",
    "df = mtp(df)\n",
    "df = ftp(df)\n",
    "df = atp(df)\n",
    "df = utp(df)\n",
    "df = itp(df)"
   ],
   "metadata": {
    "collapsed": false,
    "ExecuteTime": {
     "start_time": "2023-11-25T15:22:08.822208900Z"
    }
   },
   "id": "301b21732798c6b0"
  },
  {
   "cell_type": "code",
   "execution_count": null,
   "outputs": [],
   "source": [
    "df = num_minors(df)\n",
    "df = teen_to_m(df)\n",
    "df = teen_to_f(df)\n",
    "df = ratio_par_to_total(df)"
   ],
   "metadata": {
    "collapsed": false,
    "ExecuteTime": {
     "end_time": "2023-11-25T15:22:08.846207700Z",
     "start_time": "2023-11-25T15:22:08.826205200Z"
    }
   },
   "id": "b878336266bf5903"
  },
  {
   "cell_type": "code",
   "execution_count": null,
   "outputs": [],
   "source": [
    "df"
   ],
   "metadata": {
    "collapsed": false,
    "ExecuteTime": {
     "start_time": "2023-11-25T15:22:08.831205300Z"
    }
   },
   "id": "9070286af247c71e"
  },
  {
   "cell_type": "code",
   "execution_count": null,
   "outputs": [],
   "source": [
    "correlation_matrix = df.select_dtypes(include='number').corr()\n",
    "\n",
    "plt.figure(figsize=(10, 10))\n",
    "sns.heatmap(correlation_matrix, annot=True, cmap='coolwarm', fmt='.2f', linewidths=.5, annot_kws={\"size\": 6})"
   ],
   "metadata": {
    "collapsed": false,
    "ExecuteTime": {
     "start_time": "2023-11-25T15:22:08.835208500Z"
    }
   },
   "id": "277a6224fc65f366"
  },
  {
   "cell_type": "code",
   "execution_count": null,
   "outputs": [],
   "source": [
    "# drop highly correlated features\n",
    "df = df.drop(columns=['min_age_participants', 'max_age_participants'])  # highly correlated with avg_age_participants\n",
    "df = df.drop(columns=['n_participants_teen', 'teen_to_f', 'teen_to_m'])  # highly correlated with n_minors"
   ],
   "metadata": {
    "collapsed": false,
    "ExecuteTime": {
     "start_time": "2023-11-25T15:22:08.839204800Z"
    }
   },
   "id": "91a73166fdb52ba"
  },
  {
   "cell_type": "code",
   "execution_count": null,
   "outputs": [],
   "source": [
    "df.describe()"
   ],
   "metadata": {
    "collapsed": false,
    "ExecuteTime": {
     "start_time": "2023-11-25T15:22:08.843205Z"
    }
   },
   "id": "8dc4a62ef630e21a"
  },
  {
   "cell_type": "code",
   "execution_count": null,
   "outputs": [],
   "source": [
    "correlation_matrix = df.select_dtypes(include='number').corr()\n",
    "\n",
    "plt.figure(figsize=(10, 10))\n",
    "sns.heatmap(correlation_matrix, annot=True, cmap='coolwarm', fmt='.2f', linewidths=.5, annot_kws={\"size\": 6})"
   ],
   "metadata": {
    "collapsed": false,
    "ExecuteTime": {
     "start_time": "2023-11-25T15:22:08.846207700Z"
    }
   },
   "id": "1d81f7e1ea5a8286"
  },
  {
   "cell_type": "code",
   "execution_count": null,
   "outputs": [],
   "source": [],
   "metadata": {
    "collapsed": false,
    "ExecuteTime": {
     "end_time": "2023-11-25T15:22:08.858209Z",
     "start_time": "2023-11-25T15:22:08.848247200Z"
    }
   },
   "id": "bf0343ef683244a9"
  },
  {
   "cell_type": "code",
   "execution_count": null,
   "outputs": [],
   "source": [],
   "metadata": {
    "collapsed": false,
    "ExecuteTime": {
     "start_time": "2023-11-25T15:22:08.850244300Z"
    }
   },
   "id": "c5371a61ec935e0d"
  },
  {
   "cell_type": "code",
   "execution_count": null,
   "outputs": [],
   "source": [],
   "metadata": {
    "collapsed": false,
    "ExecuteTime": {
     "start_time": "2023-11-25T15:22:08.852247900Z"
    }
   },
   "id": "a0e81c14885c4826"
  },
  {
   "cell_type": "code",
   "execution_count": null,
   "outputs": [],
   "source": [],
   "metadata": {
    "collapsed": false,
    "ExecuteTime": {
     "start_time": "2023-11-25T15:22:08.856205400Z"
    }
   },
   "id": "9a493070d2f8a8ec"
  },
  {
   "cell_type": "code",
   "execution_count": null,
   "outputs": [],
   "source": [],
   "metadata": {
    "collapsed": false,
    "ExecuteTime": {
     "end_time": "2023-11-25T15:22:08.859209Z",
     "start_time": "2023-11-25T15:22:08.858209Z"
    }
   },
   "id": "3989e494942e745c"
  },
  {
   "cell_type": "code",
   "execution_count": null,
   "outputs": [],
   "source": [
    "df.to_csv(\"../data/extracted_features.csv\", index=False)"
   ],
   "metadata": {
    "collapsed": false,
    "ExecuteTime": {
     "start_time": "2023-11-25T15:22:08.861209200Z"
    }
   },
   "id": "487053923c2df954"
  }
 ],
 "metadata": {
  "kernelspec": {
   "display_name": "Python 3",
   "language": "python",
   "name": "python3"
  },
  "language_info": {
   "codemirror_mode": {
    "name": "ipython",
    "version": 2
   },
   "file_extension": ".py",
   "mimetype": "text/x-python",
   "name": "python",
   "nbconvert_exporter": "python",
   "pygments_lexer": "ipython2",
   "version": "2.7.6"
  }
 },
 "nbformat": 4,
 "nbformat_minor": 5
}
